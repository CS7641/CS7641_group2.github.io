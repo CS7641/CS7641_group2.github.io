{
 "cells": [
  {
   "cell_type": "code",
   "execution_count": 114,
   "metadata": {
    "colab": {
     "base_uri": "https://localhost:8080/",
     "height": 255
    },
    "id": "UOlehAFvZe1A",
    "outputId": "6b7434c5-ed91-4c32-b5b6-f44a9ce86933"
   },
   "outputs": [
    {
     "name": "stdout",
     "output_type": "stream",
     "text": [
      "['TD', 'TS', 'HU', 'EX', 'WV', 'LO', 'SS', 'SD', 'DB']\n"
     ]
    },
    {
     "name": "stderr",
     "output_type": "stream",
     "text": [
      "/var/folders/p7/fsjbmc_s7tj5x1xnwwn4mtg8rxv65f/T/ipykernel_26585/2953702390.py:9: FutureWarning:\n",
      "\n",
      "The default value of regex will change from True to False in a future version.\n",
      "\n",
      "/var/folders/p7/fsjbmc_s7tj5x1xnwwn4mtg8rxv65f/T/ipykernel_26585/2953702390.py:10: FutureWarning:\n",
      "\n",
      "The default value of regex will change from True to False in a future version.\n",
      "\n"
     ]
    },
    {
     "data": {
      "text/html": [
       "<div>\n",
       "<style scoped>\n",
       "    .dataframe tbody tr th:only-of-type {\n",
       "        vertical-align: middle;\n",
       "    }\n",
       "\n",
       "    .dataframe tbody tr th {\n",
       "        vertical-align: top;\n",
       "    }\n",
       "\n",
       "    .dataframe thead th {\n",
       "        text-align: right;\n",
       "    }\n",
       "</style>\n",
       "<table border=\"1\" class=\"dataframe\">\n",
       "  <thead>\n",
       "    <tr style=\"text-align: right;\">\n",
       "      <th></th>\n",
       "      <th>ID</th>\n",
       "      <th>Name</th>\n",
       "      <th>Date</th>\n",
       "      <th>Time</th>\n",
       "      <th>Event</th>\n",
       "      <th>Status</th>\n",
       "      <th>Latitude</th>\n",
       "      <th>Longitude</th>\n",
       "      <th>Maximum Wind</th>\n",
       "      <th>Minimum Pressure</th>\n",
       "      <th>...</th>\n",
       "      <th>Low Wind NW</th>\n",
       "      <th>Moderate Wind NE</th>\n",
       "      <th>Moderate Wind SE</th>\n",
       "      <th>Moderate Wind SW</th>\n",
       "      <th>Moderate Wind NW</th>\n",
       "      <th>High Wind NE</th>\n",
       "      <th>High Wind SE</th>\n",
       "      <th>High Wind SW</th>\n",
       "      <th>High Wind NW</th>\n",
       "      <th>Status_Str</th>\n",
       "    </tr>\n",
       "  </thead>\n",
       "  <tbody>\n",
       "    <tr>\n",
       "      <th>43104</th>\n",
       "      <td>AL012004</td>\n",
       "      <td>ALEX</td>\n",
       "      <td>20040731</td>\n",
       "      <td>1800</td>\n",
       "      <td></td>\n",
       "      <td>0</td>\n",
       "      <td>30.3</td>\n",
       "      <td>-78.3</td>\n",
       "      <td>25</td>\n",
       "      <td>1010</td>\n",
       "      <td>...</td>\n",
       "      <td>0</td>\n",
       "      <td>0</td>\n",
       "      <td>0</td>\n",
       "      <td>0</td>\n",
       "      <td>0</td>\n",
       "      <td>0</td>\n",
       "      <td>0</td>\n",
       "      <td>0</td>\n",
       "      <td>0</td>\n",
       "      <td>TD</td>\n",
       "    </tr>\n",
       "    <tr>\n",
       "      <th>43105</th>\n",
       "      <td>AL012004</td>\n",
       "      <td>ALEX</td>\n",
       "      <td>20040801</td>\n",
       "      <td>0</td>\n",
       "      <td></td>\n",
       "      <td>0</td>\n",
       "      <td>31.0</td>\n",
       "      <td>-78.8</td>\n",
       "      <td>25</td>\n",
       "      <td>1009</td>\n",
       "      <td>...</td>\n",
       "      <td>0</td>\n",
       "      <td>0</td>\n",
       "      <td>0</td>\n",
       "      <td>0</td>\n",
       "      <td>0</td>\n",
       "      <td>0</td>\n",
       "      <td>0</td>\n",
       "      <td>0</td>\n",
       "      <td>0</td>\n",
       "      <td>TD</td>\n",
       "    </tr>\n",
       "    <tr>\n",
       "      <th>43106</th>\n",
       "      <td>AL012004</td>\n",
       "      <td>ALEX</td>\n",
       "      <td>20040801</td>\n",
       "      <td>600</td>\n",
       "      <td></td>\n",
       "      <td>0</td>\n",
       "      <td>31.5</td>\n",
       "      <td>-79.0</td>\n",
       "      <td>25</td>\n",
       "      <td>1009</td>\n",
       "      <td>...</td>\n",
       "      <td>0</td>\n",
       "      <td>0</td>\n",
       "      <td>0</td>\n",
       "      <td>0</td>\n",
       "      <td>0</td>\n",
       "      <td>0</td>\n",
       "      <td>0</td>\n",
       "      <td>0</td>\n",
       "      <td>0</td>\n",
       "      <td>TD</td>\n",
       "    </tr>\n",
       "    <tr>\n",
       "      <th>43107</th>\n",
       "      <td>AL012004</td>\n",
       "      <td>ALEX</td>\n",
       "      <td>20040801</td>\n",
       "      <td>1200</td>\n",
       "      <td></td>\n",
       "      <td>0</td>\n",
       "      <td>31.6</td>\n",
       "      <td>-79.1</td>\n",
       "      <td>30</td>\n",
       "      <td>1009</td>\n",
       "      <td>...</td>\n",
       "      <td>0</td>\n",
       "      <td>0</td>\n",
       "      <td>0</td>\n",
       "      <td>0</td>\n",
       "      <td>0</td>\n",
       "      <td>0</td>\n",
       "      <td>0</td>\n",
       "      <td>0</td>\n",
       "      <td>0</td>\n",
       "      <td>TD</td>\n",
       "    </tr>\n",
       "    <tr>\n",
       "      <th>43108</th>\n",
       "      <td>AL012004</td>\n",
       "      <td>ALEX</td>\n",
       "      <td>20040801</td>\n",
       "      <td>1800</td>\n",
       "      <td></td>\n",
       "      <td>1</td>\n",
       "      <td>31.6</td>\n",
       "      <td>-79.2</td>\n",
       "      <td>35</td>\n",
       "      <td>1009</td>\n",
       "      <td>...</td>\n",
       "      <td>0</td>\n",
       "      <td>0</td>\n",
       "      <td>0</td>\n",
       "      <td>0</td>\n",
       "      <td>0</td>\n",
       "      <td>0</td>\n",
       "      <td>0</td>\n",
       "      <td>0</td>\n",
       "      <td>0</td>\n",
       "      <td>TS</td>\n",
       "    </tr>\n",
       "  </tbody>\n",
       "</table>\n",
       "<p>5 rows × 23 columns</p>\n",
       "</div>"
      ],
      "text/plain": [
       "             ID  Name      Date  Time Event  Status  Latitude  Longitude  \\\n",
       "43104  AL012004  ALEX  20040731  1800             0      30.3      -78.3   \n",
       "43105  AL012004  ALEX  20040801     0             0      31.0      -78.8   \n",
       "43106  AL012004  ALEX  20040801   600             0      31.5      -79.0   \n",
       "43107  AL012004  ALEX  20040801  1200             0      31.6      -79.1   \n",
       "43108  AL012004  ALEX  20040801  1800             1      31.6      -79.2   \n",
       "\n",
       "       Maximum Wind  Minimum Pressure  ...  Low Wind NW  Moderate Wind NE  \\\n",
       "43104            25              1010  ...            0                 0   \n",
       "43105            25              1009  ...            0                 0   \n",
       "43106            25              1009  ...            0                 0   \n",
       "43107            30              1009  ...            0                 0   \n",
       "43108            35              1009  ...            0                 0   \n",
       "\n",
       "       Moderate Wind SE  Moderate Wind SW  Moderate Wind NW  High Wind NE  \\\n",
       "43104                 0                 0                 0             0   \n",
       "43105                 0                 0                 0             0   \n",
       "43106                 0                 0                 0             0   \n",
       "43107                 0                 0                 0             0   \n",
       "43108                 0                 0                 0             0   \n",
       "\n",
       "       High Wind SE  High Wind SW  High Wind NW  Status_Str  \n",
       "43104             0             0             0          TD  \n",
       "43105             0             0             0          TD  \n",
       "43106             0             0             0          TD  \n",
       "43107             0             0             0          TD  \n",
       "43108             0             0             0          TS  \n",
       "\n",
       "[5 rows x 23 columns]"
      ]
     },
     "execution_count": 114,
     "metadata": {},
     "output_type": "execute_result"
    }
   ],
   "source": [
    "import pandas as pd\n",
    "import matplotlib.pyplot as plt\n",
    "import numpy as np\n",
    "\n",
    "df = pd.read_csv('atlantic.csv')\n",
    "\n",
    "###cleaning data###\n",
    "df = df[df.iloc[:,10]!=-999]\n",
    "df['Latitude'] = df['Latitude'].str.replace('[a-zA-Z]','').astype(float)\n",
    "df['Longitude'] = df['Longitude'].str.replace('[a-zA-Z]','').astype(float)\n",
    "df['Longitude'] = -1*df['Longitude'] #since the longtitude is in the west\n",
    "\n",
    "# strip white space and create status list\n",
    "df['Name'] = df['Name'].apply(lambda x: x.strip())\n",
    "df['Status_Str'] = df['Status'].loc[:]\n",
    "df['Status'] = df['Status'].apply(lambda x: x.strip())\n",
    "status_list = list(pd.unique(df['Status']))\n",
    "print(status_list)\n",
    "\n",
    "status_dict = {'TD': 'Tropical cyclone of tropical depression intensity (< 34 knots)',  \n",
    "               'TS': 'Tropical cyclone of tropical storm intensity (34-63 knots) ', \n",
    "               'HU': 'Tropical cyclone of hurricane intensity (> 64 knots)',  \n",
    "               'EX': 'Extratropical cyclone (of any intensity)',  \n",
    "               'SD': 'Subtropical cyclone of subtropical depression intensity (< 34 knots)',  \n",
    "               'SS': 'Subtropical cyclone of subtropical storm intensity (> 34 knots)',  \n",
    "               'LO': 'A low that is neither a tropical cyclone, a subtropical cyclone, nor an extratropical cyclone (of any intensity)',  \n",
    "               'WV': 'Tropical Wave (of any intensity)  DB – Disturbance (of any intensity)' }\n",
    "\n",
    "# make the status an integer value for classification\n",
    "for i in range(len(status_list)):\n",
    "    df['Status'].replace(status_list[i], i, inplace=True)\n",
    "    \n",
    "df.head()"
   ]
  },
  {
   "cell_type": "code",
   "execution_count": 680,
   "metadata": {
    "tags": []
   },
   "outputs": [],
   "source": [
    "# create array of hurricane ids\n",
    "np.random.seed(0)\n",
    "hurricane_ids = pd.unique(df[df['Status']==2]['ID'])\n",
    "\n",
    "# save ids of 80% of hurricanes for training\n",
    "training_hurricanes = np.random.choice(hurricane_ids, size=int(hurricane_ids.shape[0]*0.8), replace=False)\n",
    "# save remaining 20% for testing\n",
    "test_hurricanes = np.setdiff1d(hurricane_ids, training_hurricanes)"
   ]
  },
  {
   "cell_type": "code",
   "execution_count": 681,
   "metadata": {},
   "outputs": [],
   "source": [
    "# build training sets of hurricanes\n",
    "from sklearn.preprocessing import MinMaxScaler, MaxAbsScaler\n",
    "\n",
    "columns = ['ID', 'Latitude', 'Longitude', 'Maximum Wind', 'Minimum Pressure', 'Low Wind NE',\n",
    "       'Low Wind SE', 'Low Wind SW', 'Low Wind NW', 'Moderate Wind NE',\n",
    "       'Moderate Wind SE', 'Moderate Wind SW', 'Moderate Wind NW',\n",
    "       'High Wind NE', 'High Wind SE', 'High Wind SW', 'High Wind NW']\n",
    "\n",
    "dfx = df[df['Time'].isin([0, 600, 1200, 1800])][columns]\n",
    "data = dfx.to_numpy()\n",
    "data_feat = data[:, 3:]\n",
    "data_label = data[:, 1:3] # lat/lon\n",
    "scaler_feat = MinMaxScaler() #Scaling with MinMaxScaler method\n",
    "scaler_labels = MaxAbsScaler()\n",
    "data[:, 1:3] = scaler_labels.fit_transform(data[:, 1:3])\n",
    "data[:, 3:] = scaler_feat.fit_transform(data[:, 3:])\n",
    "\n",
    "training_feat_sets = []\n",
    "training_label_sets = []\n",
    "for i in training_hurricanes: \n",
    "    d = data[data[:, 0] == i]\n",
    "    # no need to sort by time, df already sorted \n",
    "    feat = d[:, 1:]\n",
    "    feat = feat.astype(np.float)\n",
    "    labels = d[:, 1:3]\n",
    "    labels = labels.astype(np.float)\n",
    "    training_feat_sets.append(feat)\n",
    "    training_label_sets.append(labels)   \n",
    "    \n",
    "test_feat_sets = []\n",
    "test_label_sets = []\n",
    "for i in test_hurricanes: \n",
    "    d = data[data[:, 0] == i]\n",
    "    # no need to sort by time, df already sorted \n",
    "    feat = d[:, 1:]\n",
    "    feat = feat.astype(np.float)\n",
    "    labels = d[:, 1:3]\n",
    "    labels = labels.astype(np.float)\n",
    "    test_feat_sets.append(feat)\n",
    "    test_label_sets.append(labels)   \n"
   ]
  },
  {
   "cell_type": "code",
   "execution_count": 821,
   "metadata": {},
   "outputs": [],
   "source": [
    "from tensorflow.python.keras.models import Sequential\n",
    "from tensorflow.python.keras.layers import LSTM, Dense, Activation, TimeDistributed, Bidirectional, Dropout, ConvLSTM2D, Flatten, LeakyReLU\n",
    "from tensorflow.python.keras.preprocessing.sequence import TimeseriesGenerator\n",
    "\n",
    "# simple model\n",
    "def build_model():\n",
    "    model = Sequential()\n",
    "    model.add(LSTM(5, input_shape=(5, 16),return_sequences=True, recurrent_activation='tanh', recurrent_dropout=0.2))\n",
    "    model.add(Dense(2))\n",
    "\n",
    "    model.compile(loss=\"mse\", optimizer=\"rmsprop\")\n",
    "    return model"
   ]
  },
  {
   "cell_type": "code",
   "execution_count": 815,
   "metadata": {},
   "outputs": [],
   "source": [
    "# 2-Stacked model\n",
    "\n",
    "def build_model():\n",
    "    model = Sequential()\n",
    "    model.add(LSTM(50, input_shape=(None, 16),return_sequences=True, recurrent_dropout=0.2))\n",
    "    model.add(LSTM(50, return_sequences=True, recurrent_dropout=0.2))\n",
    "    model.add(Dense(2))\n",
    "\n",
    "    model.compile(loss=\"mse\", optimizer=\"rmsprop\")\n",
    "    return model"
   ]
  },
  {
   "cell_type": "code",
   "execution_count": 822,
   "metadata": {},
   "outputs": [],
   "source": [
    "model = build_model()\n",
    "for feats, labels in zip(training_feat_sets, training_label_sets):\n",
    "    generator = TimeseriesGenerator(feats, labels, length=5, batch_size=1, reverse=False) \n",
    "    model.fit(generator, epochs=5, verbose=0)  # BEST EPOCHS = 4"
   ]
  },
  {
   "cell_type": "code",
   "execution_count": 823,
   "metadata": {},
   "outputs": [
    {
     "name": "stdout",
     "output_type": "stream",
     "text": [
      "Train Score: 0.0004 MSE\n"
     ]
    }
   ],
   "source": [
    "# print MSE of last hurricane used as test set\n",
    "train_score = model.evaluate(generator, verbose=0)\n",
    "print(f'Train Score: {train_score:.4f} MSE')"
   ]
  },
  {
   "cell_type": "code",
   "execution_count": 828,
   "metadata": {},
   "outputs": [],
   "source": [
    "\n",
    "preds = {i:{'pred':None, 'hold':None, 'score':None, 'test': None} for i in range(len(test_feat_sets))}\n",
    "for i, (feats, labels) in enumerate(zip(test_feat_sets, test_label_sets)):\n",
    "    test_feat_input, _ = np.array_split(feats, 2)\n",
    "    test_label_input, test_label_hold = np.array_split(labels, 2)\n",
    "    preds[i]['hold'] = test_label_hold\n",
    "    preds[i]['test'] = test_label_input\n",
    "#     if test_feat_input.shape[0] > 2:\n",
    "    test_feat_input = test_feat_input[-5:, None,:] # take latest 4 observations -> predict next 4 \n",
    "    preds[i]['score'] = model.evaluate(test_feat_input, test_label_hold[-5:, :], verbose=0)\n",
    "    preds[i]['pred'] = model.predict(test_feat_input)\n",
    "\n",
    "        \n",
    "# test_score = model.evaluate(x_test, y_test_latitude, verbose=0)\n",
    "# print('Test Score: %.4f MSE' % (testScore))"
   ]
  },
  {
   "cell_type": "code",
   "execution_count": 829,
   "metadata": {},
   "outputs": [
    {
     "name": "stdout",
     "output_type": "stream",
     "text": [
      "Test MSE = 0.748479406000115\n"
     ]
    }
   ],
   "source": [
    "test_mse = 0\n",
    "for i in preds:\n",
    "    test_mse += preds[i]['score']\n",
    "print(f'Test MSE = {test_mse}')"
   ]
  },
  {
   "cell_type": "code",
   "execution_count": 833,
   "metadata": {},
   "outputs": [
    {
     "data": {
      "application/vnd.plotly.v1+json": {
       "config": {
        "plotlyServerURL": "https://plot.ly"
       },
       "data": [
        {
         "lat": [
          15.9,
          16,
          16.1,
          16.2,
          16.4,
          16.6,
          16.7,
          16.9,
          17.2,
          17.5,
          18,
          18.5,
          18.9,
          19.2,
          19.5
         ],
         "line": {
          "color": "orange",
          "width": 2
         },
         "lon": [
          -82,
          -82.1,
          -82.3,
          -82.5,
          -83.1,
          -83.9,
          -84.9,
          -86.1,
          -87.2,
          -88.2,
          -89.1,
          -90,
          -90.7,
          -91.1,
          -91.4
         ],
         "mode": "lines",
         "name": "Test Input",
         "showlegend": true,
         "type": "scattergeo"
        },
        {
         "lat": [
          20,
          20.3,
          20.7,
          21.5
         ],
         "lon": [
          -91.6,
          -91.7,
          -91.7,
          -91.9
         ],
         "marker": {
          "color": "blue",
          "size": 5,
          "symbol": "x"
         },
         "mode": "markers",
         "name": "Actual Trajectory",
         "showlegend": true,
         "type": "scattergeo"
        },
        {
         "lat": [
          20.290552139282227,
          20.764177322387695,
          21.326351165771484,
          21.650854110717773,
          21.93573760986328
         ],
         "lon": [
          -86.76449584960938,
          -87.86139678955078,
          -87.40965270996094,
          -88.4477767944336,
          -88.61743927001953
         ],
         "marker": {
          "color": "red",
          "size": 5,
          "symbol": "x"
         },
         "mode": "markers",
         "name": "Predicted Trajectory",
         "showlegend": true,
         "type": "scattergeo"
        },
        {
         "lat": [
          18.3,
          18.6,
          19.3,
          20.9,
          22.3,
          23.9,
          25.1,
          26.4,
          27.6,
          28.5,
          29.6,
          30.8,
          31.6,
          32.4,
          33.2,
          34.6
         ],
         "line": {
          "color": "orange",
          "width": 2
         },
         "lon": [
          -86.7,
          -87.2,
          -87.9,
          -88.5,
          -89,
          -89.7,
          -90.2,
          -90.4,
          -90.5,
          -90.3,
          -90,
          -88.9,
          -88.1,
          -87.2,
          -86.2,
          -84.1
         ],
         "mode": "lines",
         "name": "Test Input",
         "showlegend": false,
         "type": "scattergeo"
        },
        {
         "lat": [
          35.6,
          37.099999999999994,
          37.8,
          38.4
         ],
         "lon": [
          -81.8,
          -80,
          -78.3,
          -76.7
         ],
         "marker": {
          "color": "blue",
          "size": 5,
          "symbol": "x"
         },
         "mode": "markers",
         "name": "Actual Trajectory",
         "showlegend": false,
         "type": "scattergeo"
        },
        {
         "lat": [
          31.631362915039062,
          32.46529769897461,
          33.17711639404297,
          33.89617156982422,
          35.0846061706543
         ],
         "lon": [
          -82.92538452148438,
          -83.11257934570312,
          -82.19035339355469,
          -81.130859375,
          -78.9935531616211
         ],
         "marker": {
          "color": "red",
          "size": 5,
          "symbol": "x"
         },
         "mode": "markers",
         "name": "Predicted Trajectory",
         "showlegend": false,
         "type": "scattergeo"
        },
        {
         "lat": [
          28.8,
          29.3,
          30.4,
          31.8,
          33.4,
          35.1,
          36.7,
          38,
          38.6,
          39.1,
          39.4,
          39.5,
          38.89999999999999,
          38.3,
          38.1,
          38.2
         ],
         "line": {
          "color": "orange",
          "width": 2
         },
         "lon": [
          -68.8,
          -66.9,
          -65.4,
          -64.2,
          -63.50000000000001,
          -62.800000000000004,
          -62,
          -61.3,
          -60.4,
          -59.6,
          -58.7,
          -58,
          -56.70000000000001,
          -54.7,
          -52.5,
          -50.2
         ],
         "mode": "lines",
         "name": "Test Input",
         "showlegend": false,
         "type": "scattergeo"
        },
        {
         "lat": [
          38.6,
          39.5,
          40.50000000000001,
          41.9
         ],
         "lon": [
          -47.5,
          -45.5,
          -43.9,
          -42.9
         ],
         "marker": {
          "color": "blue",
          "size": 5,
          "symbol": "x"
         },
         "mode": "markers",
         "name": "Actual Trajectory",
         "showlegend": false,
         "type": "scattergeo"
        },
        {
         "lat": [
          38.41647720336914,
          37.74619674682617,
          37.04136276245117,
          36.681400299072266,
          37.29025650024414
         ],
         "lon": [
          -53.32754898071289,
          -52.034751892089844,
          -50.17811965942383,
          -47.70536422729492,
          -44.70351791381836
         ],
         "marker": {
          "color": "red",
          "size": 5,
          "symbol": "x"
         },
         "mode": "markers",
         "name": "Predicted Trajectory",
         "showlegend": false,
         "type": "scattergeo"
        },
        {
         "lat": [
          17.8,
          18.6,
          19.8,
          20.9,
          21.8,
          22.8,
          23,
          23.2,
          23.700000000000003,
          24.3,
          24.9,
          25.4,
          25.9,
          26.4
         ],
         "line": {
          "color": "orange",
          "width": 2
         },
         "lon": [
          -83.6,
          -84.6,
          -85.8,
          -87.2,
          -88.8,
          -90.4,
          -92,
          -93.3,
          -94.1,
          -94.9,
          -95.7,
          -96.2,
          -96.7,
          -97.2
         ],
         "mode": "lines",
         "name": "Test Input",
         "showlegend": false,
         "type": "scattergeo"
        },
        {
         "lat": [
          26.5,
          26.7,
          27.199999999999996,
          27.9
         ],
         "lon": [
          -97.8,
          -98.3,
          -98.9,
          -100
         ],
         "marker": {
          "color": "blue",
          "size": 5,
          "symbol": "x"
         },
         "mode": "markers",
         "name": "Actual Trajectory",
         "showlegend": false,
         "type": "scattergeo"
        },
        {
         "lat": [
          25.748811721801758,
          27.3836669921875,
          27.742101669311523,
          28.544782638549805,
          29.509859085083008
         ],
         "lon": [
          -89.74881744384766,
          -89.3168716430664,
          -89.54170989990234,
          -88.8477783203125,
          -90.60584259033203
         ],
         "marker": {
          "color": "red",
          "size": 5,
          "symbol": "x"
         },
         "mode": "markers",
         "name": "Predicted Trajectory",
         "showlegend": false,
         "type": "scattergeo"
        },
        {
         "lat": [
          9.6,
          9.6,
          9.7,
          10,
          10.3,
          10.4,
          10.5,
          10.7,
          10.9,
          10.999999999999998,
          11.2,
          11.5,
          11.7,
          11.9,
          12.3,
          12.8
         ],
         "line": {
          "color": "orange",
          "width": 2
         },
         "lon": [
          -29.3,
          -30.4,
          -31.5,
          -32.6,
          -33.7,
          -34.8,
          -35.9,
          -37.1,
          -38.4,
          -39.5,
          -40.6,
          -41.5,
          -42.5,
          -43.5,
          -44.4,
          -45.3
         ],
         "mode": "lines",
         "name": "Test Input",
         "showlegend": false,
         "type": "scattergeo"
        },
        {
         "lat": [
          13.2,
          13.5,
          13.8,
          14.3
         ],
         "lon": [
          -46.2,
          -47,
          -47.8,
          -48.6
         ],
         "marker": {
          "color": "blue",
          "size": 5,
          "symbol": "x"
         },
         "mode": "markers",
         "name": "Actual Trajectory",
         "showlegend": false,
         "type": "scattergeo"
        },
        {
         "lat": [
          13.644608497619629,
          13.643291473388672,
          13.819544792175293,
          14.539328575134277,
          14.811003684997559
         ],
         "lon": [
          -47.52911376953125,
          -48.29405975341797,
          -48.93758010864258,
          -48.57542419433594,
          -49.54542541503906
         ],
         "marker": {
          "color": "red",
          "size": 5,
          "symbol": "x"
         },
         "mode": "markers",
         "name": "Predicted Trajectory",
         "showlegend": false,
         "type": "scattergeo"
        },
        {
         "lat": [
          10.7,
          10.999999999999998,
          11.4,
          11.8,
          12.4,
          13.2,
          13.8,
          14.2,
          14.7,
          15.2,
          15.4,
          15.6,
          16.2,
          17,
          17.699999999999996,
          18.4,
          19.4,
          20.7,
          21.999999999999996,
          23.1,
          24,
          24.8,
          25.6,
          26.2,
          26.5,
          27.1
         ],
         "line": {
          "color": "orange",
          "width": 2
         },
         "lon": [
          -31.1,
          -31.699999999999996,
          -32.4,
          -33.1,
          -33.9,
          -34.8,
          -35.9,
          -37.4,
          -39.1,
          -40.9,
          -42.6,
          -44.2,
          -45.8,
          -47.5,
          -49,
          -50.4,
          -51.6,
          -52.6,
          -53.6,
          -54.6,
          -55.4,
          -56.4,
          -57.3,
          -58.3,
          -59.29999999999999,
          -60.10000000000001
         ],
         "mode": "lines",
         "name": "Test Input",
         "showlegend": false,
         "type": "scattergeo"
        },
        {
         "lat": [
          27.7,
          28.3,
          28.900000000000002,
          29.6
         ],
         "lon": [
          -60.5,
          -61.00000000000001,
          -60.8,
          -60.2
         ],
         "marker": {
          "color": "blue",
          "size": 5,
          "symbol": "x"
         },
         "mode": "markers",
         "name": "Actual Trajectory",
         "showlegend": false,
         "type": "scattergeo"
        },
        {
         "lat": [
          25.465993881225586,
          26.506919860839844,
          26.86719512939453,
          27.076210021972656,
          28.25565528869629
         ],
         "lon": [
          -55.54334259033203,
          -55.69050216674805,
          -56.64145278930664,
          -57.93618392944336,
          -56.52257537841797
         ],
         "marker": {
          "color": "red",
          "size": 5,
          "symbol": "x"
         },
         "mode": "markers",
         "name": "Predicted Trajectory",
         "showlegend": false,
         "type": "scattergeo"
        },
        {
         "lat": [
          14.1,
          14.7,
          15.4,
          16,
          16.4,
          16.6,
          16.8,
          17,
          17.3,
          17.6,
          18.1,
          18.5,
          19,
          19.3,
          19.6,
          19.9,
          20.3,
          20.9,
          21.5,
          21.7,
          21.9,
          22.7,
          23.8,
          24.4,
          25.1,
          26.2,
          27.1,
          28.1,
          29.3,
          30.4,
          31.3
         ],
         "line": {
          "color": "orange",
          "width": 2
         },
         "lon": [
          -39.4,
          -40,
          -41,
          -42.3,
          -43.5,
          -44.8,
          -46.1,
          -46.9,
          -47.8,
          -48.6,
          -49.7,
          -50.6,
          -51.3,
          -51.9,
          -52.6,
          -53.3,
          -54.3,
          -55.699999999999996,
          -57.1,
          -58.8,
          -60.10000000000001,
          -61.00000000000001,
          -62.3,
          -63.20000000000001,
          -64,
          -64.6,
          -65.3,
          -65.9,
          -66.1,
          -66.2,
          -66.2
         ],
         "mode": "lines",
         "name": "Test Input",
         "showlegend": false,
         "type": "scattergeo"
        },
        {
         "lat": [
          32.4,
          33.6,
          34.9,
          36.3
         ],
         "lon": [
          -65.7,
          -65,
          -64.1,
          -63.20000000000001
         ],
         "marker": {
          "color": "blue",
          "size": 5,
          "symbol": "x"
         },
         "mode": "markers",
         "name": "Actual Trajectory",
         "showlegend": false,
         "type": "scattergeo"
        },
        {
         "lat": [
          26.834054946899414,
          27.761058807373047,
          29.571956634521484,
          32.17859649658203,
          34.13688659667969
         ],
         "lon": [
          -66.88362121582031,
          -66.84114074707031,
          -65.5173110961914,
          -63.19020080566406,
          -62.820133209228516
         ],
         "marker": {
          "color": "red",
          "size": 5,
          "symbol": "x"
         },
         "mode": "markers",
         "name": "Predicted Trajectory",
         "showlegend": false,
         "type": "scattergeo"
        },
        {
         "lat": [
          13.5,
          14.4,
          15.1,
          15.8,
          16.4,
          16.9,
          17.5,
          18.1,
          18.4,
          18.6,
          18.7,
          18.9,
          18.8,
          18.1,
          17.9,
          18,
          17.8,
          18,
          18.3,
          18.8,
          19.2,
          19.7,
          20.7,
          21.6
         ],
         "line": {
          "color": "orange",
          "width": 2
         },
         "lon": [
          -67.4,
          -68.5,
          -69.6,
          -70.5,
          -71.2,
          -71.7,
          -72.1,
          -72.8,
          -73.1,
          -73.4,
          -73.7,
          -74,
          -75.1,
          -75.4,
          -75.7,
          -76.2,
          -77,
          -77.7,
          -78.4,
          -79.2,
          -80,
          -80.8,
          -81.6,
          -82.5
         ],
         "mode": "lines",
         "name": "Test Input",
         "showlegend": false,
         "type": "scattergeo"
        },
        {
         "lat": [
          22.7,
          23.6,
          24.8,
          25.9
         ],
         "lon": [
          -83.5,
          -84.4,
          -85.5,
          -86.7
         ],
         "marker": {
          "color": "blue",
          "size": 5,
          "symbol": "x"
         },
         "mode": "markers",
         "name": "Actual Trajectory",
         "showlegend": false,
         "type": "scattergeo"
        },
        {
         "lat": [
          19.837499618530273,
          20.160444259643555,
          21.72838592529297,
          23.024417877197266,
          23.895904541015625
         ],
         "lon": [
          -79.28536987304688,
          -79.71684265136719,
          -79.36529541015625,
          -79.16307830810547,
          -79.50074768066406
         ],
         "marker": {
          "color": "red",
          "size": 5,
          "symbol": "x"
         },
         "mode": "markers",
         "name": "Predicted Trajectory",
         "showlegend": false,
         "type": "scattergeo"
        },
        {
         "lat": [
          11.8,
          11.7,
          11.7,
          11.8,
          11.9,
          12.4,
          13,
          13.599999999999998,
          14.2,
          14.8,
          15.4,
          16.1,
          16.7,
          17.2,
          17.5,
          17.6,
          17.6,
          17.6,
          17.6,
          17.5,
          17.5,
          17.5,
          17.5,
          17.9
         ],
         "line": {
          "color": "orange",
          "width": 2
         },
         "lon": [
          -24,
          -25.4,
          -26.8,
          -28.000000000000004,
          -29.199999999999996,
          -30.3,
          -31.300000000000004,
          -32.1,
          -32.8,
          -33.5,
          -34.2,
          -34.6,
          -34.9,
          -35.1,
          -34.8,
          -34.5,
          -34.2,
          -33.9,
          -33.6,
          -33.6,
          -33.8,
          -34,
          -34.3,
          -34.7
         ],
         "mode": "lines",
         "name": "Test Input",
         "showlegend": false,
         "type": "scattergeo"
        },
        {
         "lat": [
          18.5,
          19,
          19.2,
          19.2
         ],
         "lon": [
          -35.4,
          -36.3,
          -37.5,
          -38.8
         ],
         "marker": {
          "color": "blue",
          "size": 5,
          "symbol": "x"
         },
         "mode": "markers",
         "name": "Actual Trajectory",
         "showlegend": false,
         "type": "scattergeo"
        },
        {
         "lat": [
          17.036508560180664,
          17.763954162597656,
          17.73491096496582,
          17.71782684326172,
          17.97773551940918
         ],
         "lon": [
          -38.8343505859375,
          -38.320682525634766,
          -38.30332565307617,
          -38.47325134277344,
          -38.70441818237305
         ],
         "marker": {
          "color": "red",
          "size": 5,
          "symbol": "x"
         },
         "mode": "markers",
         "name": "Predicted Trajectory",
         "showlegend": false,
         "type": "scattergeo"
        },
        {
         "lat": [
          21.999999999999996,
          22.7,
          23.5,
          24.3,
          25.1,
          26,
          27.199999999999996
         ],
         "line": {
          "color": "orange",
          "width": 2
         },
         "lon": [
          -61.2,
          -62.4,
          -63.3,
          -64,
          -64.5,
          -65,
          -65.3
         ],
         "mode": "lines",
         "name": "Test Input",
         "showlegend": false,
         "type": "scattergeo"
        },
        {
         "lat": [
          28.7,
          30.2,
          31.7,
          33.1
         ],
         "lon": [
          -65.4,
          -65.2,
          -64.9,
          -63.9
         ],
         "marker": {
          "color": "blue",
          "size": 5,
          "symbol": "x"
         },
         "mode": "markers",
         "name": "Actual Trajectory",
         "showlegend": false,
         "type": "scattergeo"
        },
        {
         "lat": [
          23.1025333404541,
          23.80381202697754,
          24.055509567260742,
          24.933448791503906,
          27.05747413635254
         ],
         "lon": [
          -67.59835052490234,
          -68.0681381225586,
          -66.59544372558594,
          -66.98149871826172,
          -64.24837493896484
         ],
         "marker": {
          "color": "red",
          "size": 5,
          "symbol": "x"
         },
         "mode": "markers",
         "name": "Predicted Trajectory",
         "showlegend": false,
         "type": "scattergeo"
        },
        {
         "lat": [
          27.6,
          29.1,
          30.5,
          31.7,
          32.9,
          33.9,
          34.3,
          34.6,
          34.4,
          34.3,
          34.2,
          34,
          34
         ],
         "line": {
          "color": "orange",
          "width": 2
         },
         "lon": [
          -54.6,
          -55.10000000000001,
          -55.4,
          -55.2,
          -54.400000000000006,
          -53,
          -51.1,
          -49.1,
          -47,
          -45,
          -43.1,
          -41.5,
          -39.6
         ],
         "mode": "lines",
         "name": "Test Input",
         "showlegend": false,
         "type": "scattergeo"
        },
        {
         "lat": [
          34,
          34.3,
          34.7,
          35.2
         ],
         "lon": [
          -37.5,
          -35,
          -32.6,
          -30.6
         ],
         "marker": {
          "color": "blue",
          "size": 5,
          "symbol": "x"
         },
         "mode": "markers",
         "name": "Actual Trajectory",
         "showlegend": false,
         "type": "scattergeo"
        },
        {
         "lat": [
          33.066898345947266,
          33.32835006713867,
          33.047061920166016,
          33.48067855834961,
          33.39018630981445
         ],
         "lon": [
          -42.677059173583984,
          -40.03813934326172,
          -38.320316314697266,
          -34.22016525268555,
          -31.742103576660156
         ],
         "marker": {
          "color": "red",
          "size": 5,
          "symbol": "x"
         },
         "mode": "markers",
         "name": "Predicted Trajectory",
         "showlegend": false,
         "type": "scattergeo"
        },
        {
         "lat": [
          12.9,
          13.599999999999998,
          14.6,
          15.6,
          16.6,
          17.2,
          17.699999999999996,
          18.2,
          18.8,
          19.3,
          19.7,
          20.2,
          20.8,
          21.3,
          21.8,
          22.2,
          22.4,
          22.5,
          22.4,
          22.4,
          22.4,
          22.4,
          22.3,
          22.4,
          22.8,
          23.3,
          23.9,
          24.7
         ],
         "line": {
          "color": "orange",
          "width": 2
         },
         "lon": [
          -33.5,
          -34.5,
          -35.5,
          -36.8,
          -38.4,
          -39.8,
          -40.5,
          -41.6,
          -42.8,
          -43.5,
          -44.2,
          -45,
          -46,
          -47.2,
          -48.3,
          -49.9,
          -50.9,
          -52,
          -52.9,
          -53.7,
          -54.8,
          -55.699999999999996,
          -56.5,
          -57.2,
          -58.1,
          -59.29999999999999,
          -60.4,
          -61.70000000000001
         ],
         "mode": "lines",
         "name": "Test Input",
         "showlegend": false,
         "type": "scattergeo"
        },
        {
         "lat": [
          25.4,
          26.299999999999997,
          27.199999999999996,
          27.9
         ],
         "lon": [
          -62.9,
          -63.8,
          -65.1,
          -66.3
         ],
         "marker": {
          "color": "blue",
          "size": 5,
          "symbol": "x"
         },
         "mode": "markers",
         "name": "Actual Trajectory",
         "showlegend": false,
         "type": "scattergeo"
        },
        {
         "lat": [
          21.698352813720703,
          22.0850772857666,
          22.639867782592773,
          23.160236358642578,
          23.94814109802246
         ],
         "lon": [
          -58.14855194091797,
          -58.93061065673828,
          -60.58308792114258,
          -61.50999450683594,
          -62.62299728393555
         ],
         "marker": {
          "color": "red",
          "size": 5,
          "symbol": "x"
         },
         "mode": "markers",
         "name": "Predicted Trajectory",
         "showlegend": false,
         "type": "scattergeo"
        },
        {
         "lat": [
          17.2,
          17.3,
          17.5,
          17.8,
          18.2,
          18.7,
          19.3,
          19.8,
          20.2,
          20.6,
          21.100000000000005,
          21.8,
          22.4,
          23,
          23.4,
          23.6,
          23.6,
          23.5,
          23.2,
          22.8,
          22.4,
          21.9,
          21.5,
          21.2,
          21.100000000000005,
          21,
          21,
          21.100000000000005,
          21.100000000000005
         ],
         "line": {
          "color": "orange",
          "width": 2
         },
         "lon": [
          -37,
          -38.4,
          -39.9,
          -41.3,
          -42.8,
          -44.3,
          -45.8,
          -47.3,
          -48.8,
          -50.3,
          -51.9,
          -53.50000000000001,
          -54.99999999999999,
          -56.4,
          -57.7,
          -59,
          -60.4,
          -61.900000000000006,
          -63.39999999999999,
          -64.9,
          -66.3,
          -67.7,
          -69,
          -70.3,
          -71.6,
          -72.8,
          -74,
          -75.2,
          -76.5
         ],
         "mode": "lines",
         "name": "Test Input",
         "showlegend": false,
         "type": "scattergeo"
        },
        {
         "lat": [
          21.100000000000005,
          21.2,
          21.5,
          21.999999999999996
         ],
         "lon": [
          -77.8,
          -79.1,
          -80.3,
          -81.4
         ],
         "marker": {
          "color": "blue",
          "size": 5,
          "symbol": "x"
         },
         "mode": "markers",
         "name": "Actual Trajectory",
         "showlegend": false,
         "type": "scattergeo"
        },
        {
         "lat": [
          22.97392463684082,
          23.261409759521484,
          23.832393646240234,
          24.088218688964844,
          24.83463478088379
         ],
         "lon": [
          -69.7297592163086,
          -70.86844635009766,
          -71.78433227539062,
          -72.34357452392578,
          -72.81723022460938
         ],
         "marker": {
          "color": "red",
          "size": 5,
          "symbol": "x"
         },
         "mode": "markers",
         "name": "Predicted Trajectory",
         "showlegend": false,
         "type": "scattergeo"
        },
        {
         "lat": [
          15,
          16,
          16.8,
          17.5,
          17.9,
          18.2,
          18.9,
          19.3,
          19.7,
          20.1,
          20.4,
          20.7,
          21,
          21.3,
          21.9,
          22.7,
          23.5,
          24.1,
          25.4
         ],
         "line": {
          "color": "orange",
          "width": 2
         },
         "lon": [
          -59,
          -60.6,
          -62.2,
          -63.7,
          -65,
          -65.9,
          -67,
          -68,
          -68.8,
          -69.7,
          -70.6,
          -71.2,
          -71.9,
          -72.5,
          -73.3,
          -74.3,
          -75.1,
          -75.9,
          -76.6
         ],
         "mode": "lines",
         "name": "Test Input",
         "showlegend": false,
         "type": "scattergeo"
        },
        {
         "lat": [
          26.5,
          27.7,
          28.8,
          30
         ],
         "lon": [
          -77.2,
          -77.3,
          -77.3,
          -77.4
         ],
         "marker": {
          "color": "blue",
          "size": 5,
          "symbol": "x"
         },
         "mode": "markers",
         "name": "Actual Trajectory",
         "showlegend": false,
         "type": "scattergeo"
        },
        {
         "lat": [
          23.458206176757812,
          24.743148803710938,
          26.732877731323242,
          27.205608367919922,
          29.287961959838867
         ],
         "lon": [
          -72.09042358398438,
          -72.30634307861328,
          -72.56971740722656,
          -73.245361328125,
          -73.60697937011719
         ],
         "marker": {
          "color": "red",
          "size": 5,
          "symbol": "x"
         },
         "mode": "markers",
         "name": "Predicted Trajectory",
         "showlegend": false,
         "type": "scattergeo"
        },
        {
         "lat": [
          12.9,
          13,
          13.1,
          13.2,
          13.3,
          13.4,
          13.5,
          13.599999999999998,
          13.8,
          14.2,
          14.7,
          15.299999999999999,
          16,
          16.5,
          17.1,
          17.6,
          18.1,
          18.8,
          19.6,
          20.4,
          21.2,
          22.1,
          22.899999999999995,
          23.4,
          23.5,
          23.8,
          24.2,
          24.5,
          24.8,
          25
         ],
         "line": {
          "color": "orange",
          "width": 2
         },
         "lon": [
          -27.4,
          -29.600000000000005,
          -31.699999999999996,
          -33.7,
          -35.6,
          -37.5,
          -39.2,
          -40.9,
          -42.6,
          -44.2,
          -45.8,
          -47.4,
          -49,
          -50.6,
          -52.2,
          -53.800000000000004,
          -55.29999999999999,
          -56.79999999999999,
          -58.1,
          -59.400000000000006,
          -60.699999999999996,
          -61.4,
          -61.70000000000001,
          -62.2,
          -62.60000000000001,
          -62.800000000000004,
          -62.60000000000001,
          -62.49999999999999,
          -62.49999999999999,
          -62.60000000000001
         ],
         "mode": "lines",
         "name": "Test Input",
         "showlegend": false,
         "type": "scattergeo"
        },
        {
         "lat": [
          25.2,
          25.4,
          25.6,
          25.8
         ],
         "lon": [
          -62.800000000000004,
          -62.800000000000004,
          -62.800000000000004,
          -62.7
         ],
         "marker": {
          "color": "blue",
          "size": 5,
          "symbol": "x"
         },
         "mode": "markers",
         "name": "Actual Trajectory",
         "showlegend": false,
         "type": "scattergeo"
        },
        {
         "lat": [
          25.19131851196289,
          25.48138427734375,
          26.028310775756836,
          26.46831512451172,
          26.233524322509766
         ],
         "lon": [
          -63.40163040161133,
          -62.64332962036133,
          -62.358551025390625,
          -62.14085388183594,
          -60.95332336425781
         ],
         "marker": {
          "color": "red",
          "size": 5,
          "symbol": "x"
         },
         "mode": "markers",
         "name": "Predicted Trajectory",
         "showlegend": false,
         "type": "scattergeo"
        },
        {
         "lat": [
          12.7,
          12.7,
          12.9,
          13.2,
          13.599999999999998,
          14.2,
          14.8,
          15.5,
          16,
          16.5,
          16.9,
          17.1,
          17.2,
          17.3,
          17.3
         ],
         "line": {
          "color": "orange",
          "width": 2
         },
         "lon": [
          -81,
          -81.2,
          -81.4,
          -81.4,
          -81.4,
          -81.4,
          -81.5,
          -81.7,
          -81.9,
          -82.2,
          -82.6,
          -83,
          -83.2,
          -83.5,
          -83.8
         ],
         "mode": "lines",
         "name": "Test Input",
         "showlegend": false,
         "type": "scattergeo"
        },
        {
         "lat": [
          17.3,
          17.4,
          17.5,
          17.699999999999996
         ],
         "lon": [
          -84.2,
          -84.6,
          -85,
          -85.4
         ],
         "marker": {
          "color": "blue",
          "size": 5,
          "symbol": "x"
         },
         "mode": "markers",
         "name": "Actual Trajectory",
         "showlegend": false,
         "type": "scattergeo"
        },
        {
         "lat": [
          17.796764373779297,
          18.49395751953125,
          18.73204803466797,
          18.825618743896484,
          18.88720703125
         ],
         "lon": [
          -82.41114044189453,
          -81.4026107788086,
          -81.45515441894531,
          -81.48696899414062,
          -81.65068054199219
         ],
         "marker": {
          "color": "red",
          "size": 5,
          "symbol": "x"
         },
         "mode": "markers",
         "name": "Predicted Trajectory",
         "showlegend": false,
         "type": "scattergeo"
        },
        {
         "lat": [
          32.9,
          33,
          33.1,
          33.2,
          33.4,
          33.8,
          34.1
         ],
         "line": {
          "color": "orange",
          "width": 2
         },
         "lon": [
          -20.6,
          -20.3,
          -20.1,
          -20,
          -19.6,
          -19.3,
          -18.9
         ],
         "mode": "lines",
         "name": "Test Input",
         "showlegend": false,
         "type": "scattergeo"
        },
        {
         "lat": [
          34.3,
          34.5,
          34.7,
          35.39999999999999
         ],
         "lon": [
          -18.3,
          -17.2,
          -15.3,
          -12.8
         ],
         "marker": {
          "color": "blue",
          "size": 5,
          "symbol": "x"
         },
         "mode": "markers",
         "name": "Actual Trajectory",
         "showlegend": false,
         "type": "scattergeo"
        },
        {
         "lat": [
          30.048551559448242,
          30.12861442565918,
          30.610424041748047,
          30.714845657348633,
          31.846031188964844
         ],
         "lon": [
          -20.692602157592773,
          -20.719404220581055,
          -19.248485565185547,
          -18.80352210998535,
          -16.626832962036133
         ],
         "marker": {
          "color": "red",
          "size": 5,
          "symbol": "x"
         },
         "mode": "markers",
         "name": "Predicted Trajectory",
         "showlegend": false,
         "type": "scattergeo"
        },
        {
         "lat": [
          17.6,
          17.6,
          17.5,
          17.5,
          17.5,
          17.4,
          16.9,
          16.3,
          16,
          15.8,
          15.7,
          16.2,
          16.6,
          16.6,
          17,
          17.3,
          17.4,
          17.9,
          18.1,
          18.3,
          18.6,
          19.1,
          19.5
         ],
         "line": {
          "color": "orange",
          "width": 2
         },
         "lon": [
          -78.5,
          -78.8,
          -79,
          -79.2,
          -79.4,
          -79.6,
          -79.6,
          -79.7,
          -79.8,
          -79.9,
          -79.9,
          -80.3,
          -81.1,
          -81.8,
          -82.2,
          -82.8,
          -83.4,
          -84,
          -84.7,
          -85.2,
          -85.5,
          -85.8,
          -86.1
         ],
         "mode": "lines",
         "name": "Test Input",
         "showlegend": false,
         "type": "scattergeo"
        },
        {
         "lat": [
          20.1,
          20.3,
          20.6,
          20.8
         ],
         "lon": [
          -86.4,
          -86.7,
          -86.8,
          -87
         ],
         "marker": {
          "color": "blue",
          "size": 5,
          "symbol": "x"
         },
         "mode": "markers",
         "name": "Actual Trajectory",
         "showlegend": false,
         "type": "scattergeo"
        },
        {
         "lat": [
          22.683870315551758,
          22.735885620117188,
          22.70139503479004,
          22.95323371887207,
          23.165550231933594
         ],
         "lon": [
          -79.96461486816406,
          -81.81884002685547,
          -81.21806335449219,
          -81.348876953125,
          -81.42064666748047
         ],
         "marker": {
          "color": "red",
          "size": 5,
          "symbol": "x"
         },
         "mode": "markers",
         "name": "Predicted Trajectory",
         "showlegend": false,
         "type": "scattergeo"
        }
       ],
       "layout": {
        "geo": {
         "center": {
          "lat": 23.364943402326773,
          "lon": -52.71765188469671
         },
         "coastlinewidth": 2,
         "countrycolor": "rgb(204, 204, 204)",
         "lakecolor": "rgb(255, 255, 255)",
         "landcolor": "rgb(204, 204, 204)",
         "lataxis": {
          "dtick": 10,
          "range": [
           0,
           70
          ],
          "showgrid": true
         },
         "lonaxis": {
          "dtick": 20,
          "range": [
           -100,
           20
          ],
          "showgrid": true
         },
         "projection": {
          "rotation": {
           "lon": -52.71765188469671
          },
          "scale": 0.7737824967711981,
          "type": "equirectangular"
         },
         "resolution": 50,
         "showlakes": true,
         "showland": true
        },
        "height": 600,
        "template": {
         "data": {
          "bar": [
           {
            "error_x": {
             "color": "#2a3f5f"
            },
            "error_y": {
             "color": "#2a3f5f"
            },
            "marker": {
             "line": {
              "color": "#E5ECF6",
              "width": 0.5
             },
             "pattern": {
              "fillmode": "overlay",
              "size": 10,
              "solidity": 0.2
             }
            },
            "type": "bar"
           }
          ],
          "barpolar": [
           {
            "marker": {
             "line": {
              "color": "#E5ECF6",
              "width": 0.5
             },
             "pattern": {
              "fillmode": "overlay",
              "size": 10,
              "solidity": 0.2
             }
            },
            "type": "barpolar"
           }
          ],
          "carpet": [
           {
            "aaxis": {
             "endlinecolor": "#2a3f5f",
             "gridcolor": "white",
             "linecolor": "white",
             "minorgridcolor": "white",
             "startlinecolor": "#2a3f5f"
            },
            "baxis": {
             "endlinecolor": "#2a3f5f",
             "gridcolor": "white",
             "linecolor": "white",
             "minorgridcolor": "white",
             "startlinecolor": "#2a3f5f"
            },
            "type": "carpet"
           }
          ],
          "choropleth": [
           {
            "colorbar": {
             "outlinewidth": 0,
             "ticks": ""
            },
            "type": "choropleth"
           }
          ],
          "contour": [
           {
            "colorbar": {
             "outlinewidth": 0,
             "ticks": ""
            },
            "colorscale": [
             [
              0,
              "#0d0887"
             ],
             [
              0.1111111111111111,
              "#46039f"
             ],
             [
              0.2222222222222222,
              "#7201a8"
             ],
             [
              0.3333333333333333,
              "#9c179e"
             ],
             [
              0.4444444444444444,
              "#bd3786"
             ],
             [
              0.5555555555555556,
              "#d8576b"
             ],
             [
              0.6666666666666666,
              "#ed7953"
             ],
             [
              0.7777777777777778,
              "#fb9f3a"
             ],
             [
              0.8888888888888888,
              "#fdca26"
             ],
             [
              1,
              "#f0f921"
             ]
            ],
            "type": "contour"
           }
          ],
          "contourcarpet": [
           {
            "colorbar": {
             "outlinewidth": 0,
             "ticks": ""
            },
            "type": "contourcarpet"
           }
          ],
          "heatmap": [
           {
            "colorbar": {
             "outlinewidth": 0,
             "ticks": ""
            },
            "colorscale": [
             [
              0,
              "#0d0887"
             ],
             [
              0.1111111111111111,
              "#46039f"
             ],
             [
              0.2222222222222222,
              "#7201a8"
             ],
             [
              0.3333333333333333,
              "#9c179e"
             ],
             [
              0.4444444444444444,
              "#bd3786"
             ],
             [
              0.5555555555555556,
              "#d8576b"
             ],
             [
              0.6666666666666666,
              "#ed7953"
             ],
             [
              0.7777777777777778,
              "#fb9f3a"
             ],
             [
              0.8888888888888888,
              "#fdca26"
             ],
             [
              1,
              "#f0f921"
             ]
            ],
            "type": "heatmap"
           }
          ],
          "heatmapgl": [
           {
            "colorbar": {
             "outlinewidth": 0,
             "ticks": ""
            },
            "colorscale": [
             [
              0,
              "#0d0887"
             ],
             [
              0.1111111111111111,
              "#46039f"
             ],
             [
              0.2222222222222222,
              "#7201a8"
             ],
             [
              0.3333333333333333,
              "#9c179e"
             ],
             [
              0.4444444444444444,
              "#bd3786"
             ],
             [
              0.5555555555555556,
              "#d8576b"
             ],
             [
              0.6666666666666666,
              "#ed7953"
             ],
             [
              0.7777777777777778,
              "#fb9f3a"
             ],
             [
              0.8888888888888888,
              "#fdca26"
             ],
             [
              1,
              "#f0f921"
             ]
            ],
            "type": "heatmapgl"
           }
          ],
          "histogram": [
           {
            "marker": {
             "pattern": {
              "fillmode": "overlay",
              "size": 10,
              "solidity": 0.2
             }
            },
            "type": "histogram"
           }
          ],
          "histogram2d": [
           {
            "colorbar": {
             "outlinewidth": 0,
             "ticks": ""
            },
            "colorscale": [
             [
              0,
              "#0d0887"
             ],
             [
              0.1111111111111111,
              "#46039f"
             ],
             [
              0.2222222222222222,
              "#7201a8"
             ],
             [
              0.3333333333333333,
              "#9c179e"
             ],
             [
              0.4444444444444444,
              "#bd3786"
             ],
             [
              0.5555555555555556,
              "#d8576b"
             ],
             [
              0.6666666666666666,
              "#ed7953"
             ],
             [
              0.7777777777777778,
              "#fb9f3a"
             ],
             [
              0.8888888888888888,
              "#fdca26"
             ],
             [
              1,
              "#f0f921"
             ]
            ],
            "type": "histogram2d"
           }
          ],
          "histogram2dcontour": [
           {
            "colorbar": {
             "outlinewidth": 0,
             "ticks": ""
            },
            "colorscale": [
             [
              0,
              "#0d0887"
             ],
             [
              0.1111111111111111,
              "#46039f"
             ],
             [
              0.2222222222222222,
              "#7201a8"
             ],
             [
              0.3333333333333333,
              "#9c179e"
             ],
             [
              0.4444444444444444,
              "#bd3786"
             ],
             [
              0.5555555555555556,
              "#d8576b"
             ],
             [
              0.6666666666666666,
              "#ed7953"
             ],
             [
              0.7777777777777778,
              "#fb9f3a"
             ],
             [
              0.8888888888888888,
              "#fdca26"
             ],
             [
              1,
              "#f0f921"
             ]
            ],
            "type": "histogram2dcontour"
           }
          ],
          "mesh3d": [
           {
            "colorbar": {
             "outlinewidth": 0,
             "ticks": ""
            },
            "type": "mesh3d"
           }
          ],
          "parcoords": [
           {
            "line": {
             "colorbar": {
              "outlinewidth": 0,
              "ticks": ""
             }
            },
            "type": "parcoords"
           }
          ],
          "pie": [
           {
            "automargin": true,
            "type": "pie"
           }
          ],
          "scatter": [
           {
            "marker": {
             "colorbar": {
              "outlinewidth": 0,
              "ticks": ""
             }
            },
            "type": "scatter"
           }
          ],
          "scatter3d": [
           {
            "line": {
             "colorbar": {
              "outlinewidth": 0,
              "ticks": ""
             }
            },
            "marker": {
             "colorbar": {
              "outlinewidth": 0,
              "ticks": ""
             }
            },
            "type": "scatter3d"
           }
          ],
          "scattercarpet": [
           {
            "marker": {
             "colorbar": {
              "outlinewidth": 0,
              "ticks": ""
             }
            },
            "type": "scattercarpet"
           }
          ],
          "scattergeo": [
           {
            "marker": {
             "colorbar": {
              "outlinewidth": 0,
              "ticks": ""
             }
            },
            "type": "scattergeo"
           }
          ],
          "scattergl": [
           {
            "marker": {
             "colorbar": {
              "outlinewidth": 0,
              "ticks": ""
             }
            },
            "type": "scattergl"
           }
          ],
          "scattermapbox": [
           {
            "marker": {
             "colorbar": {
              "outlinewidth": 0,
              "ticks": ""
             }
            },
            "type": "scattermapbox"
           }
          ],
          "scatterpolar": [
           {
            "marker": {
             "colorbar": {
              "outlinewidth": 0,
              "ticks": ""
             }
            },
            "type": "scatterpolar"
           }
          ],
          "scatterpolargl": [
           {
            "marker": {
             "colorbar": {
              "outlinewidth": 0,
              "ticks": ""
             }
            },
            "type": "scatterpolargl"
           }
          ],
          "scatterternary": [
           {
            "marker": {
             "colorbar": {
              "outlinewidth": 0,
              "ticks": ""
             }
            },
            "type": "scatterternary"
           }
          ],
          "surface": [
           {
            "colorbar": {
             "outlinewidth": 0,
             "ticks": ""
            },
            "colorscale": [
             [
              0,
              "#0d0887"
             ],
             [
              0.1111111111111111,
              "#46039f"
             ],
             [
              0.2222222222222222,
              "#7201a8"
             ],
             [
              0.3333333333333333,
              "#9c179e"
             ],
             [
              0.4444444444444444,
              "#bd3786"
             ],
             [
              0.5555555555555556,
              "#d8576b"
             ],
             [
              0.6666666666666666,
              "#ed7953"
             ],
             [
              0.7777777777777778,
              "#fb9f3a"
             ],
             [
              0.8888888888888888,
              "#fdca26"
             ],
             [
              1,
              "#f0f921"
             ]
            ],
            "type": "surface"
           }
          ],
          "table": [
           {
            "cells": {
             "fill": {
              "color": "#EBF0F8"
             },
             "line": {
              "color": "white"
             }
            },
            "header": {
             "fill": {
              "color": "#C8D4E3"
             },
             "line": {
              "color": "white"
             }
            },
            "type": "table"
           }
          ]
         },
         "layout": {
          "annotationdefaults": {
           "arrowcolor": "#2a3f5f",
           "arrowhead": 0,
           "arrowwidth": 1
          },
          "autotypenumbers": "strict",
          "coloraxis": {
           "colorbar": {
            "outlinewidth": 0,
            "ticks": ""
           }
          },
          "colorscale": {
           "diverging": [
            [
             0,
             "#8e0152"
            ],
            [
             0.1,
             "#c51b7d"
            ],
            [
             0.2,
             "#de77ae"
            ],
            [
             0.3,
             "#f1b6da"
            ],
            [
             0.4,
             "#fde0ef"
            ],
            [
             0.5,
             "#f7f7f7"
            ],
            [
             0.6,
             "#e6f5d0"
            ],
            [
             0.7,
             "#b8e186"
            ],
            [
             0.8,
             "#7fbc41"
            ],
            [
             0.9,
             "#4d9221"
            ],
            [
             1,
             "#276419"
            ]
           ],
           "sequential": [
            [
             0,
             "#0d0887"
            ],
            [
             0.1111111111111111,
             "#46039f"
            ],
            [
             0.2222222222222222,
             "#7201a8"
            ],
            [
             0.3333333333333333,
             "#9c179e"
            ],
            [
             0.4444444444444444,
             "#bd3786"
            ],
            [
             0.5555555555555556,
             "#d8576b"
            ],
            [
             0.6666666666666666,
             "#ed7953"
            ],
            [
             0.7777777777777778,
             "#fb9f3a"
            ],
            [
             0.8888888888888888,
             "#fdca26"
            ],
            [
             1,
             "#f0f921"
            ]
           ],
           "sequentialminus": [
            [
             0,
             "#0d0887"
            ],
            [
             0.1111111111111111,
             "#46039f"
            ],
            [
             0.2222222222222222,
             "#7201a8"
            ],
            [
             0.3333333333333333,
             "#9c179e"
            ],
            [
             0.4444444444444444,
             "#bd3786"
            ],
            [
             0.5555555555555556,
             "#d8576b"
            ],
            [
             0.6666666666666666,
             "#ed7953"
            ],
            [
             0.7777777777777778,
             "#fb9f3a"
            ],
            [
             0.8888888888888888,
             "#fdca26"
            ],
            [
             1,
             "#f0f921"
            ]
           ]
          },
          "colorway": [
           "#636efa",
           "#EF553B",
           "#00cc96",
           "#ab63fa",
           "#FFA15A",
           "#19d3f3",
           "#FF6692",
           "#B6E880",
           "#FF97FF",
           "#FECB52"
          ],
          "font": {
           "color": "#2a3f5f"
          },
          "geo": {
           "bgcolor": "white",
           "lakecolor": "white",
           "landcolor": "#E5ECF6",
           "showlakes": true,
           "showland": true,
           "subunitcolor": "white"
          },
          "hoverlabel": {
           "align": "left"
          },
          "hovermode": "closest",
          "mapbox": {
           "style": "light"
          },
          "paper_bgcolor": "white",
          "plot_bgcolor": "#E5ECF6",
          "polar": {
           "angularaxis": {
            "gridcolor": "white",
            "linecolor": "white",
            "ticks": ""
           },
           "bgcolor": "#E5ECF6",
           "radialaxis": {
            "gridcolor": "white",
            "linecolor": "white",
            "ticks": ""
           }
          },
          "scene": {
           "xaxis": {
            "backgroundcolor": "#E5ECF6",
            "gridcolor": "white",
            "gridwidth": 2,
            "linecolor": "white",
            "showbackground": true,
            "ticks": "",
            "zerolinecolor": "white"
           },
           "yaxis": {
            "backgroundcolor": "#E5ECF6",
            "gridcolor": "white",
            "gridwidth": 2,
            "linecolor": "white",
            "showbackground": true,
            "ticks": "",
            "zerolinecolor": "white"
           },
           "zaxis": {
            "backgroundcolor": "#E5ECF6",
            "gridcolor": "white",
            "gridwidth": 2,
            "linecolor": "white",
            "showbackground": true,
            "ticks": "",
            "zerolinecolor": "white"
           }
          },
          "shapedefaults": {
           "line": {
            "color": "#2a3f5f"
           }
          },
          "ternary": {
           "aaxis": {
            "gridcolor": "white",
            "linecolor": "white",
            "ticks": ""
           },
           "baxis": {
            "gridcolor": "white",
            "linecolor": "white",
            "ticks": ""
           },
           "bgcolor": "#E5ECF6",
           "caxis": {
            "gridcolor": "white",
            "linecolor": "white",
            "ticks": ""
           }
          },
          "title": {
           "x": 0.05
          },
          "xaxis": {
           "automargin": true,
           "gridcolor": "white",
           "linecolor": "white",
           "ticks": "",
           "title": {
            "standoff": 15
           },
           "zerolinecolor": "white",
           "zerolinewidth": 2
          },
          "yaxis": {
           "automargin": true,
           "gridcolor": "white",
           "linecolor": "white",
           "ticks": "",
           "title": {
            "standoff": 15
           },
           "zerolinecolor": "white",
           "zerolinewidth": 2
          }
         }
        },
        "title": {
         "text": "Hurricane Trajectory (next 36 hrs)"
        },
        "width": 1000
       }
      },
      "image/png": "[encoded data removed]",
      "text/html": [
       "<div>                            <div id=\"5c9d9606-50eb-474e-a0da-9cc6e06b8214\" class=\"plotly-graph-div\" style=\"height:600px; width:1000px;\"></div>            <script type=\"text/javascript\">                require([\"plotly\"], function(Plotly) {                    window.PLOTLYENV=window.PLOTLYENV || {};                                    if (document.getElementById(\"5c9d9606-50eb-474e-a0da-9cc6e06b8214\")) {                    Plotly.newPlot(                        \"5c9d9606-50eb-474e-a0da-9cc6e06b8214\",                        [{\"lat\":[15.9,16.0,16.1,16.2,16.4,16.6,16.7,16.9,17.2,17.5,18.0,18.5,18.9,19.2,19.5],\"line\":{\"color\":\"orange\",\"width\":2},\"lon\":[-82.0,-82.1,-82.3,-82.5,-83.1,-83.9,-84.9,-86.1,-87.2,-88.2,-89.1,-90.0,-90.7,-91.1,-91.4],\"mode\":\"lines\",\"name\":\"Test Input\",\"showlegend\":true,\"type\":\"scattergeo\"},{\"lat\":[20.0,20.3,20.7,21.5],\"lon\":[-91.6,-91.7,-91.7,-91.9],\"marker\":{\"color\":\"blue\",\"size\":5,\"symbol\":\"x\"},\"mode\":\"markers\",\"name\":\"Actual Trajectory\",\"showlegend\":true,\"type\":\"scattergeo\"},{\"lat\":[20.290552139282227,20.764177322387695,21.326351165771484,21.650854110717773,21.93573760986328],\"lon\":[-86.76449584960938,-87.86139678955078,-87.40965270996094,-88.4477767944336,-88.61743927001953],\"marker\":{\"color\":\"red\",\"size\":5,\"symbol\":\"x\"},\"mode\":\"markers\",\"name\":\"Predicted Trajectory\",\"showlegend\":true,\"type\":\"scattergeo\"},{\"lat\":[18.3,18.6,19.3,20.9,22.3,23.9,25.1,26.4,27.6,28.5,29.6,30.8,31.6,32.4,33.2,34.6],\"line\":{\"color\":\"orange\",\"width\":2},\"lon\":[-86.7,-87.2,-87.9,-88.5,-89.0,-89.7,-90.2,-90.4,-90.5,-90.3,-90.0,-88.9,-88.1,-87.2,-86.2,-84.1],\"mode\":\"lines\",\"name\":\"Test Input\",\"showlegend\":false,\"type\":\"scattergeo\"},{\"lat\":[35.6,37.099999999999994,37.8,38.4],\"lon\":[-81.8,-80.0,-78.3,-76.7],\"marker\":{\"color\":\"blue\",\"size\":5,\"symbol\":\"x\"},\"mode\":\"markers\",\"name\":\"Actual Trajectory\",\"showlegend\":false,\"type\":\"scattergeo\"},{\"lat\":[31.631362915039062,32.46529769897461,33.17711639404297,33.89617156982422,35.0846061706543],\"lon\":[-82.92538452148438,-83.11257934570312,-82.19035339355469,-81.130859375,-78.9935531616211],\"marker\":{\"color\":\"red\",\"size\":5,\"symbol\":\"x\"},\"mode\":\"markers\",\"name\":\"Predicted Trajectory\",\"showlegend\":false,\"type\":\"scattergeo\"},{\"lat\":[28.8,29.3,30.4,31.8,33.4,35.1,36.7,38.0,38.6,39.1,39.4,39.5,38.89999999999999,38.3,38.1,38.2],\"line\":{\"color\":\"orange\",\"width\":2},\"lon\":[-68.8,-66.9,-65.4,-64.2,-63.50000000000001,-62.800000000000004,-62.0,-61.3,-60.4,-59.6,-58.7,-58.0,-56.70000000000001,-54.7,-52.5,-50.2],\"mode\":\"lines\",\"name\":\"Test Input\",\"showlegend\":false,\"type\":\"scattergeo\"},{\"lat\":[38.6,39.5,40.50000000000001,41.9],\"lon\":[-47.5,-45.5,-43.9,-42.9],\"marker\":{\"color\":\"blue\",\"size\":5,\"symbol\":\"x\"},\"mode\":\"markers\",\"name\":\"Actual Trajectory\",\"showlegend\":false,\"type\":\"scattergeo\"},{\"lat\":[38.41647720336914,37.74619674682617,37.04136276245117,36.681400299072266,37.29025650024414],\"lon\":[-53.32754898071289,-52.034751892089844,-50.17811965942383,-47.70536422729492,-44.70351791381836],\"marker\":{\"color\":\"red\",\"size\":5,\"symbol\":\"x\"},\"mode\":\"markers\",\"name\":\"Predicted Trajectory\",\"showlegend\":false,\"type\":\"scattergeo\"},{\"lat\":[17.8,18.6,19.8,20.9,21.8,22.8,23.0,23.2,23.700000000000003,24.3,24.9,25.4,25.9,26.4],\"line\":{\"color\":\"orange\",\"width\":2},\"lon\":[-83.6,-84.6,-85.8,-87.2,-88.8,-90.4,-92.0,-93.3,-94.1,-94.9,-95.7,-96.2,-96.7,-97.2],\"mode\":\"lines\",\"name\":\"Test Input\",\"showlegend\":false,\"type\":\"scattergeo\"},{\"lat\":[26.5,26.7,27.199999999999996,27.9],\"lon\":[-97.8,-98.3,-98.9,-100.0],\"marker\":{\"color\":\"blue\",\"size\":5,\"symbol\":\"x\"},\"mode\":\"markers\",\"name\":\"Actual Trajectory\",\"showlegend\":false,\"type\":\"scattergeo\"},{\"lat\":[25.748811721801758,27.3836669921875,27.742101669311523,28.544782638549805,29.509859085083008],\"lon\":[-89.74881744384766,-89.3168716430664,-89.54170989990234,-88.8477783203125,-90.60584259033203],\"marker\":{\"color\":\"red\",\"size\":5,\"symbol\":\"x\"},\"mode\":\"markers\",\"name\":\"Predicted Trajectory\",\"showlegend\":false,\"type\":\"scattergeo\"},{\"lat\":[9.6,9.6,9.7,10.0,10.3,10.4,10.5,10.7,10.9,10.999999999999998,11.2,11.5,11.7,11.9,12.3,12.8],\"line\":{\"color\":\"orange\",\"width\":2},\"lon\":[-29.3,-30.4,-31.5,-32.6,-33.7,-34.8,-35.9,-37.1,-38.4,-39.5,-40.6,-41.5,-42.5,-43.5,-44.4,-45.3],\"mode\":\"lines\",\"name\":\"Test Input\",\"showlegend\":false,\"type\":\"scattergeo\"},{\"lat\":[13.2,13.5,13.8,14.3],\"lon\":[-46.2,-47.0,-47.8,-48.6],\"marker\":{\"color\":\"blue\",\"size\":5,\"symbol\":\"x\"},\"mode\":\"markers\",\"name\":\"Actual Trajectory\",\"showlegend\":false,\"type\":\"scattergeo\"},{\"lat\":[13.644608497619629,13.643291473388672,13.819544792175293,14.539328575134277,14.811003684997559],\"lon\":[-47.52911376953125,-48.29405975341797,-48.93758010864258,-48.57542419433594,-49.54542541503906],\"marker\":{\"color\":\"red\",\"size\":5,\"symbol\":\"x\"},\"mode\":\"markers\",\"name\":\"Predicted Trajectory\",\"showlegend\":false,\"type\":\"scattergeo\"},{\"lat\":[10.7,10.999999999999998,11.4,11.8,12.4,13.2,13.8,14.2,14.7,15.2,15.4,15.6,16.2,17.0,17.699999999999996,18.4,19.4,20.7,21.999999999999996,23.1,24.0,24.8,25.6,26.2,26.5,27.1],\"line\":{\"color\":\"orange\",\"width\":2},\"lon\":[-31.1,-31.699999999999996,-32.4,-33.1,-33.9,-34.8,-35.9,-37.4,-39.1,-40.9,-42.6,-44.2,-45.8,-47.5,-49.0,-50.4,-51.6,-52.6,-53.6,-54.6,-55.4,-56.4,-57.3,-58.3,-59.29999999999999,-60.10000000000001],\"mode\":\"lines\",\"name\":\"Test Input\",\"showlegend\":false,\"type\":\"scattergeo\"},{\"lat\":[27.7,28.3,28.900000000000002,29.6],\"lon\":[-60.5,-61.00000000000001,-60.8,-60.2],\"marker\":{\"color\":\"blue\",\"size\":5,\"symbol\":\"x\"},\"mode\":\"markers\",\"name\":\"Actual Trajectory\",\"showlegend\":false,\"type\":\"scattergeo\"},{\"lat\":[25.465993881225586,26.506919860839844,26.86719512939453,27.076210021972656,28.25565528869629],\"lon\":[-55.54334259033203,-55.69050216674805,-56.64145278930664,-57.93618392944336,-56.52257537841797],\"marker\":{\"color\":\"red\",\"size\":5,\"symbol\":\"x\"},\"mode\":\"markers\",\"name\":\"Predicted Trajectory\",\"showlegend\":false,\"type\":\"scattergeo\"},{\"lat\":[14.1,14.7,15.4,16.0,16.4,16.6,16.8,17.0,17.3,17.6,18.1,18.5,19.0,19.3,19.6,19.9,20.3,20.9,21.5,21.7,21.9,22.7,23.8,24.4,25.1,26.2,27.1,28.1,29.3,30.4,31.3],\"line\":{\"color\":\"orange\",\"width\":2},\"lon\":[-39.4,-40.0,-41.0,-42.3,-43.5,-44.8,-46.1,-46.9,-47.8,-48.6,-49.7,-50.6,-51.3,-51.9,-52.6,-53.3,-54.3,-55.699999999999996,-57.1,-58.8,-60.10000000000001,-61.00000000000001,-62.3,-63.20000000000001,-64.0,-64.6,-65.3,-65.9,-66.1,-66.2,-66.2],\"mode\":\"lines\",\"name\":\"Test Input\",\"showlegend\":false,\"type\":\"scattergeo\"},{\"lat\":[32.4,33.6,34.9,36.3],\"lon\":[-65.7,-65.0,-64.1,-63.20000000000001],\"marker\":{\"color\":\"blue\",\"size\":5,\"symbol\":\"x\"},\"mode\":\"markers\",\"name\":\"Actual Trajectory\",\"showlegend\":false,\"type\":\"scattergeo\"},{\"lat\":[26.834054946899414,27.761058807373047,29.571956634521484,32.17859649658203,34.13688659667969],\"lon\":[-66.88362121582031,-66.84114074707031,-65.5173110961914,-63.19020080566406,-62.820133209228516],\"marker\":{\"color\":\"red\",\"size\":5,\"symbol\":\"x\"},\"mode\":\"markers\",\"name\":\"Predicted Trajectory\",\"showlegend\":false,\"type\":\"scattergeo\"},{\"lat\":[13.5,14.4,15.1,15.8,16.4,16.9,17.5,18.1,18.4,18.6,18.7,18.9,18.8,18.1,17.9,18.0,17.8,18.0,18.3,18.8,19.2,19.7,20.7,21.6],\"line\":{\"color\":\"orange\",\"width\":2},\"lon\":[-67.4,-68.5,-69.6,-70.5,-71.2,-71.7,-72.1,-72.8,-73.1,-73.4,-73.7,-74.0,-75.1,-75.4,-75.7,-76.2,-77.0,-77.7,-78.4,-79.2,-80.0,-80.8,-81.6,-82.5],\"mode\":\"lines\",\"name\":\"Test Input\",\"showlegend\":false,\"type\":\"scattergeo\"},{\"lat\":[22.7,23.6,24.8,25.9],\"lon\":[-83.5,-84.4,-85.5,-86.7],\"marker\":{\"color\":\"blue\",\"size\":5,\"symbol\":\"x\"},\"mode\":\"markers\",\"name\":\"Actual Trajectory\",\"showlegend\":false,\"type\":\"scattergeo\"},{\"lat\":[19.837499618530273,20.160444259643555,21.72838592529297,23.024417877197266,23.895904541015625],\"lon\":[-79.28536987304688,-79.71684265136719,-79.36529541015625,-79.16307830810547,-79.50074768066406],\"marker\":{\"color\":\"red\",\"size\":5,\"symbol\":\"x\"},\"mode\":\"markers\",\"name\":\"Predicted Trajectory\",\"showlegend\":false,\"type\":\"scattergeo\"},{\"lat\":[11.8,11.7,11.7,11.8,11.9,12.4,13.0,13.599999999999998,14.2,14.8,15.4,16.1,16.7,17.2,17.5,17.6,17.6,17.6,17.6,17.5,17.5,17.5,17.5,17.9],\"line\":{\"color\":\"orange\",\"width\":2},\"lon\":[-24.0,-25.4,-26.8,-28.000000000000004,-29.199999999999996,-30.3,-31.300000000000004,-32.1,-32.8,-33.5,-34.2,-34.6,-34.9,-35.1,-34.8,-34.5,-34.2,-33.9,-33.6,-33.6,-33.8,-34.0,-34.3,-34.7],\"mode\":\"lines\",\"name\":\"Test Input\",\"showlegend\":false,\"type\":\"scattergeo\"},{\"lat\":[18.5,19.0,19.2,19.2],\"lon\":[-35.4,-36.3,-37.5,-38.8],\"marker\":{\"color\":\"blue\",\"size\":5,\"symbol\":\"x\"},\"mode\":\"markers\",\"name\":\"Actual Trajectory\",\"showlegend\":false,\"type\":\"scattergeo\"},{\"lat\":[17.036508560180664,17.763954162597656,17.73491096496582,17.71782684326172,17.97773551940918],\"lon\":[-38.8343505859375,-38.320682525634766,-38.30332565307617,-38.47325134277344,-38.70441818237305],\"marker\":{\"color\":\"red\",\"size\":5,\"symbol\":\"x\"},\"mode\":\"markers\",\"name\":\"Predicted Trajectory\",\"showlegend\":false,\"type\":\"scattergeo\"},{\"lat\":[21.999999999999996,22.7,23.5,24.3,25.1,26.0,27.199999999999996],\"line\":{\"color\":\"orange\",\"width\":2},\"lon\":[-61.2,-62.4,-63.3,-64.0,-64.5,-65.0,-65.3],\"mode\":\"lines\",\"name\":\"Test Input\",\"showlegend\":false,\"type\":\"scattergeo\"},{\"lat\":[28.7,30.2,31.7,33.1],\"lon\":[-65.4,-65.2,-64.9,-63.9],\"marker\":{\"color\":\"blue\",\"size\":5,\"symbol\":\"x\"},\"mode\":\"markers\",\"name\":\"Actual Trajectory\",\"showlegend\":false,\"type\":\"scattergeo\"},{\"lat\":[23.1025333404541,23.80381202697754,24.055509567260742,24.933448791503906,27.05747413635254],\"lon\":[-67.59835052490234,-68.0681381225586,-66.59544372558594,-66.98149871826172,-64.24837493896484],\"marker\":{\"color\":\"red\",\"size\":5,\"symbol\":\"x\"},\"mode\":\"markers\",\"name\":\"Predicted Trajectory\",\"showlegend\":false,\"type\":\"scattergeo\"},{\"lat\":[27.6,29.1,30.5,31.7,32.9,33.9,34.3,34.6,34.4,34.3,34.2,34.0,34.0],\"line\":{\"color\":\"orange\",\"width\":2},\"lon\":[-54.6,-55.10000000000001,-55.4,-55.2,-54.400000000000006,-53.0,-51.1,-49.1,-47.0,-45.0,-43.1,-41.5,-39.6],\"mode\":\"lines\",\"name\":\"Test Input\",\"showlegend\":false,\"type\":\"scattergeo\"},{\"lat\":[34.0,34.3,34.7,35.2],\"lon\":[-37.5,-35.0,-32.6,-30.6],\"marker\":{\"color\":\"blue\",\"size\":5,\"symbol\":\"x\"},\"mode\":\"markers\",\"name\":\"Actual Trajectory\",\"showlegend\":false,\"type\":\"scattergeo\"},{\"lat\":[33.066898345947266,33.32835006713867,33.047061920166016,33.48067855834961,33.39018630981445],\"lon\":[-42.677059173583984,-40.03813934326172,-38.320316314697266,-34.22016525268555,-31.742103576660156],\"marker\":{\"color\":\"red\",\"size\":5,\"symbol\":\"x\"},\"mode\":\"markers\",\"name\":\"Predicted Trajectory\",\"showlegend\":false,\"type\":\"scattergeo\"},{\"lat\":[12.9,13.599999999999998,14.6,15.6,16.6,17.2,17.699999999999996,18.2,18.8,19.3,19.7,20.2,20.8,21.3,21.8,22.2,22.4,22.5,22.4,22.4,22.4,22.4,22.3,22.4,22.8,23.3,23.9,24.7],\"line\":{\"color\":\"orange\",\"width\":2},\"lon\":[-33.5,-34.5,-35.5,-36.8,-38.4,-39.8,-40.5,-41.6,-42.8,-43.5,-44.2,-45.0,-46.0,-47.2,-48.3,-49.9,-50.9,-52.0,-52.9,-53.7,-54.8,-55.699999999999996,-56.5,-57.2,-58.1,-59.29999999999999,-60.4,-61.70000000000001],\"mode\":\"lines\",\"name\":\"Test Input\",\"showlegend\":false,\"type\":\"scattergeo\"},{\"lat\":[25.4,26.299999999999997,27.199999999999996,27.9],\"lon\":[-62.9,-63.8,-65.1,-66.3],\"marker\":{\"color\":\"blue\",\"size\":5,\"symbol\":\"x\"},\"mode\":\"markers\",\"name\":\"Actual Trajectory\",\"showlegend\":false,\"type\":\"scattergeo\"},{\"lat\":[21.698352813720703,22.0850772857666,22.639867782592773,23.160236358642578,23.94814109802246],\"lon\":[-58.14855194091797,-58.93061065673828,-60.58308792114258,-61.50999450683594,-62.62299728393555],\"marker\":{\"color\":\"red\",\"size\":5,\"symbol\":\"x\"},\"mode\":\"markers\",\"name\":\"Predicted Trajectory\",\"showlegend\":false,\"type\":\"scattergeo\"},{\"lat\":[17.2,17.3,17.5,17.8,18.2,18.7,19.3,19.8,20.2,20.6,21.100000000000005,21.8,22.4,23.0,23.4,23.6,23.6,23.5,23.2,22.8,22.4,21.9,21.5,21.2,21.100000000000005,21.0,21.0,21.100000000000005,21.100000000000005],\"line\":{\"color\":\"orange\",\"width\":2},\"lon\":[-37.0,-38.4,-39.9,-41.3,-42.8,-44.3,-45.8,-47.3,-48.8,-50.3,-51.9,-53.50000000000001,-54.99999999999999,-56.4,-57.7,-59.0,-60.4,-61.900000000000006,-63.39999999999999,-64.9,-66.3,-67.7,-69.0,-70.3,-71.6,-72.8,-74.0,-75.2,-76.5],\"mode\":\"lines\",\"name\":\"Test Input\",\"showlegend\":false,\"type\":\"scattergeo\"},{\"lat\":[21.100000000000005,21.2,21.5,21.999999999999996],\"lon\":[-77.8,-79.1,-80.3,-81.4],\"marker\":{\"color\":\"blue\",\"size\":5,\"symbol\":\"x\"},\"mode\":\"markers\",\"name\":\"Actual Trajectory\",\"showlegend\":false,\"type\":\"scattergeo\"},{\"lat\":[22.97392463684082,23.261409759521484,23.832393646240234,24.088218688964844,24.83463478088379],\"lon\":[-69.7297592163086,-70.86844635009766,-71.78433227539062,-72.34357452392578,-72.81723022460938],\"marker\":{\"color\":\"red\",\"size\":5,\"symbol\":\"x\"},\"mode\":\"markers\",\"name\":\"Predicted Trajectory\",\"showlegend\":false,\"type\":\"scattergeo\"},{\"lat\":[15.0,16.0,16.8,17.5,17.9,18.2,18.9,19.3,19.7,20.1,20.4,20.7,21.0,21.3,21.9,22.7,23.5,24.1,25.4],\"line\":{\"color\":\"orange\",\"width\":2},\"lon\":[-59.0,-60.6,-62.2,-63.7,-65.0,-65.9,-67.0,-68.0,-68.8,-69.7,-70.6,-71.2,-71.9,-72.5,-73.3,-74.3,-75.1,-75.9,-76.6],\"mode\":\"lines\",\"name\":\"Test Input\",\"showlegend\":false,\"type\":\"scattergeo\"},{\"lat\":[26.5,27.7,28.8,30.0],\"lon\":[-77.2,-77.3,-77.3,-77.4],\"marker\":{\"color\":\"blue\",\"size\":5,\"symbol\":\"x\"},\"mode\":\"markers\",\"name\":\"Actual Trajectory\",\"showlegend\":false,\"type\":\"scattergeo\"},{\"lat\":[23.458206176757812,24.743148803710938,26.732877731323242,27.205608367919922,29.287961959838867],\"lon\":[-72.09042358398438,-72.30634307861328,-72.56971740722656,-73.245361328125,-73.60697937011719],\"marker\":{\"color\":\"red\",\"size\":5,\"symbol\":\"x\"},\"mode\":\"markers\",\"name\":\"Predicted Trajectory\",\"showlegend\":false,\"type\":\"scattergeo\"},{\"lat\":[12.9,13.0,13.1,13.2,13.3,13.4,13.5,13.599999999999998,13.8,14.2,14.7,15.299999999999999,16.0,16.5,17.1,17.6,18.1,18.8,19.6,20.4,21.2,22.1,22.899999999999995,23.4,23.5,23.8,24.2,24.5,24.8,25.0],\"line\":{\"color\":\"orange\",\"width\":2},\"lon\":[-27.4,-29.600000000000005,-31.699999999999996,-33.7,-35.6,-37.5,-39.2,-40.9,-42.6,-44.2,-45.8,-47.4,-49.0,-50.6,-52.2,-53.800000000000004,-55.29999999999999,-56.79999999999999,-58.1,-59.400000000000006,-60.699999999999996,-61.4,-61.70000000000001,-62.2,-62.60000000000001,-62.800000000000004,-62.60000000000001,-62.49999999999999,-62.49999999999999,-62.60000000000001],\"mode\":\"lines\",\"name\":\"Test Input\",\"showlegend\":false,\"type\":\"scattergeo\"},{\"lat\":[25.2,25.4,25.6,25.8],\"lon\":[-62.800000000000004,-62.800000000000004,-62.800000000000004,-62.7],\"marker\":{\"color\":\"blue\",\"size\":5,\"symbol\":\"x\"},\"mode\":\"markers\",\"name\":\"Actual Trajectory\",\"showlegend\":false,\"type\":\"scattergeo\"},{\"lat\":[25.19131851196289,25.48138427734375,26.028310775756836,26.46831512451172,26.233524322509766],\"lon\":[-63.40163040161133,-62.64332962036133,-62.358551025390625,-62.14085388183594,-60.95332336425781],\"marker\":{\"color\":\"red\",\"size\":5,\"symbol\":\"x\"},\"mode\":\"markers\",\"name\":\"Predicted Trajectory\",\"showlegend\":false,\"type\":\"scattergeo\"},{\"lat\":[12.7,12.7,12.9,13.2,13.599999999999998,14.2,14.8,15.5,16.0,16.5,16.9,17.1,17.2,17.3,17.3],\"line\":{\"color\":\"orange\",\"width\":2},\"lon\":[-81.0,-81.2,-81.4,-81.4,-81.4,-81.4,-81.5,-81.7,-81.9,-82.2,-82.6,-83.0,-83.2,-83.5,-83.8],\"mode\":\"lines\",\"name\":\"Test Input\",\"showlegend\":false,\"type\":\"scattergeo\"},{\"lat\":[17.3,17.4,17.5,17.699999999999996],\"lon\":[-84.2,-84.6,-85.0,-85.4],\"marker\":{\"color\":\"blue\",\"size\":5,\"symbol\":\"x\"},\"mode\":\"markers\",\"name\":\"Actual Trajectory\",\"showlegend\":false,\"type\":\"scattergeo\"},{\"lat\":[17.796764373779297,18.49395751953125,18.73204803466797,18.825618743896484,18.88720703125],\"lon\":[-82.41114044189453,-81.4026107788086,-81.45515441894531,-81.48696899414062,-81.65068054199219],\"marker\":{\"color\":\"red\",\"size\":5,\"symbol\":\"x\"},\"mode\":\"markers\",\"name\":\"Predicted Trajectory\",\"showlegend\":false,\"type\":\"scattergeo\"},{\"lat\":[32.9,33.0,33.1,33.2,33.4,33.8,34.1],\"line\":{\"color\":\"orange\",\"width\":2},\"lon\":[-20.6,-20.3,-20.1,-20.0,-19.6,-19.3,-18.9],\"mode\":\"lines\",\"name\":\"Test Input\",\"showlegend\":false,\"type\":\"scattergeo\"},{\"lat\":[34.3,34.5,34.7,35.39999999999999],\"lon\":[-18.3,-17.2,-15.3,-12.8],\"marker\":{\"color\":\"blue\",\"size\":5,\"symbol\":\"x\"},\"mode\":\"markers\",\"name\":\"Actual Trajectory\",\"showlegend\":false,\"type\":\"scattergeo\"},{\"lat\":[30.048551559448242,30.12861442565918,30.610424041748047,30.714845657348633,31.846031188964844],\"lon\":[-20.692602157592773,-20.719404220581055,-19.248485565185547,-18.80352210998535,-16.626832962036133],\"marker\":{\"color\":\"red\",\"size\":5,\"symbol\":\"x\"},\"mode\":\"markers\",\"name\":\"Predicted Trajectory\",\"showlegend\":false,\"type\":\"scattergeo\"},{\"lat\":[17.6,17.6,17.5,17.5,17.5,17.4,16.9,16.3,16.0,15.8,15.7,16.2,16.6,16.6,17.0,17.3,17.4,17.9,18.1,18.3,18.6,19.1,19.5],\"line\":{\"color\":\"orange\",\"width\":2},\"lon\":[-78.5,-78.8,-79.0,-79.2,-79.4,-79.6,-79.6,-79.7,-79.8,-79.9,-79.9,-80.3,-81.1,-81.8,-82.2,-82.8,-83.4,-84.0,-84.7,-85.2,-85.5,-85.8,-86.1],\"mode\":\"lines\",\"name\":\"Test Input\",\"showlegend\":false,\"type\":\"scattergeo\"},{\"lat\":[20.1,20.3,20.6,20.8],\"lon\":[-86.4,-86.7,-86.8,-87.0],\"marker\":{\"color\":\"blue\",\"size\":5,\"symbol\":\"x\"},\"mode\":\"markers\",\"name\":\"Actual Trajectory\",\"showlegend\":false,\"type\":\"scattergeo\"},{\"lat\":[22.683870315551758,22.735885620117188,22.70139503479004,22.95323371887207,23.165550231933594],\"lon\":[-79.96461486816406,-81.81884002685547,-81.21806335449219,-81.348876953125,-81.42064666748047],\"marker\":{\"color\":\"red\",\"size\":5,\"symbol\":\"x\"},\"mode\":\"markers\",\"name\":\"Predicted Trajectory\",\"showlegend\":false,\"type\":\"scattergeo\"}],                        {\"geo\":{\"coastlinewidth\":2,\"countrycolor\":\"rgb(204, 204, 204)\",\"lakecolor\":\"rgb(255, 255, 255)\",\"landcolor\":\"rgb(204, 204, 204)\",\"lataxis\":{\"dtick\":10,\"range\":[0,70],\"showgrid\":true},\"lonaxis\":{\"dtick\":20,\"range\":[-100,20],\"showgrid\":true},\"projection\":{\"type\":\"equirectangular\"},\"resolution\":50,\"showlakes\":true,\"showland\":true},\"height\":600,\"template\":{\"data\":{\"bar\":[{\"error_x\":{\"color\":\"#2a3f5f\"},\"error_y\":{\"color\":\"#2a3f5f\"},\"marker\":{\"line\":{\"color\":\"#E5ECF6\",\"width\":0.5},\"pattern\":{\"fillmode\":\"overlay\",\"size\":10,\"solidity\":0.2}},\"type\":\"bar\"}],\"barpolar\":[{\"marker\":{\"line\":{\"color\":\"#E5ECF6\",\"width\":0.5},\"pattern\":{\"fillmode\":\"overlay\",\"size\":10,\"solidity\":0.2}},\"type\":\"barpolar\"}],\"carpet\":[{\"aaxis\":{\"endlinecolor\":\"#2a3f5f\",\"gridcolor\":\"white\",\"linecolor\":\"white\",\"minorgridcolor\":\"white\",\"startlinecolor\":\"#2a3f5f\"},\"baxis\":{\"endlinecolor\":\"#2a3f5f\",\"gridcolor\":\"white\",\"linecolor\":\"white\",\"minorgridcolor\":\"white\",\"startlinecolor\":\"#2a3f5f\"},\"type\":\"carpet\"}],\"choropleth\":[{\"colorbar\":{\"outlinewidth\":0,\"ticks\":\"\"},\"type\":\"choropleth\"}],\"contour\":[{\"colorbar\":{\"outlinewidth\":0,\"ticks\":\"\"},\"colorscale\":[[0.0,\"#0d0887\"],[0.1111111111111111,\"#46039f\"],[0.2222222222222222,\"#7201a8\"],[0.3333333333333333,\"#9c179e\"],[0.4444444444444444,\"#bd3786\"],[0.5555555555555556,\"#d8576b\"],[0.6666666666666666,\"#ed7953\"],[0.7777777777777778,\"#fb9f3a\"],[0.8888888888888888,\"#fdca26\"],[1.0,\"#f0f921\"]],\"type\":\"contour\"}],\"contourcarpet\":[{\"colorbar\":{\"outlinewidth\":0,\"ticks\":\"\"},\"type\":\"contourcarpet\"}],\"heatmap\":[{\"colorbar\":{\"outlinewidth\":0,\"ticks\":\"\"},\"colorscale\":[[0.0,\"#0d0887\"],[0.1111111111111111,\"#46039f\"],[0.2222222222222222,\"#7201a8\"],[0.3333333333333333,\"#9c179e\"],[0.4444444444444444,\"#bd3786\"],[0.5555555555555556,\"#d8576b\"],[0.6666666666666666,\"#ed7953\"],[0.7777777777777778,\"#fb9f3a\"],[0.8888888888888888,\"#fdca26\"],[1.0,\"#f0f921\"]],\"type\":\"heatmap\"}],\"heatmapgl\":[{\"colorbar\":{\"outlinewidth\":0,\"ticks\":\"\"},\"colorscale\":[[0.0,\"#0d0887\"],[0.1111111111111111,\"#46039f\"],[0.2222222222222222,\"#7201a8\"],[0.3333333333333333,\"#9c179e\"],[0.4444444444444444,\"#bd3786\"],[0.5555555555555556,\"#d8576b\"],[0.6666666666666666,\"#ed7953\"],[0.7777777777777778,\"#fb9f3a\"],[0.8888888888888888,\"#fdca26\"],[1.0,\"#f0f921\"]],\"type\":\"heatmapgl\"}],\"histogram\":[{\"marker\":{\"pattern\":{\"fillmode\":\"overlay\",\"size\":10,\"solidity\":0.2}},\"type\":\"histogram\"}],\"histogram2d\":[{\"colorbar\":{\"outlinewidth\":0,\"ticks\":\"\"},\"colorscale\":[[0.0,\"#0d0887\"],[0.1111111111111111,\"#46039f\"],[0.2222222222222222,\"#7201a8\"],[0.3333333333333333,\"#9c179e\"],[0.4444444444444444,\"#bd3786\"],[0.5555555555555556,\"#d8576b\"],[0.6666666666666666,\"#ed7953\"],[0.7777777777777778,\"#fb9f3a\"],[0.8888888888888888,\"#fdca26\"],[1.0,\"#f0f921\"]],\"type\":\"histogram2d\"}],\"histogram2dcontour\":[{\"colorbar\":{\"outlinewidth\":0,\"ticks\":\"\"},\"colorscale\":[[0.0,\"#0d0887\"],[0.1111111111111111,\"#46039f\"],[0.2222222222222222,\"#7201a8\"],[0.3333333333333333,\"#9c179e\"],[0.4444444444444444,\"#bd3786\"],[0.5555555555555556,\"#d8576b\"],[0.6666666666666666,\"#ed7953\"],[0.7777777777777778,\"#fb9f3a\"],[0.8888888888888888,\"#fdca26\"],[1.0,\"#f0f921\"]],\"type\":\"histogram2dcontour\"}],\"mesh3d\":[{\"colorbar\":{\"outlinewidth\":0,\"ticks\":\"\"},\"type\":\"mesh3d\"}],\"parcoords\":[{\"line\":{\"colorbar\":{\"outlinewidth\":0,\"ticks\":\"\"}},\"type\":\"parcoords\"}],\"pie\":[{\"automargin\":true,\"type\":\"pie\"}],\"scatter\":[{\"marker\":{\"colorbar\":{\"outlinewidth\":0,\"ticks\":\"\"}},\"type\":\"scatter\"}],\"scatter3d\":[{\"line\":{\"colorbar\":{\"outlinewidth\":0,\"ticks\":\"\"}},\"marker\":{\"colorbar\":{\"outlinewidth\":0,\"ticks\":\"\"}},\"type\":\"scatter3d\"}],\"scattercarpet\":[{\"marker\":{\"colorbar\":{\"outlinewidth\":0,\"ticks\":\"\"}},\"type\":\"scattercarpet\"}],\"scattergeo\":[{\"marker\":{\"colorbar\":{\"outlinewidth\":0,\"ticks\":\"\"}},\"type\":\"scattergeo\"}],\"scattergl\":[{\"marker\":{\"colorbar\":{\"outlinewidth\":0,\"ticks\":\"\"}},\"type\":\"scattergl\"}],\"scattermapbox\":[{\"marker\":{\"colorbar\":{\"outlinewidth\":0,\"ticks\":\"\"}},\"type\":\"scattermapbox\"}],\"scatterpolar\":[{\"marker\":{\"colorbar\":{\"outlinewidth\":0,\"ticks\":\"\"}},\"type\":\"scatterpolar\"}],\"scatterpolargl\":[{\"marker\":{\"colorbar\":{\"outlinewidth\":0,\"ticks\":\"\"}},\"type\":\"scatterpolargl\"}],\"scatterternary\":[{\"marker\":{\"colorbar\":{\"outlinewidth\":0,\"ticks\":\"\"}},\"type\":\"scatterternary\"}],\"surface\":[{\"colorbar\":{\"outlinewidth\":0,\"ticks\":\"\"},\"colorscale\":[[0.0,\"#0d0887\"],[0.1111111111111111,\"#46039f\"],[0.2222222222222222,\"#7201a8\"],[0.3333333333333333,\"#9c179e\"],[0.4444444444444444,\"#bd3786\"],[0.5555555555555556,\"#d8576b\"],[0.6666666666666666,\"#ed7953\"],[0.7777777777777778,\"#fb9f3a\"],[0.8888888888888888,\"#fdca26\"],[1.0,\"#f0f921\"]],\"type\":\"surface\"}],\"table\":[{\"cells\":{\"fill\":{\"color\":\"#EBF0F8\"},\"line\":{\"color\":\"white\"}},\"header\":{\"fill\":{\"color\":\"#C8D4E3\"},\"line\":{\"color\":\"white\"}},\"type\":\"table\"}]},\"layout\":{\"annotationdefaults\":{\"arrowcolor\":\"#2a3f5f\",\"arrowhead\":0,\"arrowwidth\":1},\"autotypenumbers\":\"strict\",\"coloraxis\":{\"colorbar\":{\"outlinewidth\":0,\"ticks\":\"\"}},\"colorscale\":{\"diverging\":[[0,\"#8e0152\"],[0.1,\"#c51b7d\"],[0.2,\"#de77ae\"],[0.3,\"#f1b6da\"],[0.4,\"#fde0ef\"],[0.5,\"#f7f7f7\"],[0.6,\"#e6f5d0\"],[0.7,\"#b8e186\"],[0.8,\"#7fbc41\"],[0.9,\"#4d9221\"],[1,\"#276419\"]],\"sequential\":[[0.0,\"#0d0887\"],[0.1111111111111111,\"#46039f\"],[0.2222222222222222,\"#7201a8\"],[0.3333333333333333,\"#9c179e\"],[0.4444444444444444,\"#bd3786\"],[0.5555555555555556,\"#d8576b\"],[0.6666666666666666,\"#ed7953\"],[0.7777777777777778,\"#fb9f3a\"],[0.8888888888888888,\"#fdca26\"],[1.0,\"#f0f921\"]],\"sequentialminus\":[[0.0,\"#0d0887\"],[0.1111111111111111,\"#46039f\"],[0.2222222222222222,\"#7201a8\"],[0.3333333333333333,\"#9c179e\"],[0.4444444444444444,\"#bd3786\"],[0.5555555555555556,\"#d8576b\"],[0.6666666666666666,\"#ed7953\"],[0.7777777777777778,\"#fb9f3a\"],[0.8888888888888888,\"#fdca26\"],[1.0,\"#f0f921\"]]},\"colorway\":[\"#636efa\",\"#EF553B\",\"#00cc96\",\"#ab63fa\",\"#FFA15A\",\"#19d3f3\",\"#FF6692\",\"#B6E880\",\"#FF97FF\",\"#FECB52\"],\"font\":{\"color\":\"#2a3f5f\"},\"geo\":{\"bgcolor\":\"white\",\"lakecolor\":\"white\",\"landcolor\":\"#E5ECF6\",\"showlakes\":true,\"showland\":true,\"subunitcolor\":\"white\"},\"hoverlabel\":{\"align\":\"left\"},\"hovermode\":\"closest\",\"mapbox\":{\"style\":\"light\"},\"paper_bgcolor\":\"white\",\"plot_bgcolor\":\"#E5ECF6\",\"polar\":{\"angularaxis\":{\"gridcolor\":\"white\",\"linecolor\":\"white\",\"ticks\":\"\"},\"bgcolor\":\"#E5ECF6\",\"radialaxis\":{\"gridcolor\":\"white\",\"linecolor\":\"white\",\"ticks\":\"\"}},\"scene\":{\"xaxis\":{\"backgroundcolor\":\"#E5ECF6\",\"gridcolor\":\"white\",\"gridwidth\":2,\"linecolor\":\"white\",\"showbackground\":true,\"ticks\":\"\",\"zerolinecolor\":\"white\"},\"yaxis\":{\"backgroundcolor\":\"#E5ECF6\",\"gridcolor\":\"white\",\"gridwidth\":2,\"linecolor\":\"white\",\"showbackground\":true,\"ticks\":\"\",\"zerolinecolor\":\"white\"},\"zaxis\":{\"backgroundcolor\":\"#E5ECF6\",\"gridcolor\":\"white\",\"gridwidth\":2,\"linecolor\":\"white\",\"showbackground\":true,\"ticks\":\"\",\"zerolinecolor\":\"white\"}},\"shapedefaults\":{\"line\":{\"color\":\"#2a3f5f\"}},\"ternary\":{\"aaxis\":{\"gridcolor\":\"white\",\"linecolor\":\"white\",\"ticks\":\"\"},\"baxis\":{\"gridcolor\":\"white\",\"linecolor\":\"white\",\"ticks\":\"\"},\"bgcolor\":\"#E5ECF6\",\"caxis\":{\"gridcolor\":\"white\",\"linecolor\":\"white\",\"ticks\":\"\"}},\"title\":{\"x\":0.05},\"xaxis\":{\"automargin\":true,\"gridcolor\":\"white\",\"linecolor\":\"white\",\"ticks\":\"\",\"title\":{\"standoff\":15},\"zerolinecolor\":\"white\",\"zerolinewidth\":2},\"yaxis\":{\"automargin\":true,\"gridcolor\":\"white\",\"linecolor\":\"white\",\"ticks\":\"\",\"title\":{\"standoff\":15},\"zerolinecolor\":\"white\",\"zerolinewidth\":2}}},\"title\":{\"text\":\"Hurricane Trajectory (next 36 hrs)\"},\"width\":1000},                        {\"responsive\": true}                    ).then(function(){\n",
       "                            \n",
       "var gd = document.getElementById('5c9d9606-50eb-474e-a0da-9cc6e06b8214');\n",
       "var x = new MutationObserver(function (mutations, observer) {{\n",
       "        var display = window.getComputedStyle(gd).display;\n",
       "        if (!display || display === 'none') {{\n",
       "            console.log([gd, 'removed!']);\n",
       "            Plotly.purge(gd);\n",
       "            observer.disconnect();\n",
       "        }}\n",
       "}});\n",
       "\n",
       "// Listen for the removal of the full notebook cells\n",
       "var notebookContainer = gd.closest('#notebook-container');\n",
       "if (notebookContainer) {{\n",
       "    x.observe(notebookContainer, {childList: true});\n",
       "}}\n",
       "\n",
       "// Listen for the clearing of the current output cell\n",
       "var outputEl = gd.closest('.output');\n",
       "if (outputEl) {{\n",
       "    x.observe(outputEl, {childList: true});\n",
       "}}\n",
       "\n",
       "                        })                };                });            </script>        </div>"
      ]
     },
     "metadata": {},
     "output_type": "display_data"
    }
   ],
   "source": [
    "import plotly.graph_objects as go\n",
    "from plotly.subplots import make_subplots\n",
    "\n",
    "fig = go.Figure()\n",
    "\n",
    "for i in range(len(test_hurricanes)):\n",
    "    \n",
    "#     legend_bool = \n",
    "    \n",
    "    if isinstance(preds[i]['pred'], type(None)):\n",
    "        continue\n",
    "    coords = scaler_labels.inverse_transform(preds[i]['hold'])\n",
    "    test_coords = scaler_labels.inverse_transform(preds[i]['test'])\n",
    "    pred_coords = preds[i]['pred'][:, 0, :]\n",
    "    pred_coords = scaler_labels.inverse_transform(pred_coords)\n",
    "    fig.add_trace(go.Scattergeo(\n",
    "        lat = test_coords[:, 0],\n",
    "        lon = test_coords[:, 1],\n",
    "        mode = 'lines',\n",
    "        line = dict(\n",
    "            width=2,\n",
    "            color = 'orange',\n",
    "        ), name='Test Input', showlegend = True if i==0 else False,\n",
    "    ))\n",
    "    fig.add_trace(go.Scattergeo(\n",
    "        lat = coords[:4, 0],\n",
    "        lon = coords[:4, 1],\n",
    "        mode = 'markers',\n",
    "        marker = dict(\n",
    "            size=5,\n",
    "            color = 'blue',\n",
    "            symbol='x'\n",
    "        ), name='Actual Trajectory', showlegend = True if i==0 else False,\n",
    "    ))\n",
    "\n",
    "    fig.add_trace(go.Scattergeo(\n",
    "    lat = pred_coords[:, 0],\n",
    "    lon = pred_coords[:, 1],\n",
    "    mode = 'markers',\n",
    "    marker = dict(\n",
    "        size=5,\n",
    "        color = 'red',\n",
    "        symbol='x'\n",
    "    ), name='Predicted Trajectory', showlegend = True if i==0 else False,\n",
    "))\n",
    "\n",
    "fig.update_layout(\n",
    "width=1000, height=600,\n",
    "title_text = 'Hurricane Trajectory (next 36 hrs)',\n",
    "geo = dict(\n",
    "    resolution = 50,\n",
    "    showland = True,\n",
    "    showlakes = True,\n",
    "    landcolor = 'rgb(204, 204, 204)',\n",
    "    countrycolor = 'rgb(204, 204, 204)',\n",
    "    lakecolor = 'rgb(255, 255, 255)',\n",
    "    projection_type = \"equirectangular\",\n",
    "    coastlinewidth = 2,\n",
    "    lataxis = dict(\n",
    "        range = [0, 70],\n",
    "        showgrid = True,\n",
    "        dtick = 10\n",
    "    ),\n",
    "    lonaxis = dict(\n",
    "        range = [-100, 20],\n",
    "        showgrid = True,\n",
    "        dtick = 20\n",
    "    ),))\n",
    "    \n",
    "fig.show()\n"
   ]
  }
 ],
 "metadata": {
  "colab": {
   "collapsed_sections": [],
   "name": "CS7641_project.ipynb",
   "provenance": []
  },
  "kernelspec": {
   "display_name": "Python 3 (ipykernel)",
   "language": "python",
   "name": "python3"
  },
  "language_info": {
   "codemirror_mode": {
    "name": "ipython",
    "version": 3
   },
   "file_extension": ".py",
   "mimetype": "text/x-python",
   "name": "python",
   "nbconvert_exporter": "python",
   "pygments_lexer": "ipython3",
   "version": "3.8.0"
  }
 },
 "nbformat": 4,
 "nbformat_minor": 4
}
