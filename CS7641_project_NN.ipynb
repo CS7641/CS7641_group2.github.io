{
  "nbformat": 4,
  "nbformat_minor": 0,
  "metadata": {
    "colab": {
      "name": "CS7641_project.ipynb",
      "provenance": [],
      "collapsed_sections": []
    },
    "kernelspec": {
      "name": "python3",
      "display_name": "Python 3"
    },
    "language_info": {
      "name": "python"
    }
  },
  "cells": [
    {
      "cell_type": "code",
      "metadata": {
        "id": "yfZ86M9MB-HX",
        "colab": {
          "base_uri": "https://localhost:8080/",
          "height": 17
        },
        "outputId": "2f062c3d-7154-4d0c-9558-985e6c6fed54"
      },
      "source": [
        "from IPython.display import Javascript\n",
        "def resize_colab_cell():\n",
        "  display(Javascript('google.colab.output.setIframeHeight(0, true, {maxHeight: 500000})'))\n",
        "get_ipython().events.register('pre_run_cell', resize_colab_cell)"
      ],
      "execution_count": 6,
      "outputs": [
        {
          "output_type": "display_data",
          "data": {
            "application/javascript": [
              "google.colab.output.setIframeHeight(0, true, {maxHeight: 50000})"
            ],
            "text/plain": [
              "<IPython.core.display.Javascript object>"
            ]
          },
          "metadata": {
            "tags": []
          }
        }
      ]
    },
    {
      "cell_type": "code",
      "metadata": {
        "colab": {
          "base_uri": "https://localhost:8080/",
          "height": 255
        },
        "id": "UOlehAFvZe1A",
        "outputId": "6b7434c5-ed91-4c32-b5b6-f44a9ce86933"
      },
      "source": [
        "import pandas as pd\n",
        "import matplotlib.pyplot as plt\n",
        "import numpy as np\n",
        "\n",
        "df = pd.read_csv('atlantic.csv')\n",
        "\n",
        "###cleaning data###\n",
        "df = df[df.iloc[:,10]!=-999]\n",
        "df['Latitude'] = df['Latitude'].str.replace('[a-zA-Z]','').astype(float)\n",
        "df['Longitude'] = df['Longitude'].str.replace('[a-zA-Z]','').astype(float)\n",
        "df['Longitude'] = -1*df['Longitude'] #since the longtitude is in the west\n",
        "\n",
        "# strip white space and create status list\n",
        "df['Name'] = df['Name'].apply(lambda x: x.strip())\n",
        "df['Status_Str'] = df['Status'].loc[:]\n",
        "df['Status'] = df['Status'].apply(lambda x: x.strip())\n",
        "status_list = list(pd.unique(df['Status']))\n",
        "print(status_list)\n",
        "\n",
        "status_dict = {'TD': 'Tropical cyclone of tropical depression intensity (< 34 knots)',  \n",
        "               'TS': 'Tropical cyclone of tropical storm intensity (34-63 knots) ', \n",
        "               'HU': 'Tropical cyclone of hurricane intensity (> 64 knots)',  \n",
        "               'EX': 'Extratropical cyclone (of any intensity)',  \n",
        "               'SD': 'Subtropical cyclone of subtropical depression intensity (< 34 knots)',  \n",
        "               'SS': 'Subtropical cyclone of subtropical storm intensity (> 34 knots)',  \n",
        "               'LO': 'A low that is neither a tropical cyclone, a subtropical cyclone, nor an extratropical cyclone (of any intensity)',  \n",
        "               'WV': 'Tropical Wave (of any intensity)  DB – Disturbance (of any intensity)' }\n",
        "\n",
        "# make the status an integer value for classification\n",
        "for i in range(len(status_list)):\n",
        "    df['Status'].replace(status_list[i], i, inplace=True)\n",
        "    \n",
        "df.head()"
      ],
      "execution_count": 7,
      "outputs": [
        {
          "output_type": "display_data",
          "data": {
            "application/javascript": [
              "google.colab.output.setIframeHeight(0, true, {maxHeight: 50000})"
            ],
            "text/plain": [
              "<IPython.core.display.Javascript object>"
            ]
          },
          "metadata": {
            "tags": []
          }
        },
        {
          "output_type": "display_data",
          "data": {
            "application/javascript": [
              "google.colab.output.setIframeHeight(0, true, {maxHeight: 500000})"
            ],
            "text/plain": [
              "<IPython.core.display.Javascript object>"
            ]
          },
          "metadata": {
            "tags": []
          }
        },
        {
          "output_type": "stream",
          "text": [
            "['TD', 'TS', 'HU', 'EX', 'WV', 'LO', 'SS', 'SD', 'DB']\n"
          ],
          "name": "stdout"
        },
        {
          "output_type": "execute_result",
          "data": {
            "text/html": [
              "<div>\n",
              "<style scoped>\n",
              "    .dataframe tbody tr th:only-of-type {\n",
              "        vertical-align: middle;\n",
              "    }\n",
              "\n",
              "    .dataframe tbody tr th {\n",
              "        vertical-align: top;\n",
              "    }\n",
              "\n",
              "    .dataframe thead th {\n",
              "        text-align: right;\n",
              "    }\n",
              "</style>\n",
              "<table border=\"1\" class=\"dataframe\">\n",
              "  <thead>\n",
              "    <tr style=\"text-align: right;\">\n",
              "      <th></th>\n",
              "      <th>ID</th>\n",
              "      <th>Name</th>\n",
              "      <th>Date</th>\n",
              "      <th>Time</th>\n",
              "      <th>Event</th>\n",
              "      <th>Status</th>\n",
              "      <th>Latitude</th>\n",
              "      <th>Longitude</th>\n",
              "      <th>Maximum Wind</th>\n",
              "      <th>Minimum Pressure</th>\n",
              "      <th>Low Wind NE</th>\n",
              "      <th>Low Wind SE</th>\n",
              "      <th>Low Wind SW</th>\n",
              "      <th>Low Wind NW</th>\n",
              "      <th>Moderate Wind NE</th>\n",
              "      <th>Moderate Wind SE</th>\n",
              "      <th>Moderate Wind SW</th>\n",
              "      <th>Moderate Wind NW</th>\n",
              "      <th>High Wind NE</th>\n",
              "      <th>High Wind SE</th>\n",
              "      <th>High Wind SW</th>\n",
              "      <th>High Wind NW</th>\n",
              "      <th>Status_Str</th>\n",
              "    </tr>\n",
              "  </thead>\n",
              "  <tbody>\n",
              "    <tr>\n",
              "      <th>43104</th>\n",
              "      <td>AL012004</td>\n",
              "      <td>ALEX</td>\n",
              "      <td>20040731</td>\n",
              "      <td>1800</td>\n",
              "      <td></td>\n",
              "      <td>0</td>\n",
              "      <td>30.3</td>\n",
              "      <td>-78.3</td>\n",
              "      <td>25</td>\n",
              "      <td>1010</td>\n",
              "      <td>0</td>\n",
              "      <td>0</td>\n",
              "      <td>0</td>\n",
              "      <td>0</td>\n",
              "      <td>0</td>\n",
              "      <td>0</td>\n",
              "      <td>0</td>\n",
              "      <td>0</td>\n",
              "      <td>0</td>\n",
              "      <td>0</td>\n",
              "      <td>0</td>\n",
              "      <td>0</td>\n",
              "      <td>TD</td>\n",
              "    </tr>\n",
              "    <tr>\n",
              "      <th>43105</th>\n",
              "      <td>AL012004</td>\n",
              "      <td>ALEX</td>\n",
              "      <td>20040801</td>\n",
              "      <td>0</td>\n",
              "      <td></td>\n",
              "      <td>0</td>\n",
              "      <td>31.0</td>\n",
              "      <td>-78.8</td>\n",
              "      <td>25</td>\n",
              "      <td>1009</td>\n",
              "      <td>0</td>\n",
              "      <td>0</td>\n",
              "      <td>0</td>\n",
              "      <td>0</td>\n",
              "      <td>0</td>\n",
              "      <td>0</td>\n",
              "      <td>0</td>\n",
              "      <td>0</td>\n",
              "      <td>0</td>\n",
              "      <td>0</td>\n",
              "      <td>0</td>\n",
              "      <td>0</td>\n",
              "      <td>TD</td>\n",
              "    </tr>\n",
              "    <tr>\n",
              "      <th>43106</th>\n",
              "      <td>AL012004</td>\n",
              "      <td>ALEX</td>\n",
              "      <td>20040801</td>\n",
              "      <td>600</td>\n",
              "      <td></td>\n",
              "      <td>0</td>\n",
              "      <td>31.5</td>\n",
              "      <td>-79.0</td>\n",
              "      <td>25</td>\n",
              "      <td>1009</td>\n",
              "      <td>0</td>\n",
              "      <td>0</td>\n",
              "      <td>0</td>\n",
              "      <td>0</td>\n",
              "      <td>0</td>\n",
              "      <td>0</td>\n",
              "      <td>0</td>\n",
              "      <td>0</td>\n",
              "      <td>0</td>\n",
              "      <td>0</td>\n",
              "      <td>0</td>\n",
              "      <td>0</td>\n",
              "      <td>TD</td>\n",
              "    </tr>\n",
              "    <tr>\n",
              "      <th>43107</th>\n",
              "      <td>AL012004</td>\n",
              "      <td>ALEX</td>\n",
              "      <td>20040801</td>\n",
              "      <td>1200</td>\n",
              "      <td></td>\n",
              "      <td>0</td>\n",
              "      <td>31.6</td>\n",
              "      <td>-79.1</td>\n",
              "      <td>30</td>\n",
              "      <td>1009</td>\n",
              "      <td>0</td>\n",
              "      <td>0</td>\n",
              "      <td>0</td>\n",
              "      <td>0</td>\n",
              "      <td>0</td>\n",
              "      <td>0</td>\n",
              "      <td>0</td>\n",
              "      <td>0</td>\n",
              "      <td>0</td>\n",
              "      <td>0</td>\n",
              "      <td>0</td>\n",
              "      <td>0</td>\n",
              "      <td>TD</td>\n",
              "    </tr>\n",
              "    <tr>\n",
              "      <th>43108</th>\n",
              "      <td>AL012004</td>\n",
              "      <td>ALEX</td>\n",
              "      <td>20040801</td>\n",
              "      <td>1800</td>\n",
              "      <td></td>\n",
              "      <td>1</td>\n",
              "      <td>31.6</td>\n",
              "      <td>-79.2</td>\n",
              "      <td>35</td>\n",
              "      <td>1009</td>\n",
              "      <td>0</td>\n",
              "      <td>50</td>\n",
              "      <td>50</td>\n",
              "      <td>0</td>\n",
              "      <td>0</td>\n",
              "      <td>0</td>\n",
              "      <td>0</td>\n",
              "      <td>0</td>\n",
              "      <td>0</td>\n",
              "      <td>0</td>\n",
              "      <td>0</td>\n",
              "      <td>0</td>\n",
              "      <td>TS</td>\n",
              "    </tr>\n",
              "  </tbody>\n",
              "</table>\n",
              "</div>"
            ],
            "text/plain": [
              "             ID  Name      Date  ...  High Wind SW High Wind NW  Status_Str\n",
              "43104  AL012004  ALEX  20040731  ...             0            0          TD\n",
              "43105  AL012004  ALEX  20040801  ...             0            0          TD\n",
              "43106  AL012004  ALEX  20040801  ...             0            0          TD\n",
              "43107  AL012004  ALEX  20040801  ...             0            0          TD\n",
              "43108  AL012004  ALEX  20040801  ...             0            0          TS\n",
              "\n",
              "[5 rows x 23 columns]"
            ]
          },
          "metadata": {
            "tags": []
          },
          "execution_count": 7
        }
      ]
    },
    {
      "cell_type": "code",
      "metadata": {
        "id": "a1G4M0PpniS3",
        "colab": {
          "base_uri": "https://localhost:8080/",
          "height": 17
        },
        "outputId": "7182bb53-84ea-4dde-ab5f-91fa220c09f9"
      },
      "source": [
        "########################\n",
        "#### NN starts here ####\n",
        "########################\n",
        "\n",
        "import tensorflow as tf\n",
        "from keras.models import Sequential\n",
        "from keras.layers import LSTM, Dense, Activation, TimeDistributed, Bidirectional\n",
        "from tensorflow.keras import models\n",
        "from sklearn.preprocessing import MinMaxScaler\n",
        "\n",
        "feat_columns = ['Status', 'Maximum Wind', 'Minimum Pressure', 'Low Wind NE',\n",
        "       'Low Wind SE', 'Low Wind SW', 'Low Wind NW', 'Moderate Wind NE',\n",
        "       'Moderate Wind SE', 'Moderate Wind SW', 'Moderate Wind NW',\n",
        "       'High Wind NE', 'High Wind SE', 'High Wind SW', 'High Wind NW']\n",
        "\n",
        "y = df.loc[:,['Latitude','Longitude']]\n",
        "x = df[feat_columns[1:]].astype(np.float)\n",
        "data = pd.concat([y,x], axis=1)"
      ],
      "execution_count": 8,
      "outputs": [
        {
          "output_type": "display_data",
          "data": {
            "application/javascript": [
              "google.colab.output.setIframeHeight(0, true, {maxHeight: 50000})"
            ],
            "text/plain": [
              "<IPython.core.display.Javascript object>"
            ]
          },
          "metadata": {
            "tags": []
          }
        },
        {
          "output_type": "display_data",
          "data": {
            "application/javascript": [
              "google.colab.output.setIframeHeight(0, true, {maxHeight: 500000})"
            ],
            "text/plain": [
              "<IPython.core.display.Javascript object>"
            ]
          },
          "metadata": {
            "tags": []
          }
        }
      ]
    },
    {
      "cell_type": "code",
      "metadata": {
        "id": "O4hhdNThDv0Y",
        "colab": {
          "base_uri": "https://localhost:8080/",
          "height": 17
        },
        "outputId": "4459b99c-94f0-4b9a-d6dd-273a66ce9071"
      },
      "source": [
        "###########################\n",
        "#### Reprocessing Data ####\n",
        "###########################\n",
        "\n",
        "#time step method \n",
        "#LSTM(RNN) method will be used and it expects 3D array. \n",
        "\n",
        "length = 20 #time step\n",
        "data = data.to_numpy()\n",
        "scaler = MinMaxScaler() #Scaling with MinMaxScaler method\n",
        "data = scaler.fit_transform(data)\n",
        "\n",
        "sequence_length = length+1\n",
        "result = []\n",
        "\n",
        "for index in range(len(data)-sequence_length):\n",
        "  result.append(data[index: index+sequence_length])\n",
        "\n",
        "result = np.array(result)\n",
        "n = len(result)*0.85 #85% will be training set\n",
        "\n",
        "train = result[:int(n), :]\n",
        "x_train = train[:, 2:]\n",
        "y_train_latitude = train[:, 0][:,0]\n",
        "y_train_longitude = train[:, 1][:,1]\n",
        "x_test = result[int(n):, 2:]\n",
        "y_test_latitude = result[int(n):, 0][:,0]\n",
        "y_test_longitude = result[int(n):, 1][:,1]\n"
      ],
      "execution_count": 9,
      "outputs": [
        {
          "output_type": "display_data",
          "data": {
            "application/javascript": [
              "google.colab.output.setIframeHeight(0, true, {maxHeight: 50000})"
            ],
            "text/plain": [
              "<IPython.core.display.Javascript object>"
            ]
          },
          "metadata": {
            "tags": []
          }
        },
        {
          "output_type": "display_data",
          "data": {
            "application/javascript": [
              "google.colab.output.setIframeHeight(0, true, {maxHeight: 500000})"
            ],
            "text/plain": [
              "<IPython.core.display.Javascript object>"
            ]
          },
          "metadata": {
            "tags": []
          }
        }
      ]
    },
    {
      "cell_type": "code",
      "metadata": {
        "id": "OhAqO6uxDYMM",
        "colab": {
          "base_uri": "https://localhost:8080/",
          "height": 1972
        },
        "outputId": "343bcc89-7799-4d93-ed8f-2a4f0ed359f7"
      },
      "source": [
        "#Testing different optimizer on latitude\n",
        "\n",
        "optimizer = ['RMSprop','adadelta','adagrad','adamax','nadam']\n",
        "\n",
        "for opt in optimizer:\n",
        "  model = Sequential()\n",
        "  model.add(LSTM(units = 128, return_sequences = True, dropout = 0.05, input_shape=(x_train.shape[1], x_train.shape[2])))\n",
        "  model.add(LSTM(units = 32, return_sequences = False, dropout = 0.05))\n",
        "  model.add(Dense(1))\n",
        "  model.add(Activation('relu'))\n",
        "  model.compile(loss='mse', optimizer=opt)\n",
        "  history = model.fit(x_train, y_train_latitude, batch_size=3, epochs=10, validation_data=(x_test, y_test_latitude))\n",
        "\n",
        "  print('Optimizer', opt)\n",
        "\n",
        "  trainScore = model.evaluate(x_train, y_train_latitude, verbose=0)\n",
        "  print('Train Score: %.4f MSE' % (trainScore))\n",
        "\n",
        "  testScore = model.evaluate(x_test, y_test_latitude, verbose=0)\n",
        "  print('Test Score: %.4f MSE' % (testScore))"
      ],
      "execution_count": 10,
      "outputs": [
        {
          "output_type": "display_data",
          "data": {
            "application/javascript": [
              "google.colab.output.setIframeHeight(0, true, {maxHeight: 50000})"
            ],
            "text/plain": [
              "<IPython.core.display.Javascript object>"
            ]
          },
          "metadata": {
            "tags": []
          }
        },
        {
          "output_type": "display_data",
          "data": {
            "application/javascript": [
              "google.colab.output.setIframeHeight(0, true, {maxHeight: 500000})"
            ],
            "text/plain": [
              "<IPython.core.display.Javascript object>"
            ]
          },
          "metadata": {
            "tags": []
          }
        },
        {
          "output_type": "stream",
          "text": [
            "Epoch 1/10\n",
            "1672/1672 [==============================] - 42s 22ms/step - loss: 0.0231 - val_loss: 0.0169\n",
            "Epoch 2/10\n",
            "1672/1672 [==============================] - 37s 22ms/step - loss: 0.0136 - val_loss: 0.0101\n",
            "Epoch 3/10\n",
            "1672/1672 [==============================] - 37s 22ms/step - loss: 0.0120 - val_loss: 0.0102\n",
            "Epoch 4/10\n",
            "1672/1672 [==============================] - 36s 22ms/step - loss: 0.0123 - val_loss: 0.0089\n",
            "Epoch 5/10\n",
            "1672/1672 [==============================] - 36s 22ms/step - loss: 0.0106 - val_loss: 0.0077\n",
            "Epoch 6/10\n",
            "1672/1672 [==============================] - 38s 23ms/step - loss: 0.0096 - val_loss: 0.0091\n",
            "Epoch 7/10\n",
            "1672/1672 [==============================] - 38s 23ms/step - loss: 0.0091 - val_loss: 0.0075\n",
            "Epoch 8/10\n",
            "1672/1672 [==============================] - 38s 23ms/step - loss: 0.0079 - val_loss: 0.0076\n",
            "Epoch 9/10\n",
            "1672/1672 [==============================] - 37s 22ms/step - loss: 0.0088 - val_loss: 0.0078\n",
            "Epoch 10/10\n",
            "1672/1672 [==============================] - 37s 22ms/step - loss: 0.0081 - val_loss: 0.0077\n",
            "Optimizer RMSprop\n",
            "Train Score: 0.0075 MSE\n",
            "Test Score: 0.0077 MSE\n",
            "Epoch 1/10\n",
            "1672/1672 [==============================] - 44s 24ms/step - loss: 0.1196 - val_loss: 0.0669\n",
            "Epoch 2/10\n",
            "1672/1672 [==============================] - 38s 23ms/step - loss: 0.0458 - val_loss: 0.0350\n",
            "Epoch 3/10\n",
            "1672/1672 [==============================] - 38s 23ms/step - loss: 0.0279 - val_loss: 0.0344\n",
            "Epoch 4/10\n",
            "1672/1672 [==============================] - 36s 22ms/step - loss: 0.0270 - val_loss: 0.0338\n",
            "Epoch 5/10\n",
            "1672/1672 [==============================] - 37s 22ms/step - loss: 0.0273 - val_loss: 0.0332\n",
            "Epoch 6/10\n",
            "1672/1672 [==============================] - 38s 23ms/step - loss: 0.0262 - val_loss: 0.0327\n",
            "Epoch 7/10\n",
            "1672/1672 [==============================] - 38s 23ms/step - loss: 0.0255 - val_loss: 0.0321\n",
            "Epoch 8/10\n",
            "1672/1672 [==============================] - 39s 23ms/step - loss: 0.0258 - val_loss: 0.0316\n",
            "Epoch 9/10\n",
            "1672/1672 [==============================] - 37s 22ms/step - loss: 0.0261 - val_loss: 0.0310\n",
            "Epoch 10/10\n",
            "1672/1672 [==============================] - 37s 22ms/step - loss: 0.0274 - val_loss: 0.0304\n",
            "Optimizer adadelta\n",
            "Train Score: 0.0246 MSE\n",
            "Test Score: 0.0304 MSE\n",
            "Epoch 1/10\n",
            "1672/1672 [==============================] - 44s 23ms/step - loss: 0.0323 - val_loss: 0.0284\n",
            "Epoch 2/10\n",
            "1672/1672 [==============================] - 36s 22ms/step - loss: 0.0239 - val_loss: 0.0271\n",
            "Epoch 3/10\n",
            "1672/1672 [==============================] - 36s 21ms/step - loss: 0.0224 - val_loss: 0.0250\n",
            "Epoch 4/10\n",
            "1672/1672 [==============================] - 35s 21ms/step - loss: 0.0234 - val_loss: 0.0242\n",
            "Epoch 5/10\n",
            "1672/1672 [==============================] - 36s 21ms/step - loss: 0.0221 - val_loss: 0.0230\n",
            "Epoch 6/10\n",
            "1672/1672 [==============================] - 36s 21ms/step - loss: 0.0205 - val_loss: 0.0221\n",
            "Epoch 7/10\n",
            "1672/1672 [==============================] - 36s 21ms/step - loss: 0.0201 - val_loss: 0.0211\n",
            "Epoch 8/10\n",
            "1672/1672 [==============================] - 36s 21ms/step - loss: 0.0183 - val_loss: 0.0201\n",
            "Epoch 9/10\n",
            "1672/1672 [==============================] - 35s 21ms/step - loss: 0.0192 - val_loss: 0.0196\n",
            "Epoch 10/10\n",
            "1672/1672 [==============================] - 36s 21ms/step - loss: 0.0180 - val_loss: 0.0186\n",
            "Optimizer adagrad\n",
            "Train Score: 0.0174 MSE\n",
            "Test Score: 0.0186 MSE\n",
            "Epoch 1/10\n",
            "1672/1672 [==============================] - 41s 22ms/step - loss: 0.0188 - val_loss: 0.0186\n",
            "Epoch 2/10\n",
            "1672/1672 [==============================] - 35s 21ms/step - loss: 0.0143 - val_loss: 0.0113\n",
            "Epoch 3/10\n",
            "1672/1672 [==============================] - 35s 21ms/step - loss: 0.0121 - val_loss: 0.0106\n",
            "Epoch 4/10\n",
            "1672/1672 [==============================] - 35s 21ms/step - loss: 0.0114 - val_loss: 0.0099\n",
            "Epoch 5/10\n",
            "1672/1672 [==============================] - 35s 21ms/step - loss: 0.0093 - val_loss: 0.0090\n",
            "Epoch 6/10\n",
            "1672/1672 [==============================] - 35s 21ms/step - loss: 0.0106 - val_loss: 0.0115\n",
            "Epoch 7/10\n",
            "1672/1672 [==============================] - 35s 21ms/step - loss: 0.0101 - val_loss: 0.0093\n",
            "Epoch 8/10\n",
            "1672/1672 [==============================] - 34s 20ms/step - loss: 0.0101 - val_loss: 0.0099\n",
            "Epoch 9/10\n",
            "1672/1672 [==============================] - 35s 21ms/step - loss: 0.0104 - val_loss: 0.0099\n",
            "Epoch 10/10\n",
            "1672/1672 [==============================] - 37s 22ms/step - loss: 0.0104 - val_loss: 0.0089\n",
            "Optimizer adamax\n",
            "Train Score: 0.0083 MSE\n",
            "Test Score: 0.0089 MSE\n",
            "Epoch 1/10\n",
            "1672/1672 [==============================] - 43s 23ms/step - loss: 0.0447 - val_loss: 0.0112\n",
            "Epoch 2/10\n",
            "1672/1672 [==============================] - 36s 22ms/step - loss: 0.0128 - val_loss: 0.0101\n",
            "Epoch 3/10\n",
            "1672/1672 [==============================] - 37s 22ms/step - loss: 0.0107 - val_loss: 0.0093\n",
            "Epoch 4/10\n",
            "1672/1672 [==============================] - 37s 22ms/step - loss: 0.0107 - val_loss: 0.0082\n",
            "Epoch 5/10\n",
            "1672/1672 [==============================] - 37s 22ms/step - loss: 0.0094 - val_loss: 0.0081\n",
            "Epoch 6/10\n",
            "1672/1672 [==============================] - 37s 22ms/step - loss: 0.0097 - val_loss: 0.0082\n",
            "Epoch 7/10\n",
            "1672/1672 [==============================] - 37s 22ms/step - loss: 0.0094 - val_loss: 0.0088\n",
            "Epoch 8/10\n",
            "1672/1672 [==============================] - 37s 22ms/step - loss: 0.0084 - val_loss: 0.0102\n",
            "Epoch 9/10\n",
            "1672/1672 [==============================] - 37s 22ms/step - loss: 0.0077 - val_loss: 0.0104\n",
            "Epoch 10/10\n",
            "1672/1672 [==============================] - 37s 22ms/step - loss: 0.0084 - val_loss: 0.0088\n",
            "Optimizer nadam\n",
            "Train Score: 0.0085 MSE\n",
            "Test Score: 0.0088 MSE\n"
          ],
          "name": "stdout"
        }
      ]
    },
    {
      "cell_type": "code",
      "metadata": {
        "id": "i9FWF-p8mv7t",
        "colab": {
          "base_uri": "https://localhost:8080/",
          "height": 17
        },
        "outputId": "cdddfb71-22ea-4091-9d66-3563cea60cae"
      },
      "source": [
        "#Base on the result above, any optimizer would work fine with relu. \n",
        "#Choosing 'adagrad' just to visualize loss changes over 200 epoch. Other optimizer needs only 20-30 epoch.\n",
        "#Note, it is not ideal to choose adagrad for this problem.\n",
        "\n",
        "\n",
        "def RNN(x_train, y_train, x_test, y_test, epoch):\n",
        "  model = Sequential()\n",
        "  model.add(LSTM(units = 128, return_sequences = True, dropout = 0.05, input_shape=(x_train.shape[1], x_train.shape[2])))\n",
        "  model.add(LSTM(units = 32, return_sequences = False, dropout = 0.05))\n",
        "  model.add(Dense(1))\n",
        "  model.add(Activation('relu'))\n",
        "  model.compile(loss='mse', optimizer='adagrad')\n",
        "  history = model.fit(x_train, y_train, batch_size=3, epochs=epoch, validation_data=(x_test, y_test))\n",
        "\n",
        "  trainScore = model.evaluate(x_train, y_train_latitude, verbose=0)\n",
        "  print('Train Score: %.4f MSE' % (trainScore))\n",
        "\n",
        "  testScore = model.evaluate(x_test, y_test_latitude, verbose=0)\n",
        "  print('Test Score: %.4f MSE' % (testScore))\n",
        "\n",
        "  y_pred = model.predict(x_test)\n",
        "\n",
        "  return y_pred, history.history['loss'], history.history['val_loss']"
      ],
      "execution_count": 11,
      "outputs": [
        {
          "output_type": "display_data",
          "data": {
            "application/javascript": [
              "google.colab.output.setIframeHeight(0, true, {maxHeight: 50000})"
            ],
            "text/plain": [
              "<IPython.core.display.Javascript object>"
            ]
          },
          "metadata": {
            "tags": []
          }
        },
        {
          "output_type": "display_data",
          "data": {
            "application/javascript": [
              "google.colab.output.setIframeHeight(0, true, {maxHeight: 500000})"
            ],
            "text/plain": [
              "<IPython.core.display.Javascript object>"
            ]
          },
          "metadata": {
            "tags": []
          }
        }
      ]
    },
    {
      "cell_type": "code",
      "metadata": {
        "id": "KxhYPEjDoTy0",
        "colab": {
          "base_uri": "https://localhost:8080/",
          "height": 13685
        },
        "outputId": "e42960ab-ccf6-425d-e5ad-da80b8c63307"
      },
      "source": [
        "y_pred_long, loss_long, val_loss_long = RNN(x_train, y_train_longitude, x_test, y_test_longitude, 200)\n",
        "y_pred_lat, loss_lat, val_loss_lat = RNN(x_train, y_train_latitude, x_test, y_test_latitude, 200)"
      ],
      "execution_count": 12,
      "outputs": [
        {
          "output_type": "display_data",
          "data": {
            "application/javascript": [
              "google.colab.output.setIframeHeight(0, true, {maxHeight: 50000})"
            ],
            "text/plain": [
              "<IPython.core.display.Javascript object>"
            ]
          },
          "metadata": {
            "tags": []
          }
        },
        {
          "output_type": "display_data",
          "data": {
            "application/javascript": [
              "google.colab.output.setIframeHeight(0, true, {maxHeight: 500000})"
            ],
            "text/plain": [
              "<IPython.core.display.Javascript object>"
            ]
          },
          "metadata": {
            "tags": []
          }
        },
        {
          "output_type": "stream",
          "text": [
            "Epoch 1/200\n",
            "1672/1672 [==============================] - 40s 22ms/step - loss: 0.0464 - val_loss: 0.0360\n",
            "Epoch 2/200\n",
            "1672/1672 [==============================] - 35s 21ms/step - loss: 0.0298 - val_loss: 0.0333\n",
            "Epoch 3/200\n",
            "1672/1672 [==============================] - 35s 21ms/step - loss: 0.0254 - val_loss: 0.0308\n",
            "Epoch 4/200\n",
            "1672/1672 [==============================] - 35s 21ms/step - loss: 0.0240 - val_loss: 0.0289\n",
            "Epoch 5/200\n",
            "1672/1672 [==============================] - 35s 21ms/step - loss: 0.0238 - val_loss: 0.0282\n",
            "Epoch 6/200\n",
            "1672/1672 [==============================] - 35s 21ms/step - loss: 0.0210 - val_loss: 0.0258\n",
            "Epoch 7/200\n",
            "1672/1672 [==============================] - 35s 21ms/step - loss: 0.0200 - val_loss: 0.0246\n",
            "Epoch 8/200\n",
            "1672/1672 [==============================] - 36s 21ms/step - loss: 0.0181 - val_loss: 0.0230\n",
            "Epoch 9/200\n",
            "1672/1672 [==============================] - 38s 23ms/step - loss: 0.0178 - val_loss: 0.0213\n",
            "Epoch 10/200\n",
            "1672/1672 [==============================] - 36s 21ms/step - loss: 0.0168 - val_loss: 0.0209\n",
            "Epoch 11/200\n",
            "1672/1672 [==============================] - 36s 22ms/step - loss: 0.0170 - val_loss: 0.0192\n",
            "Epoch 12/200\n",
            "1672/1672 [==============================] - 36s 22ms/step - loss: 0.0157 - val_loss: 0.0189\n",
            "Epoch 13/200\n",
            "1672/1672 [==============================] - 37s 22ms/step - loss: 0.0149 - val_loss: 0.0178\n",
            "Epoch 14/200\n",
            "1672/1672 [==============================] - 36s 21ms/step - loss: 0.0145 - val_loss: 0.0176\n",
            "Epoch 15/200\n",
            "1672/1672 [==============================] - 35s 21ms/step - loss: 0.0134 - val_loss: 0.0170\n",
            "Epoch 16/200\n",
            "1672/1672 [==============================] - 36s 22ms/step - loss: 0.0137 - val_loss: 0.0164\n",
            "Epoch 17/200\n",
            "1672/1672 [==============================] - 36s 21ms/step - loss: 0.0136 - val_loss: 0.0161\n",
            "Epoch 18/200\n",
            "1672/1672 [==============================] - 36s 22ms/step - loss: 0.0141 - val_loss: 0.0158\n",
            "Epoch 19/200\n",
            "1672/1672 [==============================] - 36s 22ms/step - loss: 0.0129 - val_loss: 0.0156\n",
            "Epoch 20/200\n",
            "1672/1672 [==============================] - 36s 22ms/step - loss: 0.0140 - val_loss: 0.0158\n",
            "Epoch 21/200\n",
            "1672/1672 [==============================] - 37s 22ms/step - loss: 0.0123 - val_loss: 0.0159\n",
            "Epoch 22/200\n",
            "1672/1672 [==============================] - 36s 22ms/step - loss: 0.0119 - val_loss: 0.0152\n",
            "Epoch 23/200\n",
            "1672/1672 [==============================] - 36s 22ms/step - loss: 0.0129 - val_loss: 0.0150\n",
            "Epoch 24/200\n",
            "1672/1672 [==============================] - 36s 22ms/step - loss: 0.0123 - val_loss: 0.0148\n",
            "Epoch 25/200\n",
            "1672/1672 [==============================] - 36s 21ms/step - loss: 0.0121 - val_loss: 0.0145\n",
            "Epoch 26/200\n",
            "1672/1672 [==============================] - 36s 21ms/step - loss: 0.0129 - val_loss: 0.0145\n",
            "Epoch 27/200\n",
            "1672/1672 [==============================] - 36s 21ms/step - loss: 0.0135 - val_loss: 0.0143\n",
            "Epoch 28/200\n",
            "1672/1672 [==============================] - 36s 22ms/step - loss: 0.0125 - val_loss: 0.0144\n",
            "Epoch 29/200\n",
            "1672/1672 [==============================] - 36s 22ms/step - loss: 0.0118 - val_loss: 0.0142\n",
            "Epoch 30/200\n",
            "1672/1672 [==============================] - 36s 22ms/step - loss: 0.0126 - val_loss: 0.0143\n",
            "Epoch 31/200\n",
            "1672/1672 [==============================] - 36s 22ms/step - loss: 0.0132 - val_loss: 0.0139\n",
            "Epoch 32/200\n",
            "1672/1672 [==============================] - 37s 22ms/step - loss: 0.0110 - val_loss: 0.0145\n",
            "Epoch 33/200\n",
            "1672/1672 [==============================] - 36s 22ms/step - loss: 0.0130 - val_loss: 0.0138\n",
            "Epoch 34/200\n",
            "1672/1672 [==============================] - 36s 21ms/step - loss: 0.0116 - val_loss: 0.0136\n",
            "Epoch 35/200\n",
            "1672/1672 [==============================] - 36s 21ms/step - loss: 0.0118 - val_loss: 0.0135\n",
            "Epoch 36/200\n",
            "1672/1672 [==============================] - 36s 21ms/step - loss: 0.0116 - val_loss: 0.0139\n",
            "Epoch 37/200\n",
            "1672/1672 [==============================] - 36s 22ms/step - loss: 0.0117 - val_loss: 0.0134\n",
            "Epoch 38/200\n",
            "1672/1672 [==============================] - 37s 22ms/step - loss: 0.0115 - val_loss: 0.0133\n",
            "Epoch 39/200\n",
            "1672/1672 [==============================] - 37s 22ms/step - loss: 0.0121 - val_loss: 0.0133\n",
            "Epoch 40/200\n",
            "1672/1672 [==============================] - 37s 22ms/step - loss: 0.0119 - val_loss: 0.0131\n",
            "Epoch 41/200\n",
            "1672/1672 [==============================] - 37s 22ms/step - loss: 0.0129 - val_loss: 0.0132\n",
            "Epoch 42/200\n",
            "1672/1672 [==============================] - 37s 22ms/step - loss: 0.0113 - val_loss: 0.0131\n",
            "Epoch 43/200\n",
            "1672/1672 [==============================] - 37s 22ms/step - loss: 0.0114 - val_loss: 0.0131\n",
            "Epoch 44/200\n",
            "1672/1672 [==============================] - 36s 22ms/step - loss: 0.0112 - val_loss: 0.0132\n",
            "Epoch 45/200\n",
            "1672/1672 [==============================] - 37s 22ms/step - loss: 0.0109 - val_loss: 0.0130\n",
            "Epoch 46/200\n",
            "1672/1672 [==============================] - 36s 21ms/step - loss: 0.0124 - val_loss: 0.0128\n",
            "Epoch 47/200\n",
            "1672/1672 [==============================] - 36s 21ms/step - loss: 0.0102 - val_loss: 0.0130\n",
            "Epoch 48/200\n",
            "1672/1672 [==============================] - 36s 21ms/step - loss: 0.0111 - val_loss: 0.0127\n",
            "Epoch 49/200\n",
            "1672/1672 [==============================] - 36s 21ms/step - loss: 0.0109 - val_loss: 0.0129\n",
            "Epoch 50/200\n",
            "1672/1672 [==============================] - 36s 22ms/step - loss: 0.0109 - val_loss: 0.0128\n",
            "Epoch 51/200\n",
            "1672/1672 [==============================] - 37s 22ms/step - loss: 0.0111 - val_loss: 0.0127\n",
            "Epoch 52/200\n",
            "1672/1672 [==============================] - 37s 22ms/step - loss: 0.0110 - val_loss: 0.0124\n",
            "Epoch 53/200\n",
            "1672/1672 [==============================] - 37s 22ms/step - loss: 0.0108 - val_loss: 0.0124\n",
            "Epoch 54/200\n",
            "1672/1672 [==============================] - 37s 22ms/step - loss: 0.0118 - val_loss: 0.0128\n",
            "Epoch 55/200\n",
            "1672/1672 [==============================] - 36s 22ms/step - loss: 0.0107 - val_loss: 0.0126\n",
            "Epoch 56/200\n",
            "1672/1672 [==============================] - 36s 21ms/step - loss: 0.0106 - val_loss: 0.0123\n",
            "Epoch 57/200\n",
            "1672/1672 [==============================] - 36s 21ms/step - loss: 0.0103 - val_loss: 0.0121\n",
            "Epoch 58/200\n",
            "1672/1672 [==============================] - 36s 21ms/step - loss: 0.0113 - val_loss: 0.0123\n",
            "Epoch 59/200\n",
            "1672/1672 [==============================] - 36s 21ms/step - loss: 0.0111 - val_loss: 0.0127\n",
            "Epoch 60/200\n",
            "1672/1672 [==============================] - 36s 21ms/step - loss: 0.0102 - val_loss: 0.0120\n",
            "Epoch 61/200\n",
            "1672/1672 [==============================] - 36s 22ms/step - loss: 0.0110 - val_loss: 0.0119\n",
            "Epoch 62/200\n",
            "1672/1672 [==============================] - 36s 21ms/step - loss: 0.0104 - val_loss: 0.0120\n",
            "Epoch 63/200\n",
            "1672/1672 [==============================] - 36s 21ms/step - loss: 0.0108 - val_loss: 0.0120\n",
            "Epoch 64/200\n",
            "1672/1672 [==============================] - 36s 22ms/step - loss: 0.0104 - val_loss: 0.0121\n",
            "Epoch 65/200\n",
            "1672/1672 [==============================] - 36s 22ms/step - loss: 0.0107 - val_loss: 0.0121\n",
            "Epoch 66/200\n",
            "1672/1672 [==============================] - 36s 22ms/step - loss: 0.0111 - val_loss: 0.0118\n",
            "Epoch 67/200\n",
            "1672/1672 [==============================] - 37s 22ms/step - loss: 0.0101 - val_loss: 0.0117\n",
            "Epoch 68/200\n",
            "1672/1672 [==============================] - 36s 22ms/step - loss: 0.0109 - val_loss: 0.0117\n",
            "Epoch 69/200\n",
            "1672/1672 [==============================] - 37s 22ms/step - loss: 0.0115 - val_loss: 0.0116\n",
            "Epoch 70/200\n",
            "1672/1672 [==============================] - 36s 22ms/step - loss: 0.0110 - val_loss: 0.0117\n",
            "Epoch 71/200\n",
            "1672/1672 [==============================] - 36s 22ms/step - loss: 0.0101 - val_loss: 0.0118\n",
            "Epoch 72/200\n",
            "1672/1672 [==============================] - 36s 22ms/step - loss: 0.0102 - val_loss: 0.0115\n",
            "Epoch 73/200\n",
            "1672/1672 [==============================] - 36s 22ms/step - loss: 0.0102 - val_loss: 0.0124\n",
            "Epoch 74/200\n",
            "1672/1672 [==============================] - 36s 22ms/step - loss: 0.0100 - val_loss: 0.0115\n",
            "Epoch 75/200\n",
            "1672/1672 [==============================] - 36s 21ms/step - loss: 0.0106 - val_loss: 0.0114\n",
            "Epoch 76/200\n",
            "1672/1672 [==============================] - 35s 21ms/step - loss: 0.0103 - val_loss: 0.0117\n",
            "Epoch 77/200\n",
            "1672/1672 [==============================] - 35s 21ms/step - loss: 0.0105 - val_loss: 0.0113\n",
            "Epoch 78/200\n",
            "1672/1672 [==============================] - 35s 21ms/step - loss: 0.0106 - val_loss: 0.0113\n",
            "Epoch 79/200\n",
            "1672/1672 [==============================] - 34s 21ms/step - loss: 0.0110 - val_loss: 0.0113\n",
            "Epoch 80/200\n",
            "1672/1672 [==============================] - 34s 20ms/step - loss: 0.0096 - val_loss: 0.0113\n",
            "Epoch 81/200\n",
            "1672/1672 [==============================] - 34s 21ms/step - loss: 0.0113 - val_loss: 0.0112\n",
            "Epoch 82/200\n",
            "1672/1672 [==============================] - 34s 20ms/step - loss: 0.0098 - val_loss: 0.0122\n",
            "Epoch 83/200\n",
            "1672/1672 [==============================] - 34s 21ms/step - loss: 0.0102 - val_loss: 0.0111\n",
            "Epoch 84/200\n",
            "1672/1672 [==============================] - 35s 21ms/step - loss: 0.0097 - val_loss: 0.0111\n",
            "Epoch 85/200\n",
            "1672/1672 [==============================] - 35s 21ms/step - loss: 0.0101 - val_loss: 0.0112\n",
            "Epoch 86/200\n",
            "1672/1672 [==============================] - 34s 21ms/step - loss: 0.0102 - val_loss: 0.0111\n",
            "Epoch 87/200\n",
            "1672/1672 [==============================] - 34s 21ms/step - loss: 0.0107 - val_loss: 0.0111\n",
            "Epoch 88/200\n",
            "1672/1672 [==============================] - 34s 21ms/step - loss: 0.0097 - val_loss: 0.0110\n",
            "Epoch 89/200\n",
            "1672/1672 [==============================] - 34s 21ms/step - loss: 0.0106 - val_loss: 0.0111\n",
            "Epoch 90/200\n",
            "1672/1672 [==============================] - 35s 21ms/step - loss: 0.0097 - val_loss: 0.0111\n",
            "Epoch 91/200\n",
            "1672/1672 [==============================] - 35s 21ms/step - loss: 0.0093 - val_loss: 0.0110\n",
            "Epoch 92/200\n",
            "1672/1672 [==============================] - 35s 21ms/step - loss: 0.0097 - val_loss: 0.0109\n",
            "Epoch 93/200\n",
            "1672/1672 [==============================] - 35s 21ms/step - loss: 0.0097 - val_loss: 0.0109\n",
            "Epoch 94/200\n",
            "1672/1672 [==============================] - 35s 21ms/step - loss: 0.0104 - val_loss: 0.0111\n",
            "Epoch 95/200\n",
            "1672/1672 [==============================] - 35s 21ms/step - loss: 0.0097 - val_loss: 0.0110\n",
            "Epoch 96/200\n",
            "1672/1672 [==============================] - 36s 21ms/step - loss: 0.0099 - val_loss: 0.0108\n",
            "Epoch 97/200\n",
            "1672/1672 [==============================] - 35s 21ms/step - loss: 0.0099 - val_loss: 0.0109\n",
            "Epoch 98/200\n",
            "1672/1672 [==============================] - 34s 21ms/step - loss: 0.0100 - val_loss: 0.0109\n",
            "Epoch 99/200\n",
            "1672/1672 [==============================] - 35s 21ms/step - loss: 0.0092 - val_loss: 0.0109\n",
            "Epoch 100/200\n",
            "1672/1672 [==============================] - 35s 21ms/step - loss: 0.0098 - val_loss: 0.0107\n",
            "Epoch 101/200\n",
            "1672/1672 [==============================] - 36s 22ms/step - loss: 0.0099 - val_loss: 0.0107\n",
            "Epoch 102/200\n",
            "1672/1672 [==============================] - 36s 21ms/step - loss: 0.0097 - val_loss: 0.0112\n",
            "Epoch 103/200\n",
            "1672/1672 [==============================] - 36s 22ms/step - loss: 0.0098 - val_loss: 0.0109\n",
            "Epoch 104/200\n",
            "1672/1672 [==============================] - 36s 22ms/step - loss: 0.0100 - val_loss: 0.0106\n",
            "Epoch 105/200\n",
            "1672/1672 [==============================] - 36s 21ms/step - loss: 0.0105 - val_loss: 0.0107\n",
            "Epoch 106/200\n",
            "1672/1672 [==============================] - 36s 21ms/step - loss: 0.0098 - val_loss: 0.0105\n",
            "Epoch 107/200\n",
            "1672/1672 [==============================] - 35s 21ms/step - loss: 0.0094 - val_loss: 0.0106\n",
            "Epoch 108/200\n",
            "1672/1672 [==============================] - 35s 21ms/step - loss: 0.0087 - val_loss: 0.0108\n",
            "Epoch 109/200\n",
            "1672/1672 [==============================] - 36s 21ms/step - loss: 0.0105 - val_loss: 0.0105\n",
            "Epoch 110/200\n",
            "1672/1672 [==============================] - 36s 21ms/step - loss: 0.0102 - val_loss: 0.0106\n",
            "Epoch 111/200\n",
            "1672/1672 [==============================] - 35s 21ms/step - loss: 0.0093 - val_loss: 0.0109\n",
            "Epoch 112/200\n",
            "1672/1672 [==============================] - 35s 21ms/step - loss: 0.0091 - val_loss: 0.0105\n",
            "Epoch 113/200\n",
            "1672/1672 [==============================] - 36s 22ms/step - loss: 0.0094 - val_loss: 0.0106\n",
            "Epoch 114/200\n",
            "1672/1672 [==============================] - 37s 22ms/step - loss: 0.0103 - val_loss: 0.0105\n",
            "Epoch 115/200\n",
            "1672/1672 [==============================] - 37s 22ms/step - loss: 0.0093 - val_loss: 0.0104\n",
            "Epoch 116/200\n",
            "1672/1672 [==============================] - 37s 22ms/step - loss: 0.0104 - val_loss: 0.0107\n",
            "Epoch 117/200\n",
            "1672/1672 [==============================] - 37s 22ms/step - loss: 0.0095 - val_loss: 0.0103\n",
            "Epoch 118/200\n",
            "1672/1672 [==============================] - 37s 22ms/step - loss: 0.0094 - val_loss: 0.0103\n",
            "Epoch 119/200\n",
            "1672/1672 [==============================] - 36s 21ms/step - loss: 0.0096 - val_loss: 0.0105\n",
            "Epoch 120/200\n",
            "1672/1672 [==============================] - 36s 22ms/step - loss: 0.0092 - val_loss: 0.0103\n",
            "Epoch 121/200\n",
            "1672/1672 [==============================] - 36s 22ms/step - loss: 0.0093 - val_loss: 0.0106\n",
            "Epoch 122/200\n",
            "1672/1672 [==============================] - 36s 22ms/step - loss: 0.0096 - val_loss: 0.0103\n",
            "Epoch 123/200\n",
            "1672/1672 [==============================] - 36s 22ms/step - loss: 0.0096 - val_loss: 0.0103\n",
            "Epoch 124/200\n",
            "1672/1672 [==============================] - 37s 22ms/step - loss: 0.0088 - val_loss: 0.0102\n",
            "Epoch 125/200\n",
            "1672/1672 [==============================] - 36s 22ms/step - loss: 0.0094 - val_loss: 0.0103\n",
            "Epoch 126/200\n",
            "1672/1672 [==============================] - 36s 22ms/step - loss: 0.0092 - val_loss: 0.0103\n",
            "Epoch 127/200\n",
            "1672/1672 [==============================] - 36s 22ms/step - loss: 0.0096 - val_loss: 0.0102\n",
            "Epoch 128/200\n",
            "1672/1672 [==============================] - 37s 22ms/step - loss: 0.0087 - val_loss: 0.0106\n",
            "Epoch 129/200\n",
            "1672/1672 [==============================] - 37s 22ms/step - loss: 0.0098 - val_loss: 0.0101\n",
            "Epoch 130/200\n",
            "1672/1672 [==============================] - 36s 22ms/step - loss: 0.0096 - val_loss: 0.0101\n",
            "Epoch 131/200\n",
            "1672/1672 [==============================] - 36s 21ms/step - loss: 0.0098 - val_loss: 0.0101\n",
            "Epoch 132/200\n",
            "1672/1672 [==============================] - 37s 22ms/step - loss: 0.0094 - val_loss: 0.0101\n",
            "Epoch 133/200\n",
            "1672/1672 [==============================] - 36s 22ms/step - loss: 0.0087 - val_loss: 0.0107\n",
            "Epoch 134/200\n",
            "1672/1672 [==============================] - 37s 22ms/step - loss: 0.0100 - val_loss: 0.0101\n",
            "Epoch 135/200\n",
            "1672/1672 [==============================] - 36s 22ms/step - loss: 0.0084 - val_loss: 0.0101\n",
            "Epoch 136/200\n",
            "1672/1672 [==============================] - 37s 22ms/step - loss: 0.0092 - val_loss: 0.0101\n",
            "Epoch 137/200\n",
            "1672/1672 [==============================] - 37s 22ms/step - loss: 0.0098 - val_loss: 0.0100\n",
            "Epoch 138/200\n",
            "1672/1672 [==============================] - 37s 22ms/step - loss: 0.0098 - val_loss: 0.0102\n",
            "Epoch 139/200\n",
            "1672/1672 [==============================] - 37s 22ms/step - loss: 0.0104 - val_loss: 0.0100\n",
            "Epoch 140/200\n",
            "1672/1672 [==============================] - 36s 22ms/step - loss: 0.0091 - val_loss: 0.0100\n",
            "Epoch 141/200\n",
            "1672/1672 [==============================] - 37s 22ms/step - loss: 0.0099 - val_loss: 0.0100\n",
            "Epoch 142/200\n",
            "1672/1672 [==============================] - 36s 22ms/step - loss: 0.0089 - val_loss: 0.0103\n",
            "Epoch 143/200\n",
            "1672/1672 [==============================] - 37s 22ms/step - loss: 0.0093 - val_loss: 0.0100\n",
            "Epoch 144/200\n",
            "1672/1672 [==============================] - 37s 22ms/step - loss: 0.0093 - val_loss: 0.0104\n",
            "Epoch 145/200\n",
            "1672/1672 [==============================] - 36s 22ms/step - loss: 0.0094 - val_loss: 0.0102\n",
            "Epoch 146/200\n",
            "1672/1672 [==============================] - 37s 22ms/step - loss: 0.0096 - val_loss: 0.0102\n",
            "Epoch 147/200\n",
            "1672/1672 [==============================] - 36s 22ms/step - loss: 0.0100 - val_loss: 0.0099\n",
            "Epoch 148/200\n",
            "1672/1672 [==============================] - 37s 22ms/step - loss: 0.0091 - val_loss: 0.0099\n",
            "Epoch 149/200\n",
            "1672/1672 [==============================] - 37s 22ms/step - loss: 0.0094 - val_loss: 0.0102\n",
            "Epoch 150/200\n",
            "1672/1672 [==============================] - 36s 22ms/step - loss: 0.0101 - val_loss: 0.0099\n",
            "Epoch 151/200\n",
            "1672/1672 [==============================] - 37s 22ms/step - loss: 0.0093 - val_loss: 0.0104\n",
            "Epoch 152/200\n",
            "1672/1672 [==============================] - 37s 22ms/step - loss: 0.0094 - val_loss: 0.0100\n",
            "Epoch 153/200\n",
            "1672/1672 [==============================] - 37s 22ms/step - loss: 0.0089 - val_loss: 0.0098\n",
            "Epoch 154/200\n",
            "1672/1672 [==============================] - 37s 22ms/step - loss: 0.0090 - val_loss: 0.0100\n",
            "Epoch 155/200\n",
            "1672/1672 [==============================] - 36s 22ms/step - loss: 0.0099 - val_loss: 0.0098\n",
            "Epoch 156/200\n",
            "1672/1672 [==============================] - 37s 22ms/step - loss: 0.0091 - val_loss: 0.0100\n",
            "Epoch 157/200\n",
            "1672/1672 [==============================] - 37s 22ms/step - loss: 0.0093 - val_loss: 0.0098\n",
            "Epoch 158/200\n",
            "1672/1672 [==============================] - 37s 22ms/step - loss: 0.0093 - val_loss: 0.0098\n",
            "Epoch 159/200\n",
            "1672/1672 [==============================] - 37s 22ms/step - loss: 0.0088 - val_loss: 0.0098\n",
            "Epoch 160/200\n",
            "1672/1672 [==============================] - 37s 22ms/step - loss: 0.0088 - val_loss: 0.0098\n",
            "Epoch 161/200\n",
            "1672/1672 [==============================] - 37s 22ms/step - loss: 0.0091 - val_loss: 0.0098\n",
            "Epoch 162/200\n",
            "1672/1672 [==============================] - 36s 22ms/step - loss: 0.0092 - val_loss: 0.0098\n",
            "Epoch 163/200\n",
            "1672/1672 [==============================] - 36s 21ms/step - loss: 0.0098 - val_loss: 0.0097\n",
            "Epoch 164/200\n",
            "1672/1672 [==============================] - 36s 21ms/step - loss: 0.0093 - val_loss: 0.0098\n",
            "Epoch 165/200\n",
            "1672/1672 [==============================] - 36s 21ms/step - loss: 0.0090 - val_loss: 0.0098\n",
            "Epoch 166/200\n",
            "1672/1672 [==============================] - 35s 21ms/step - loss: 0.0091 - val_loss: 0.0101\n",
            "Epoch 167/200\n",
            "1672/1672 [==============================] - 36s 21ms/step - loss: 0.0093 - val_loss: 0.0097\n",
            "Epoch 168/200\n",
            "1672/1672 [==============================] - 36s 21ms/step - loss: 0.0092 - val_loss: 0.0097\n",
            "Epoch 169/200\n",
            "1672/1672 [==============================] - 35s 21ms/step - loss: 0.0091 - val_loss: 0.0096\n",
            "Epoch 170/200\n",
            "1672/1672 [==============================] - 35s 21ms/step - loss: 0.0084 - val_loss: 0.0096\n",
            "Epoch 171/200\n",
            "1672/1672 [==============================] - 36s 21ms/step - loss: 0.0094 - val_loss: 0.0097\n",
            "Epoch 172/200\n",
            "1672/1672 [==============================] - 35s 21ms/step - loss: 0.0088 - val_loss: 0.0097\n",
            "Epoch 173/200\n",
            "1672/1672 [==============================] - 35s 21ms/step - loss: 0.0089 - val_loss: 0.0097\n",
            "Epoch 174/200\n",
            "1672/1672 [==============================] - 35s 21ms/step - loss: 0.0092 - val_loss: 0.0098\n",
            "Epoch 175/200\n",
            "1672/1672 [==============================] - 35s 21ms/step - loss: 0.0092 - val_loss: 0.0097\n",
            "Epoch 176/200\n",
            "1672/1672 [==============================] - 35s 21ms/step - loss: 0.0093 - val_loss: 0.0097\n",
            "Epoch 177/200\n",
            "1672/1672 [==============================] - 36s 21ms/step - loss: 0.0096 - val_loss: 0.0097\n",
            "Epoch 178/200\n",
            "1672/1672 [==============================] - 35s 21ms/step - loss: 0.0085 - val_loss: 0.0097\n",
            "Epoch 179/200\n",
            "1672/1672 [==============================] - 35s 21ms/step - loss: 0.0089 - val_loss: 0.0097\n",
            "Epoch 180/200\n",
            "1672/1672 [==============================] - 35s 21ms/step - loss: 0.0092 - val_loss: 0.0096\n",
            "Epoch 181/200\n",
            "1672/1672 [==============================] - 35s 21ms/step - loss: 0.0088 - val_loss: 0.0097\n",
            "Epoch 182/200\n",
            "1672/1672 [==============================] - 35s 21ms/step - loss: 0.0094 - val_loss: 0.0096\n",
            "Epoch 183/200\n",
            "1672/1672 [==============================] - 35s 21ms/step - loss: 0.0094 - val_loss: 0.0097\n",
            "Epoch 184/200\n",
            "1672/1672 [==============================] - 35s 21ms/step - loss: 0.0096 - val_loss: 0.0097\n",
            "Epoch 185/200\n",
            "1672/1672 [==============================] - 35s 21ms/step - loss: 0.0088 - val_loss: 0.0096\n",
            "Epoch 186/200\n",
            "1672/1672 [==============================] - 35s 21ms/step - loss: 0.0090 - val_loss: 0.0099\n",
            "Epoch 187/200\n",
            "1672/1672 [==============================] - 35s 21ms/step - loss: 0.0092 - val_loss: 0.0096\n",
            "Epoch 188/200\n",
            "1672/1672 [==============================] - 35s 21ms/step - loss: 0.0085 - val_loss: 0.0095\n",
            "Epoch 189/200\n",
            "1672/1672 [==============================] - 35s 21ms/step - loss: 0.0098 - val_loss: 0.0096\n",
            "Epoch 190/200\n",
            "1672/1672 [==============================] - 35s 21ms/step - loss: 0.0089 - val_loss: 0.0097\n",
            "Epoch 191/200\n",
            "1672/1672 [==============================] - 37s 22ms/step - loss: 0.0096 - val_loss: 0.0097\n",
            "Epoch 192/200\n",
            "1672/1672 [==============================] - 36s 22ms/step - loss: 0.0105 - val_loss: 0.0095\n",
            "Epoch 193/200\n",
            "1672/1672 [==============================] - 36s 22ms/step - loss: 0.0089 - val_loss: 0.0095\n",
            "Epoch 194/200\n",
            "1672/1672 [==============================] - 37s 22ms/step - loss: 0.0086 - val_loss: 0.0095\n",
            "Epoch 195/200\n",
            "1672/1672 [==============================] - 37s 22ms/step - loss: 0.0104 - val_loss: 0.0098\n",
            "Epoch 196/200\n",
            "1672/1672 [==============================] - 36s 22ms/step - loss: 0.0089 - val_loss: 0.0096\n",
            "Epoch 197/200\n",
            "1672/1672 [==============================] - 36s 21ms/step - loss: 0.0091 - val_loss: 0.0095\n",
            "Epoch 198/200\n",
            "1672/1672 [==============================] - 36s 21ms/step - loss: 0.0076 - val_loss: 0.0099\n",
            "Epoch 199/200\n",
            "1672/1672 [==============================] - 36s 22ms/step - loss: 0.0091 - val_loss: 0.0095\n",
            "Epoch 200/200\n",
            "1672/1672 [==============================] - 36s 22ms/step - loss: 0.0091 - val_loss: 0.0098\n",
            "Train Score: 0.0624 MSE\n",
            "Test Score: 0.0845 MSE\n",
            "Epoch 1/200\n",
            "1672/1672 [==============================] - 42s 22ms/step - loss: 0.0296 - val_loss: 0.0282\n",
            "Epoch 2/200\n",
            "1672/1672 [==============================] - 37s 22ms/step - loss: 0.0246 - val_loss: 0.0256\n",
            "Epoch 3/200\n",
            "1672/1672 [==============================] - 38s 23ms/step - loss: 0.0232 - val_loss: 0.0258\n",
            "Epoch 4/200\n",
            "1672/1672 [==============================] - 37s 22ms/step - loss: 0.0209 - val_loss: 0.0235\n",
            "Epoch 5/200\n",
            "1672/1672 [==============================] - 37s 22ms/step - loss: 0.0216 - val_loss: 0.0221\n",
            "Epoch 6/200\n",
            "1672/1672 [==============================] - 38s 23ms/step - loss: 0.0197 - val_loss: 0.0207\n",
            "Epoch 7/200\n",
            "1672/1672 [==============================] - 38s 23ms/step - loss: 0.0202 - val_loss: 0.0202\n",
            "Epoch 8/200\n",
            "1672/1672 [==============================] - 38s 23ms/step - loss: 0.0188 - val_loss: 0.0192\n",
            "Epoch 9/200\n",
            "1672/1672 [==============================] - 37s 22ms/step - loss: 0.0184 - val_loss: 0.0184\n",
            "Epoch 10/200\n",
            "1672/1672 [==============================] - 37s 22ms/step - loss: 0.0179 - val_loss: 0.0179\n",
            "Epoch 11/200\n",
            "1672/1672 [==============================] - 36s 21ms/step - loss: 0.0164 - val_loss: 0.0176\n",
            "Epoch 12/200\n",
            "1672/1672 [==============================] - 36s 21ms/step - loss: 0.0156 - val_loss: 0.0168\n",
            "Epoch 13/200\n",
            "1672/1672 [==============================] - 35s 21ms/step - loss: 0.0170 - val_loss: 0.0160\n",
            "Epoch 14/200\n",
            "1672/1672 [==============================] - 35s 21ms/step - loss: 0.0172 - val_loss: 0.0158\n",
            "Epoch 15/200\n",
            "1672/1672 [==============================] - 35s 21ms/step - loss: 0.0170 - val_loss: 0.0152\n",
            "Epoch 16/200\n",
            "1672/1672 [==============================] - 35s 21ms/step - loss: 0.0159 - val_loss: 0.0151\n",
            "Epoch 17/200\n",
            "1672/1672 [==============================] - 35s 21ms/step - loss: 0.0143 - val_loss: 0.0145\n",
            "Epoch 18/200\n",
            "1672/1672 [==============================] - 36s 21ms/step - loss: 0.0145 - val_loss: 0.0145\n",
            "Epoch 19/200\n",
            "1672/1672 [==============================] - 35s 21ms/step - loss: 0.0150 - val_loss: 0.0140\n",
            "Epoch 20/200\n",
            "1672/1672 [==============================] - 35s 21ms/step - loss: 0.0153 - val_loss: 0.0141\n",
            "Epoch 21/200\n",
            "1672/1672 [==============================] - 36s 21ms/step - loss: 0.0145 - val_loss: 0.0137\n",
            "Epoch 22/200\n",
            "1672/1672 [==============================] - 36s 21ms/step - loss: 0.0141 - val_loss: 0.0138\n",
            "Epoch 23/200\n",
            "1672/1672 [==============================] - 36s 21ms/step - loss: 0.0143 - val_loss: 0.0143\n",
            "Epoch 24/200\n",
            "1672/1672 [==============================] - 36s 21ms/step - loss: 0.0148 - val_loss: 0.0137\n",
            "Epoch 25/200\n",
            "1672/1672 [==============================] - 36s 22ms/step - loss: 0.0142 - val_loss: 0.0133\n",
            "Epoch 26/200\n",
            "1672/1672 [==============================] - 36s 22ms/step - loss: 0.0143 - val_loss: 0.0136\n",
            "Epoch 27/200\n",
            "1672/1672 [==============================] - 37s 22ms/step - loss: 0.0137 - val_loss: 0.0131\n",
            "Epoch 28/200\n",
            "1672/1672 [==============================] - 37s 22ms/step - loss: 0.0138 - val_loss: 0.0131\n",
            "Epoch 29/200\n",
            "1672/1672 [==============================] - 37s 22ms/step - loss: 0.0135 - val_loss: 0.0131\n",
            "Epoch 30/200\n",
            "1672/1672 [==============================] - 36s 22ms/step - loss: 0.0139 - val_loss: 0.0129\n",
            "Epoch 31/200\n",
            "1672/1672 [==============================] - 37s 22ms/step - loss: 0.0140 - val_loss: 0.0128\n",
            "Epoch 32/200\n",
            "1672/1672 [==============================] - 36s 22ms/step - loss: 0.0137 - val_loss: 0.0131\n",
            "Epoch 33/200\n",
            "1672/1672 [==============================] - 37s 22ms/step - loss: 0.0137 - val_loss: 0.0128\n",
            "Epoch 34/200\n",
            "1672/1672 [==============================] - 37s 22ms/step - loss: 0.0134 - val_loss: 0.0129\n",
            "Epoch 35/200\n",
            "1672/1672 [==============================] - 37s 22ms/step - loss: 0.0143 - val_loss: 0.0129\n",
            "Epoch 36/200\n",
            "1672/1672 [==============================] - 37s 22ms/step - loss: 0.0133 - val_loss: 0.0127\n",
            "Epoch 37/200\n",
            "1672/1672 [==============================] - 37s 22ms/step - loss: 0.0141 - val_loss: 0.0127\n",
            "Epoch 38/200\n",
            "1672/1672 [==============================] - 37s 22ms/step - loss: 0.0133 - val_loss: 0.0126\n",
            "Epoch 39/200\n",
            "1672/1672 [==============================] - 37s 22ms/step - loss: 0.0130 - val_loss: 0.0125\n",
            "Epoch 40/200\n",
            "1672/1672 [==============================] - 37s 22ms/step - loss: 0.0136 - val_loss: 0.0130\n",
            "Epoch 41/200\n",
            "1672/1672 [==============================] - 36s 22ms/step - loss: 0.0133 - val_loss: 0.0130\n",
            "Epoch 42/200\n",
            "1672/1672 [==============================] - 36s 21ms/step - loss: 0.0130 - val_loss: 0.0131\n",
            "Epoch 43/200\n",
            "1672/1672 [==============================] - 36s 21ms/step - loss: 0.0135 - val_loss: 0.0126\n",
            "Epoch 44/200\n",
            "1672/1672 [==============================] - 36s 22ms/step - loss: 0.0124 - val_loss: 0.0122\n",
            "Epoch 45/200\n",
            "1672/1672 [==============================] - 38s 23ms/step - loss: 0.0137 - val_loss: 0.0123\n",
            "Epoch 46/200\n",
            "1672/1672 [==============================] - 36s 22ms/step - loss: 0.0126 - val_loss: 0.0126\n",
            "Epoch 47/200\n",
            "1672/1672 [==============================] - 36s 22ms/step - loss: 0.0120 - val_loss: 0.0134\n",
            "Epoch 48/200\n",
            "1672/1672 [==============================] - 37s 22ms/step - loss: 0.0130 - val_loss: 0.0122\n",
            "Epoch 49/200\n",
            "1672/1672 [==============================] - 37s 22ms/step - loss: 0.0144 - val_loss: 0.0121\n",
            "Epoch 50/200\n",
            "1672/1672 [==============================] - 36s 22ms/step - loss: 0.0124 - val_loss: 0.0124\n",
            "Epoch 51/200\n",
            "1672/1672 [==============================] - 37s 22ms/step - loss: 0.0136 - val_loss: 0.0123\n",
            "Epoch 52/200\n",
            "1672/1672 [==============================] - 37s 22ms/step - loss: 0.0130 - val_loss: 0.0122\n",
            "Epoch 53/200\n",
            "1672/1672 [==============================] - 37s 22ms/step - loss: 0.0129 - val_loss: 0.0120\n",
            "Epoch 54/200\n",
            "1672/1672 [==============================] - 37s 22ms/step - loss: 0.0137 - val_loss: 0.0123\n",
            "Epoch 55/200\n",
            "1672/1672 [==============================] - 37s 22ms/step - loss: 0.0118 - val_loss: 0.0121\n",
            "Epoch 56/200\n",
            "1672/1672 [==============================] - 37s 22ms/step - loss: 0.0140 - val_loss: 0.0120\n",
            "Epoch 57/200\n",
            "1672/1672 [==============================] - 36s 22ms/step - loss: 0.0123 - val_loss: 0.0121\n",
            "Epoch 58/200\n",
            "1672/1672 [==============================] - 37s 22ms/step - loss: 0.0127 - val_loss: 0.0120\n",
            "Epoch 59/200\n",
            "1672/1672 [==============================] - 37s 22ms/step - loss: 0.0125 - val_loss: 0.0127\n",
            "Epoch 60/200\n",
            "1672/1672 [==============================] - 37s 22ms/step - loss: 0.0122 - val_loss: 0.0124\n",
            "Epoch 61/200\n",
            "1672/1672 [==============================] - 37s 22ms/step - loss: 0.0121 - val_loss: 0.0120\n",
            "Epoch 62/200\n",
            "1672/1672 [==============================] - 37s 22ms/step - loss: 0.0119 - val_loss: 0.0124\n",
            "Epoch 63/200\n",
            "1672/1672 [==============================] - 37s 22ms/step - loss: 0.0130 - val_loss: 0.0119\n",
            "Epoch 64/200\n",
            "1672/1672 [==============================] - 37s 22ms/step - loss: 0.0128 - val_loss: 0.0117\n",
            "Epoch 65/200\n",
            "1672/1672 [==============================] - 37s 22ms/step - loss: 0.0120 - val_loss: 0.0119\n",
            "Epoch 66/200\n",
            "1672/1672 [==============================] - 37s 22ms/step - loss: 0.0127 - val_loss: 0.0121\n",
            "Epoch 67/200\n",
            "1672/1672 [==============================] - 37s 22ms/step - loss: 0.0117 - val_loss: 0.0125\n",
            "Epoch 68/200\n",
            "1672/1672 [==============================] - 37s 22ms/step - loss: 0.0127 - val_loss: 0.0117\n",
            "Epoch 69/200\n",
            "1672/1672 [==============================] - 37s 22ms/step - loss: 0.0125 - val_loss: 0.0118\n",
            "Epoch 70/200\n",
            "1672/1672 [==============================] - 37s 22ms/step - loss: 0.0127 - val_loss: 0.0118\n",
            "Epoch 71/200\n",
            "1672/1672 [==============================] - 38s 23ms/step - loss: 0.0136 - val_loss: 0.0116\n",
            "Epoch 72/200\n",
            "1672/1672 [==============================] - 37s 22ms/step - loss: 0.0127 - val_loss: 0.0117\n",
            "Epoch 73/200\n",
            "1672/1672 [==============================] - 37s 22ms/step - loss: 0.0127 - val_loss: 0.0117\n",
            "Epoch 74/200\n",
            "1672/1672 [==============================] - 37s 22ms/step - loss: 0.0122 - val_loss: 0.0119\n",
            "Epoch 75/200\n",
            "1672/1672 [==============================] - 36s 22ms/step - loss: 0.0123 - val_loss: 0.0120\n",
            "Epoch 76/200\n",
            "1672/1672 [==============================] - 36s 22ms/step - loss: 0.0131 - val_loss: 0.0116\n",
            "Epoch 77/200\n",
            "1672/1672 [==============================] - 37s 22ms/step - loss: 0.0126 - val_loss: 0.0120\n",
            "Epoch 78/200\n",
            "1672/1672 [==============================] - 37s 22ms/step - loss: 0.0129 - val_loss: 0.0114\n",
            "Epoch 79/200\n",
            "1672/1672 [==============================] - 38s 23ms/step - loss: 0.0141 - val_loss: 0.0116\n",
            "Epoch 80/200\n",
            "1672/1672 [==============================] - 37s 22ms/step - loss: 0.0126 - val_loss: 0.0118\n",
            "Epoch 81/200\n",
            "1672/1672 [==============================] - 37s 22ms/step - loss: 0.0126 - val_loss: 0.0118\n",
            "Epoch 82/200\n",
            "1672/1672 [==============================] - 37s 22ms/step - loss: 0.0122 - val_loss: 0.0117\n",
            "Epoch 83/200\n",
            "1672/1672 [==============================] - 37s 22ms/step - loss: 0.0119 - val_loss: 0.0117\n",
            "Epoch 84/200\n",
            "1672/1672 [==============================] - 37s 22ms/step - loss: 0.0128 - val_loss: 0.0115\n",
            "Epoch 85/200\n",
            "1672/1672 [==============================] - 37s 22ms/step - loss: 0.0124 - val_loss: 0.0115\n",
            "Epoch 86/200\n",
            "1672/1672 [==============================] - 37s 22ms/step - loss: 0.0122 - val_loss: 0.0116\n",
            "Epoch 87/200\n",
            "1672/1672 [==============================] - 37s 22ms/step - loss: 0.0124 - val_loss: 0.0113\n",
            "Epoch 88/200\n",
            "1672/1672 [==============================] - 37s 22ms/step - loss: 0.0122 - val_loss: 0.0116\n",
            "Epoch 89/200\n",
            "1672/1672 [==============================] - 37s 22ms/step - loss: 0.0128 - val_loss: 0.0113\n",
            "Epoch 90/200\n",
            "1672/1672 [==============================] - 37s 22ms/step - loss: 0.0124 - val_loss: 0.0115\n",
            "Epoch 91/200\n",
            "1672/1672 [==============================] - 37s 22ms/step - loss: 0.0134 - val_loss: 0.0114\n",
            "Epoch 92/200\n",
            "1672/1672 [==============================] - 37s 22ms/step - loss: 0.0129 - val_loss: 0.0115\n",
            "Epoch 93/200\n",
            "1672/1672 [==============================] - 37s 22ms/step - loss: 0.0125 - val_loss: 0.0114\n",
            "Epoch 94/200\n",
            "1672/1672 [==============================] - 37s 22ms/step - loss: 0.0121 - val_loss: 0.0114\n",
            "Epoch 95/200\n",
            "1672/1672 [==============================] - 37s 22ms/step - loss: 0.0135 - val_loss: 0.0112\n",
            "Epoch 96/200\n",
            "1672/1672 [==============================] - 37s 22ms/step - loss: 0.0118 - val_loss: 0.0114\n",
            "Epoch 97/200\n",
            "1672/1672 [==============================] - 37s 22ms/step - loss: 0.0117 - val_loss: 0.0113\n",
            "Epoch 98/200\n",
            "1672/1672 [==============================] - 37s 22ms/step - loss: 0.0115 - val_loss: 0.0113\n",
            "Epoch 99/200\n",
            "1672/1672 [==============================] - 37s 22ms/step - loss: 0.0126 - val_loss: 0.0113\n",
            "Epoch 100/200\n",
            "1672/1672 [==============================] - 37s 22ms/step - loss: 0.0117 - val_loss: 0.0115\n",
            "Epoch 101/200\n",
            "1672/1672 [==============================] - 36s 22ms/step - loss: 0.0121 - val_loss: 0.0116\n",
            "Epoch 102/200\n",
            "1672/1672 [==============================] - 37s 22ms/step - loss: 0.0120 - val_loss: 0.0115\n",
            "Epoch 103/200\n",
            "1672/1672 [==============================] - 36s 22ms/step - loss: 0.0121 - val_loss: 0.0112\n",
            "Epoch 104/200\n",
            "1672/1672 [==============================] - 36s 21ms/step - loss: 0.0128 - val_loss: 0.0112\n",
            "Epoch 105/200\n",
            "1672/1672 [==============================] - 35s 21ms/step - loss: 0.0117 - val_loss: 0.0116\n",
            "Epoch 106/200\n",
            "1672/1672 [==============================] - 36s 21ms/step - loss: 0.0123 - val_loss: 0.0112\n",
            "Epoch 107/200\n",
            "1672/1672 [==============================] - 36s 22ms/step - loss: 0.0116 - val_loss: 0.0113\n",
            "Epoch 108/200\n",
            "1672/1672 [==============================] - 36s 22ms/step - loss: 0.0115 - val_loss: 0.0113\n",
            "Epoch 109/200\n",
            "1672/1672 [==============================] - 39s 23ms/step - loss: 0.0125 - val_loss: 0.0110\n",
            "Epoch 110/200\n",
            "1672/1672 [==============================] - 36s 21ms/step - loss: 0.0113 - val_loss: 0.0114\n",
            "Epoch 111/200\n",
            "1672/1672 [==============================] - 36s 22ms/step - loss: 0.0119 - val_loss: 0.0114\n",
            "Epoch 112/200\n",
            "1672/1672 [==============================] - 37s 22ms/step - loss: 0.0117 - val_loss: 0.0110\n",
            "Epoch 113/200\n",
            "1672/1672 [==============================] - 37s 22ms/step - loss: 0.0118 - val_loss: 0.0112\n",
            "Epoch 114/200\n",
            "1672/1672 [==============================] - 37s 22ms/step - loss: 0.0117 - val_loss: 0.0112\n",
            "Epoch 115/200\n",
            "1672/1672 [==============================] - 37s 22ms/step - loss: 0.0116 - val_loss: 0.0112\n",
            "Epoch 116/200\n",
            "1672/1672 [==============================] - 37s 22ms/step - loss: 0.0121 - val_loss: 0.0111\n",
            "Epoch 117/200\n",
            "1672/1672 [==============================] - 37s 22ms/step - loss: 0.0129 - val_loss: 0.0111\n",
            "Epoch 118/200\n",
            "1672/1672 [==============================] - 37s 22ms/step - loss: 0.0121 - val_loss: 0.0111\n",
            "Epoch 119/200\n",
            "1672/1672 [==============================] - 37s 22ms/step - loss: 0.0114 - val_loss: 0.0112\n",
            "Epoch 120/200\n",
            "1672/1672 [==============================] - 36s 22ms/step - loss: 0.0126 - val_loss: 0.0111\n",
            "Epoch 121/200\n",
            "1672/1672 [==============================] - 37s 22ms/step - loss: 0.0111 - val_loss: 0.0112\n",
            "Epoch 122/200\n",
            "1672/1672 [==============================] - 36s 22ms/step - loss: 0.0122 - val_loss: 0.0109\n",
            "Epoch 123/200\n",
            "1672/1672 [==============================] - 36s 22ms/step - loss: 0.0118 - val_loss: 0.0110\n",
            "Epoch 124/200\n",
            "1672/1672 [==============================] - 36s 22ms/step - loss: 0.0125 - val_loss: 0.0109\n",
            "Epoch 125/200\n",
            "1672/1672 [==============================] - 36s 22ms/step - loss: 0.0121 - val_loss: 0.0110\n",
            "Epoch 126/200\n",
            "1672/1672 [==============================] - 36s 21ms/step - loss: 0.0115 - val_loss: 0.0112\n",
            "Epoch 127/200\n",
            "1672/1672 [==============================] - 36s 22ms/step - loss: 0.0126 - val_loss: 0.0110\n",
            "Epoch 128/200\n",
            "1672/1672 [==============================] - 36s 21ms/step - loss: 0.0125 - val_loss: 0.0112\n",
            "Epoch 129/200\n",
            "1672/1672 [==============================] - 36s 21ms/step - loss: 0.0119 - val_loss: 0.0109\n",
            "Epoch 130/200\n",
            "1672/1672 [==============================] - 36s 21ms/step - loss: 0.0122 - val_loss: 0.0111\n",
            "Epoch 131/200\n",
            "1672/1672 [==============================] - 36s 22ms/step - loss: 0.0116 - val_loss: 0.0111\n",
            "Epoch 132/200\n",
            "1672/1672 [==============================] - 36s 22ms/step - loss: 0.0118 - val_loss: 0.0109\n",
            "Epoch 133/200\n",
            "1672/1672 [==============================] - 36s 21ms/step - loss: 0.0117 - val_loss: 0.0110\n",
            "Epoch 134/200\n",
            "1672/1672 [==============================] - 36s 22ms/step - loss: 0.0130 - val_loss: 0.0109\n",
            "Epoch 135/200\n",
            "1672/1672 [==============================] - 36s 21ms/step - loss: 0.0119 - val_loss: 0.0111\n",
            "Epoch 136/200\n",
            "1672/1672 [==============================] - 36s 22ms/step - loss: 0.0118 - val_loss: 0.0110\n",
            "Epoch 137/200\n",
            "1672/1672 [==============================] - 36s 22ms/step - loss: 0.0112 - val_loss: 0.0108\n",
            "Epoch 138/200\n",
            "1672/1672 [==============================] - 36s 22ms/step - loss: 0.0120 - val_loss: 0.0108\n",
            "Epoch 139/200\n",
            "1672/1672 [==============================] - 37s 22ms/step - loss: 0.0134 - val_loss: 0.0108\n",
            "Epoch 140/200\n",
            "1672/1672 [==============================] - 37s 22ms/step - loss: 0.0121 - val_loss: 0.0110\n",
            "Epoch 141/200\n",
            "1672/1672 [==============================] - 36s 21ms/step - loss: 0.0124 - val_loss: 0.0108\n",
            "Epoch 142/200\n",
            "1672/1672 [==============================] - 36s 22ms/step - loss: 0.0114 - val_loss: 0.0109\n",
            "Epoch 143/200\n",
            "1672/1672 [==============================] - 37s 22ms/step - loss: 0.0120 - val_loss: 0.0107\n",
            "Epoch 144/200\n",
            "1672/1672 [==============================] - 36s 22ms/step - loss: 0.0118 - val_loss: 0.0110\n",
            "Epoch 145/200\n",
            "1672/1672 [==============================] - 36s 22ms/step - loss: 0.0123 - val_loss: 0.0109\n",
            "Epoch 146/200\n",
            "1672/1672 [==============================] - 36s 22ms/step - loss: 0.0114 - val_loss: 0.0111\n",
            "Epoch 147/200\n",
            "1672/1672 [==============================] - 36s 22ms/step - loss: 0.0122 - val_loss: 0.0107\n",
            "Epoch 148/200\n",
            "1672/1672 [==============================] - 36s 22ms/step - loss: 0.0118 - val_loss: 0.0108\n",
            "Epoch 149/200\n",
            "1672/1672 [==============================] - 37s 22ms/step - loss: 0.0133 - val_loss: 0.0107\n",
            "Epoch 150/200\n",
            "1672/1672 [==============================] - 37s 22ms/step - loss: 0.0128 - val_loss: 0.0109\n",
            "Epoch 151/200\n",
            "1672/1672 [==============================] - 37s 22ms/step - loss: 0.0125 - val_loss: 0.0108\n",
            "Epoch 152/200\n",
            "1672/1672 [==============================] - 37s 22ms/step - loss: 0.0129 - val_loss: 0.0108\n",
            "Epoch 153/200\n",
            "1672/1672 [==============================] - 37s 22ms/step - loss: 0.0126 - val_loss: 0.0106\n",
            "Epoch 154/200\n",
            "1672/1672 [==============================] - 38s 23ms/step - loss: 0.0118 - val_loss: 0.0108\n",
            "Epoch 155/200\n",
            "1672/1672 [==============================] - 38s 23ms/step - loss: 0.0115 - val_loss: 0.0107\n",
            "Epoch 156/200\n",
            "1672/1672 [==============================] - 38s 23ms/step - loss: 0.0121 - val_loss: 0.0110\n",
            "Epoch 157/200\n",
            "1672/1672 [==============================] - 38s 23ms/step - loss: 0.0121 - val_loss: 0.0107\n",
            "Epoch 158/200\n",
            "1672/1672 [==============================] - 38s 23ms/step - loss: 0.0124 - val_loss: 0.0107\n",
            "Epoch 159/200\n",
            "1672/1672 [==============================] - 38s 23ms/step - loss: 0.0109 - val_loss: 0.0110\n",
            "Epoch 160/200\n",
            "1672/1672 [==============================] - 38s 23ms/step - loss: 0.0116 - val_loss: 0.0107\n",
            "Epoch 161/200\n",
            "1672/1672 [==============================] - 38s 23ms/step - loss: 0.0126 - val_loss: 0.0107\n",
            "Epoch 162/200\n",
            "1672/1672 [==============================] - 38s 23ms/step - loss: 0.0121 - val_loss: 0.0108\n",
            "Epoch 163/200\n",
            "1672/1672 [==============================] - 38s 22ms/step - loss: 0.0118 - val_loss: 0.0107\n",
            "Epoch 164/200\n",
            "1672/1672 [==============================] - 38s 23ms/step - loss: 0.0109 - val_loss: 0.0108\n",
            "Epoch 165/200\n",
            "1672/1672 [==============================] - 38s 22ms/step - loss: 0.0108 - val_loss: 0.0109\n",
            "Epoch 166/200\n",
            "1672/1672 [==============================] - 38s 23ms/step - loss: 0.0110 - val_loss: 0.0107\n",
            "Epoch 167/200\n",
            "1672/1672 [==============================] - 37s 22ms/step - loss: 0.0121 - val_loss: 0.0107\n",
            "Epoch 168/200\n",
            "1672/1672 [==============================] - 36s 22ms/step - loss: 0.0113 - val_loss: 0.0108\n",
            "Epoch 169/200\n",
            "1672/1672 [==============================] - 36s 22ms/step - loss: 0.0110 - val_loss: 0.0107\n",
            "Epoch 170/200\n",
            "1672/1672 [==============================] - 36s 22ms/step - loss: 0.0123 - val_loss: 0.0106\n",
            "Epoch 171/200\n",
            "1672/1672 [==============================] - 36s 22ms/step - loss: 0.0112 - val_loss: 0.0107\n",
            "Epoch 172/200\n",
            "1672/1672 [==============================] - 36s 22ms/step - loss: 0.0113 - val_loss: 0.0106\n",
            "Epoch 173/200\n",
            "1672/1672 [==============================] - 36s 22ms/step - loss: 0.0119 - val_loss: 0.0107\n",
            "Epoch 174/200\n",
            "1672/1672 [==============================] - 36s 22ms/step - loss: 0.0109 - val_loss: 0.0108\n",
            "Epoch 175/200\n",
            "1672/1672 [==============================] - 36s 22ms/step - loss: 0.0112 - val_loss: 0.0111\n",
            "Epoch 176/200\n",
            "1672/1672 [==============================] - 37s 22ms/step - loss: 0.0108 - val_loss: 0.0108\n",
            "Epoch 177/200\n",
            "1672/1672 [==============================] - 37s 22ms/step - loss: 0.0119 - val_loss: 0.0104\n",
            "Epoch 178/200\n",
            "1672/1672 [==============================] - 36s 22ms/step - loss: 0.0111 - val_loss: 0.0113\n",
            "Epoch 179/200\n",
            "1672/1672 [==============================] - 37s 22ms/step - loss: 0.0110 - val_loss: 0.0109\n",
            "Epoch 180/200\n",
            "1672/1672 [==============================] - 39s 23ms/step - loss: 0.0120 - val_loss: 0.0109\n",
            "Epoch 181/200\n",
            "1672/1672 [==============================] - 36s 22ms/step - loss: 0.0122 - val_loss: 0.0107\n",
            "Epoch 182/200\n",
            "1672/1672 [==============================] - 36s 22ms/step - loss: 0.0116 - val_loss: 0.0105\n",
            "Epoch 183/200\n",
            "1672/1672 [==============================] - 36s 22ms/step - loss: 0.0116 - val_loss: 0.0106\n",
            "Epoch 184/200\n",
            "1672/1672 [==============================] - 37s 22ms/step - loss: 0.0124 - val_loss: 0.0108\n",
            "Epoch 185/200\n",
            "1672/1672 [==============================] - 38s 23ms/step - loss: 0.0120 - val_loss: 0.0106\n",
            "Epoch 186/200\n",
            "1672/1672 [==============================] - 37s 22ms/step - loss: 0.0120 - val_loss: 0.0105\n",
            "Epoch 187/200\n",
            "1672/1672 [==============================] - 39s 23ms/step - loss: 0.0125 - val_loss: 0.0104\n",
            "Epoch 188/200\n",
            "1672/1672 [==============================] - 38s 23ms/step - loss: 0.0104 - val_loss: 0.0109\n",
            "Epoch 189/200\n",
            "1672/1672 [==============================] - 39s 23ms/step - loss: 0.0122 - val_loss: 0.0106\n",
            "Epoch 190/200\n",
            "1672/1672 [==============================] - 39s 23ms/step - loss: 0.0113 - val_loss: 0.0106\n",
            "Epoch 191/200\n",
            "1672/1672 [==============================] - 39s 23ms/step - loss: 0.0110 - val_loss: 0.0109\n",
            "Epoch 192/200\n",
            "1672/1672 [==============================] - 39s 23ms/step - loss: 0.0106 - val_loss: 0.0107\n",
            "Epoch 193/200\n",
            "1672/1672 [==============================] - 38s 23ms/step - loss: 0.0109 - val_loss: 0.0110\n",
            "Epoch 194/200\n",
            "1672/1672 [==============================] - 39s 23ms/step - loss: 0.0110 - val_loss: 0.0109\n",
            "Epoch 195/200\n",
            "1672/1672 [==============================] - 40s 24ms/step - loss: 0.0116 - val_loss: 0.0104\n",
            "Epoch 196/200\n",
            "1672/1672 [==============================] - 39s 23ms/step - loss: 0.0114 - val_loss: 0.0106\n",
            "Epoch 197/200\n",
            "1672/1672 [==============================] - 38s 23ms/step - loss: 0.0118 - val_loss: 0.0106\n",
            "Epoch 198/200\n",
            "1672/1672 [==============================] - 38s 23ms/step - loss: 0.0116 - val_loss: 0.0107\n",
            "Epoch 199/200\n",
            "1672/1672 [==============================] - 38s 23ms/step - loss: 0.0113 - val_loss: 0.0109\n",
            "Epoch 200/200\n",
            "1672/1672 [==============================] - 38s 23ms/step - loss: 0.0113 - val_loss: 0.0110\n",
            "Train Score: 0.0104 MSE\n",
            "Test Score: 0.0110 MSE\n"
          ],
          "name": "stdout"
        }
      ]
    },
    {
      "cell_type": "code",
      "metadata": {
        "id": "tEi8HwtYUtUl",
        "colab": {
          "base_uri": "https://localhost:8080/",
          "height": 573
        },
        "outputId": "4883be07-32da-4fe4-9613-5fb4455da4f4"
      },
      "source": [
        "ax1 = plt.figure()\n",
        "plt.plot(loss_long)\n",
        "plt.plot(val_loss_long)\n",
        "plt.title('longitude model loss')\n",
        "plt.ylabel('loss')\n",
        "plt.xlabel('epoch')\n",
        "plt.legend(['train','test'], loc='upper right')\n",
        "plt.show()\n",
        "\n",
        "ax2 = plt.figure()\n",
        "plt.plot(loss_lat)\n",
        "plt.plot(val_loss_lat)\n",
        "plt.title('latitude model loss')\n",
        "plt.ylabel('loss')\n",
        "plt.xlabel('epoch')\n",
        "plt.legend(['train','test'], loc='upper right')\n",
        "plt.show()"
      ],
      "execution_count": 13,
      "outputs": [
        {
          "output_type": "display_data",
          "data": {
            "application/javascript": [
              "google.colab.output.setIframeHeight(0, true, {maxHeight: 50000})"
            ],
            "text/plain": [
              "<IPython.core.display.Javascript object>"
            ]
          },
          "metadata": {
            "tags": []
          }
        },
        {
          "output_type": "display_data",
          "data": {
            "application/javascript": [
              "google.colab.output.setIframeHeight(0, true, {maxHeight: 500000})"
            ],
            "text/plain": [
              "<IPython.core.display.Javascript object>"
            ]
          },
          "metadata": {
            "tags": []
          }
        },
        {
          "output_type": "display_data",
          "data": {
            "image/png": "[encoded data removed]",
            "text/plain": [
              "<Figure size 432x288 with 1 Axes>"
            ]
          },
          "metadata": {
            "tags": [],
            "needs_background": "light"
          }
        },
        {
          "output_type": "display_data",
          "data": {
            "image/png": "[encoded data removed]",
            "text/plain": [
              "<Figure size 432x288 with 1 Axes>"
            ]
          },
          "metadata": {
            "tags": [],
            "needs_background": "light"
          }
        }
      ]
    },
    {
      "cell_type": "code",
      "metadata": {
        "id": "vMioEnqigJPv",
        "colab": {
          "base_uri": "https://localhost:8080/",
          "height": 17
        },
        "outputId": "6b8fcd49-9fb5-4148-c53c-6b9afa785062"
      },
      "source": [
        "latitude_predictions_scaled = scaler.inverse_transform([[Latitude[0],0,0,0,0,0,0,0,0,0,0,0,0,0,0,0] for Latitude in y_pred_lat])\n",
        "longitude_predictions_scaled = scaler.inverse_transform([[0,Longitude[0],0,0,0,0,0,0,0,0,0,0,0,0,0,0] for Longitude in y_pred_long])\n",
        "lat_prediction = latitude_predictions_scaled[:,0]\n",
        "long_prediction = longitude_predictions_scaled[:,1]\n",
        "\n",
        "data_to_visualize = df.iloc[-y_test_latitude.shape[0]-sequence_length:-sequence_length]"
      ],
      "execution_count": 14,
      "outputs": [
        {
          "output_type": "display_data",
          "data": {
            "application/javascript": [
              "google.colab.output.setIframeHeight(0, true, {maxHeight: 50000})"
            ],
            "text/plain": [
              "<IPython.core.display.Javascript object>"
            ]
          },
          "metadata": {
            "tags": []
          }
        },
        {
          "output_type": "display_data",
          "data": {
            "application/javascript": [
              "google.colab.output.setIframeHeight(0, true, {maxHeight: 500000})"
            ],
            "text/plain": [
              "<IPython.core.display.Javascript object>"
            ]
          },
          "metadata": {
            "tags": []
          }
        }
      ]
    },
    {
      "cell_type": "code",
      "metadata": {
        "id": "_Utf6BOzta3t",
        "colab": {
          "base_uri": "https://localhost:8080/",
          "height": 17
        },
        "outputId": "e06cb556-a7a3-48a8-dbc4-16fbe3464336"
      },
      "source": [
        "dataframe = pd.DataFrame(data_to_visualize[['Name','Latitude','Longitude']])\n",
        "dataframe['Lat_pred']= lat_prediction\n",
        "dataframe['Long_pred'] = long_prediction"
      ],
      "execution_count": 15,
      "outputs": [
        {
          "output_type": "display_data",
          "data": {
            "application/javascript": [
              "google.colab.output.setIframeHeight(0, true, {maxHeight: 50000})"
            ],
            "text/plain": [
              "<IPython.core.display.Javascript object>"
            ]
          },
          "metadata": {
            "tags": []
          }
        },
        {
          "output_type": "display_data",
          "data": {
            "application/javascript": [
              "google.colab.output.setIframeHeight(0, true, {maxHeight: 500000})"
            ],
            "text/plain": [
              "<IPython.core.display.Javascript object>"
            ]
          },
          "metadata": {
            "tags": []
          }
        }
      ]
    },
    {
      "cell_type": "code",
      "metadata": {
        "id": "AQvu1bnnujyY",
        "colab": {
          "base_uri": "https://localhost:8080/",
          "height": 204
        },
        "outputId": "ebcac164-68e9-4a42-d8d5-fc4bb59ed301"
      },
      "source": [
        "!apt-get install -q libgeos-3.5.0\n",
        "!apt-get install -q libgeos-dev\n",
        "!pip install -q https://github.com/matplotlib/basemap/archive/master.zip"
      ],
      "execution_count": 16,
      "outputs": [
        {
          "output_type": "display_data",
          "data": {
            "application/javascript": [
              "google.colab.output.setIframeHeight(0, true, {maxHeight: 50000})"
            ],
            "text/plain": [
              "<IPython.core.display.Javascript object>"
            ]
          },
          "metadata": {
            "tags": []
          }
        },
        {
          "output_type": "display_data",
          "data": {
            "application/javascript": [
              "google.colab.output.setIframeHeight(0, true, {maxHeight: 500000})"
            ],
            "text/plain": [
              "<IPython.core.display.Javascript object>"
            ]
          },
          "metadata": {
            "tags": []
          }
        },
        {
          "output_type": "stream",
          "text": [
            "Reading package lists...\n",
            "Building dependency tree...\n",
            "Reading state information...\n",
            "E: Unable to locate package libgeos-3.5.0\n",
            "E: Couldn't find any package by glob 'libgeos-3.5.0'\n",
            "E: Couldn't find any package by regex 'libgeos-3.5.0'\n",
            "Reading package lists...\n",
            "Building dependency tree...\n",
            "Reading state information...\n",
            "libgeos-dev is already the newest version (3.6.2-1build2).\n",
            "0 upgraded, 0 newly installed, 0 to remove and 40 not upgraded.\n"
          ],
          "name": "stdout"
        }
      ]
    },
    {
      "cell_type": "code",
      "metadata": {
        "id": "GWACKJQjvfQ9"
      },
      "source": [
        "from mpl_toolkits.basemap import Basemap"
      ],
      "execution_count": null,
      "outputs": []
    },
    {
      "cell_type": "code",
      "metadata": {
        "id": "D6d5zmK5yf7A"
      },
      "source": [
        "names = pd.unique(dataframe['Name'])"
      ],
      "execution_count": null,
      "outputs": []
    },
    {
      "cell_type": "code",
      "metadata": {
        "id": "dAdebrdZyYoc",
        "colab": {
          "base_uri": "https://localhost:8080/",
          "height": 469
        },
        "outputId": "93d06b65-2aca-4b5b-c2c0-e41984e913ef"
      },
      "source": [
        "#######################\n",
        "#### Visualization ####\n",
        "#######################\n",
        "\n",
        "# plot 10 hurricanes in testing dataset vs prediction\n",
        "\n",
        "plt.figure(figsize=(15,10))\n",
        "m = Basemap(llcrnrlon=-110.,llcrnrlat=0.,urcrnrlon=10.,urcrnrlat=50.,\n",
        "            rsphere=(6378137.00,6356752.3142),\n",
        "            resolution='l',\n",
        "            projection='merc',\n",
        "            lat_0=40.,lon_0=-20.,lat_ts=20.)\n",
        "m.drawcoastlines()\n",
        "m.drawcountries()\n",
        "m.drawmapboundary()\n",
        "m.drawparallels(np.arange(-90,90,10),labels=[1,0,0,0])\n",
        "m.drawmeridians(np.arange(-180,180,30),labels=[0,0,0,1])\n",
        "\n",
        "for i in range(len(names)):\n",
        "    if i <= 10:\n",
        "        lat, long = dataframe[dataframe['Name']==names[i]]['Latitude'], dataframe[dataframe['Name']==names[i]]['Longitude']\n",
        "        xpt, ypt = m(np.array(long), np.array(lat))\n",
        "        testing, = m.plot(xpt, ypt, linewidth=2, color='blue')\n",
        "        pred_lat, pred_long = dataframe[dataframe['Name']==names[i]]['Lat_pred'], dataframe[dataframe['Name']==names[i]]['Long_pred']\n",
        "        xpt_, ypt_ = m(np.array(pred_long), np.array(pred_lat))\n",
        "        prediction = m.scatter(xpt, ypt, color='red', marker='x')\n",
        "    else:\n",
        "        break\n",
        "\n",
        "plt.title('Hurricane trajectories prediction', fontsize=15)\n",
        "plt.legend([testing, prediction],['testing set','prediction'],loc='upper right')\n",
        "plt.show()"
      ],
      "execution_count": 19,
      "outputs": [
        {
          "output_type": "display_data",
          "data": {
            "application/javascript": [
              "google.colab.output.setIframeHeight(0, true, {maxHeight: 50000})"
            ],
            "text/plain": [
              "<IPython.core.display.Javascript object>"
            ]
          },
          "metadata": {
            "tags": []
          }
        },
        {
          "output_type": "display_data",
          "data": {
            "application/javascript": [
              "google.colab.output.setIframeHeight(0, true, {maxHeight: 500000})"
            ],
            "text/plain": [
              "<IPython.core.display.Javascript object>"
            ]
          },
          "metadata": {
            "tags": []
          }
        },
        {
          "output_type": "display_data",
          "data": {
            "image/png": "[encoded data removed]",
            "text/plain": [
              "<Figure size 1080x720 with 1 Axes>"
            ]
          },
          "metadata": {
            "tags": []
          }
        }
      ]
    },
    {
      "cell_type": "markdown",
      "metadata": {
        "id": "v_yGliydcgXi"
      },
      "source": [
        "# New Section"
      ]
    }
  ]
}