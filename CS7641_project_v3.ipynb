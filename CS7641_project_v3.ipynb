{
 "cells": [
  {
   "cell_type": "markdown",
   "metadata": {},
   "source": [
    "# Hurricane Prediction Model\n",
    "\n",
    "Ryan Abramowitz, H. Katrina Alcala, SooHoon Choi, Taegeun Ohe, and Connor Owen\n",
    "<hr>\n",
    "\n",
    "## Background\n",
    "Hurricanes are thermally driven, rapidly rotating storm systems characterized by a low-pressure center whose wind speed exceeds 74 miles per hour. In 2005, Hurricane Katrina, a large Category 5 Atlantic hurricane, caused over 1,800 deaths and \\\\$125 billion in damage. The top 10 costliest hurricanes in the United States occurred in 21st century. According to real estate analytics firm CoreLogic Inc, more than 32 million homes are at risk of hurricane damage on the Atlantic and Gulf Coasts, with a combined value of \\\\$8.5 trillion.\n",
    "\n",
    "## Problem\n",
    "The goal of this project is to accurately predict the hurricane trajectories or track forecasting which will identify the location and the intensity of the hurricane by utilizing diverse data sources to reduce economic damages and save lives. Additionally, the class of each tropical cyclone will be predicted to prevent from unnecessary evacuations or unnecessary resources supply (e.g. a tropical cyclone that never develops into a hurricane). A set of predicted models can lower errors and forecast a few days ahead.\n",
    "\n",
    "#### Table of Contents:\n",
    "* [Cleaning the Data](#cleaning-the-data)\n",
    "* [Mapping Storm Trajectory](#mapping-storm-trajectory)\n",
    "* [Feature Analysis](#feature-analysis)\n",
    "    * [Histogram of Features](#histogram-of-features)\n",
    "    * [Heatmap of Features](#heatmap-of-features)\n",
    "    * [PCA Analysis](#pca-analysis)\n",
    "    * [Conclusion](#feature-analysis-conclusion)\n",
    "* [Classification](#classification)\n",
    "\t* [KNN Classification](#knn-analysis)\n",
    "\t* [SVM Classification](#svm-classification)\n",
    "\t* [Decision Tree Classification](#decision-tree-classification)\n",
    "\t* [Random Forest Classification](#random-forest-classification)\n",
    "\t* [Gaussian Naive Bayes Classification](#gaussian-nb-classification)\n",
    "\t* [Conclusion](#classification-conclusion)\n",
    "\n",
    "## Cleaning the Data <a class=\"anchor\" id=\"cleaning-the-data\"></a>\n",
    "The dataset used for this project is the Atlantic Hurricane Database, which includes tropical storm and hurricane observations, and is maintained by the National Hurricane Center (NHC). The database includes entries dating as far back as 1851 and include numerous features including longitude, latitude, and windspeed of the storm at given times. `Pandas` was used to clean the data entries of cyclones with missing feature data. Each storm was then classified as a type of tropical cyclone, extratropical cyclone, subtropical cyclone of subtropical depression, low, or tropical wave."
   ]
  },
  {
   "cell_type": "code",
   "execution_count": 2,
   "metadata": {},
   "outputs": [
    {
     "name": "stdout",
     "output_type": "stream",
     "text": [
      "['TD', 'TS', 'HU', 'EX', 'WV', 'LO', 'SS', 'SD', 'DB']\n"
     ]
    },
    {
     "data": {
      "text/html": [
       "<div>\n",
       "<style scoped>\n",
       "    .dataframe tbody tr th:only-of-type {\n",
       "        vertical-align: middle;\n",
       "    }\n",
       "\n",
       "    .dataframe tbody tr th {\n",
       "        vertical-align: top;\n",
       "    }\n",
       "\n",
       "    .dataframe thead th {\n",
       "        text-align: right;\n",
       "    }\n",
       "</style>\n",
       "<table border=\"1\" class=\"dataframe\">\n",
       "  <thead>\n",
       "    <tr style=\"text-align: right;\">\n",
       "      <th></th>\n",
       "      <th>ID</th>\n",
       "      <th>Name</th>\n",
       "      <th>Date</th>\n",
       "      <th>Time</th>\n",
       "      <th>Event</th>\n",
       "      <th>Status</th>\n",
       "      <th>Latitude</th>\n",
       "      <th>Longitude</th>\n",
       "      <th>Maximum Wind</th>\n",
       "      <th>Minimum Pressure</th>\n",
       "      <th>...</th>\n",
       "      <th>Low Wind NW</th>\n",
       "      <th>Moderate Wind NE</th>\n",
       "      <th>Moderate Wind SE</th>\n",
       "      <th>Moderate Wind SW</th>\n",
       "      <th>Moderate Wind NW</th>\n",
       "      <th>High Wind NE</th>\n",
       "      <th>High Wind SE</th>\n",
       "      <th>High Wind SW</th>\n",
       "      <th>High Wind NW</th>\n",
       "      <th>Status_Str</th>\n",
       "    </tr>\n",
       "  </thead>\n",
       "  <tbody>\n",
       "    <tr>\n",
       "      <th>43104</th>\n",
       "      <td>AL012004</td>\n",
       "      <td>ALEX</td>\n",
       "      <td>20040731</td>\n",
       "      <td>1800</td>\n",
       "      <td></td>\n",
       "      <td>0</td>\n",
       "      <td>30.3</td>\n",
       "      <td>-78.3</td>\n",
       "      <td>25</td>\n",
       "      <td>1010</td>\n",
       "      <td>...</td>\n",
       "      <td>0</td>\n",
       "      <td>0</td>\n",
       "      <td>0</td>\n",
       "      <td>0</td>\n",
       "      <td>0</td>\n",
       "      <td>0</td>\n",
       "      <td>0</td>\n",
       "      <td>0</td>\n",
       "      <td>0</td>\n",
       "      <td>TD</td>\n",
       "    </tr>\n",
       "    <tr>\n",
       "      <th>43105</th>\n",
       "      <td>AL012004</td>\n",
       "      <td>ALEX</td>\n",
       "      <td>20040801</td>\n",
       "      <td>0</td>\n",
       "      <td></td>\n",
       "      <td>0</td>\n",
       "      <td>31.0</td>\n",
       "      <td>-78.8</td>\n",
       "      <td>25</td>\n",
       "      <td>1009</td>\n",
       "      <td>...</td>\n",
       "      <td>0</td>\n",
       "      <td>0</td>\n",
       "      <td>0</td>\n",
       "      <td>0</td>\n",
       "      <td>0</td>\n",
       "      <td>0</td>\n",
       "      <td>0</td>\n",
       "      <td>0</td>\n",
       "      <td>0</td>\n",
       "      <td>TD</td>\n",
       "    </tr>\n",
       "    <tr>\n",
       "      <th>43106</th>\n",
       "      <td>AL012004</td>\n",
       "      <td>ALEX</td>\n",
       "      <td>20040801</td>\n",
       "      <td>600</td>\n",
       "      <td></td>\n",
       "      <td>0</td>\n",
       "      <td>31.5</td>\n",
       "      <td>-79.0</td>\n",
       "      <td>25</td>\n",
       "      <td>1009</td>\n",
       "      <td>...</td>\n",
       "      <td>0</td>\n",
       "      <td>0</td>\n",
       "      <td>0</td>\n",
       "      <td>0</td>\n",
       "      <td>0</td>\n",
       "      <td>0</td>\n",
       "      <td>0</td>\n",
       "      <td>0</td>\n",
       "      <td>0</td>\n",
       "      <td>TD</td>\n",
       "    </tr>\n",
       "    <tr>\n",
       "      <th>43107</th>\n",
       "      <td>AL012004</td>\n",
       "      <td>ALEX</td>\n",
       "      <td>20040801</td>\n",
       "      <td>1200</td>\n",
       "      <td></td>\n",
       "      <td>0</td>\n",
       "      <td>31.6</td>\n",
       "      <td>-79.1</td>\n",
       "      <td>30</td>\n",
       "      <td>1009</td>\n",
       "      <td>...</td>\n",
       "      <td>0</td>\n",
       "      <td>0</td>\n",
       "      <td>0</td>\n",
       "      <td>0</td>\n",
       "      <td>0</td>\n",
       "      <td>0</td>\n",
       "      <td>0</td>\n",
       "      <td>0</td>\n",
       "      <td>0</td>\n",
       "      <td>TD</td>\n",
       "    </tr>\n",
       "    <tr>\n",
       "      <th>43108</th>\n",
       "      <td>AL012004</td>\n",
       "      <td>ALEX</td>\n",
       "      <td>20040801</td>\n",
       "      <td>1800</td>\n",
       "      <td></td>\n",
       "      <td>1</td>\n",
       "      <td>31.6</td>\n",
       "      <td>-79.2</td>\n",
       "      <td>35</td>\n",
       "      <td>1009</td>\n",
       "      <td>...</td>\n",
       "      <td>0</td>\n",
       "      <td>0</td>\n",
       "      <td>0</td>\n",
       "      <td>0</td>\n",
       "      <td>0</td>\n",
       "      <td>0</td>\n",
       "      <td>0</td>\n",
       "      <td>0</td>\n",
       "      <td>0</td>\n",
       "      <td>TS</td>\n",
       "    </tr>\n",
       "  </tbody>\n",
       "</table>\n",
       "<p>5 rows × 23 columns</p>\n",
       "</div>"
      ],
      "text/plain": [
       "             ID  Name      Date  Time Event  Status  Latitude  Longitude  \\\n",
       "43104  AL012004  ALEX  20040731  1800             0      30.3      -78.3   \n",
       "43105  AL012004  ALEX  20040801     0             0      31.0      -78.8   \n",
       "43106  AL012004  ALEX  20040801   600             0      31.5      -79.0   \n",
       "43107  AL012004  ALEX  20040801  1200             0      31.6      -79.1   \n",
       "43108  AL012004  ALEX  20040801  1800             1      31.6      -79.2   \n",
       "\n",
       "       Maximum Wind  Minimum Pressure  ...  Low Wind NW  Moderate Wind NE  \\\n",
       "43104            25              1010  ...            0                 0   \n",
       "43105            25              1009  ...            0                 0   \n",
       "43106            25              1009  ...            0                 0   \n",
       "43107            30              1009  ...            0                 0   \n",
       "43108            35              1009  ...            0                 0   \n",
       "\n",
       "       Moderate Wind SE  Moderate Wind SW  Moderate Wind NW  High Wind NE  \\\n",
       "43104                 0                 0                 0             0   \n",
       "43105                 0                 0                 0             0   \n",
       "43106                 0                 0                 0             0   \n",
       "43107                 0                 0                 0             0   \n",
       "43108                 0                 0                 0             0   \n",
       "\n",
       "       High Wind SE  High Wind SW  High Wind NW  Status_Str  \n",
       "43104             0             0             0          TD  \n",
       "43105             0             0             0          TD  \n",
       "43106             0             0             0          TD  \n",
       "43107             0             0             0          TD  \n",
       "43108             0             0             0          TS  \n",
       "\n",
       "[5 rows x 23 columns]"
      ]
     },
     "execution_count": 2,
     "metadata": {},
     "output_type": "execute_result"
    }
   ],
   "source": [
    "import pandas as pd\n",
    "import matplotlib.pyplot as plt\n",
    "import numpy as np\n",
    "import warnings\n",
    "warnings.filterwarnings('ignore')\n",
    "\n",
    "df = pd.read_csv('atlantic.csv')\n",
    "\n",
    "###cleaning data###\n",
    "df = df[df.iloc[:,10] != -999]\n",
    "df['Latitude'] = df['Latitude'].str.replace('[a-zA-Z]','').astype(float)\n",
    "df['Longitude'] = df['Longitude'].str.replace('[a-zA-Z]','').astype(float)\n",
    "df['Longitude'] = -1*df['Longitude'] #since the longtitude is in the west\n",
    "\n",
    "# strip white space and create status list\n",
    "df['Name'] = df['Name'].apply(lambda x: x.strip())\n",
    "df['Status_Str'] = df['Status'].loc[:]\n",
    "df['Status'] = df['Status'].apply(lambda x: x.strip())\n",
    "status_list = list(pd.unique(df['Status']))\n",
    "print(status_list)\n",
    "\n",
    "status_dict = {'TD': 'Tropical cyclone of tropical depression intensity (< 34 knots)',  \n",
    "               'TS': 'Tropical cyclone of tropical storm intensity (34-63 knots) ' ,\n",
    "               'HU': 'Tropical cyclone of hurricane intensity (> 64 knots)',  \n",
    "               'EX': 'Extratropical cyclone (of any intensity)',  \n",
    "               'SD': 'Subtropical cyclone of subtropical depression intensity (< 34 knots)',  \n",
    "               'SS': 'Subtropical cyclone of subtropical storm intensity (> 34 knots)',  \n",
    "               'LO': 'A low that is neither a tropical cyclone, a subtropical cyclone, nor an extratropical cyclone (of any intensity)',  \n",
    "               'WV': 'Tropical Wave (of any intensity)  DB – Disturbance (of any intensity)' }\n",
    "\n",
    "# make the status an integer value for classification\n",
    "for i in range(len(status_list)):\n",
    "    df['Status'].replace(status_list[i], i, inplace=True)\n",
    "    \n",
    "df.head()"
   ]
  },
  {
   "cell_type": "markdown",
   "metadata": {},
   "source": [
    "The chart shown above shows a sample of the cleaned dataset with each storm's respective status stored under the column `Status_Str`.\n",
    "\n",
    "## Mapping Storm Trajectory <a class=\"anchor\" id=\"mapping-storm-trajectory\"></a>\n",
    "In order to visualize the hurricane trajectories with respect to wind speed, pressure, and other variables described above, the first 5 hurricanes and their trajectories are plotted using `Plotly` and `Pandas`."
   ]
  },
  {
   "cell_type": "code",
   "execution_count": 3,
   "metadata": {},
   "outputs": [
    {
     "name": "stdout",
     "output_type": "stream",
     "text": [
      "count    5921.000000\n",
      "mean       26.609053\n",
      "std        10.639764\n",
      "min         8.300000\n",
      "25%        17.900000\n",
      "50%        25.400000\n",
      "75%        33.000000\n",
      "max        69.000000\n",
      "Name: Latitude, dtype: float64\n",
      "--------\n",
      "count    5921.000000\n",
      "mean      -60.573467\n",
      "std        21.382350\n",
      "min      -106.700000\n",
      "25%       -78.100000\n",
      "50%       -62.000000\n",
      "75%       -43.900000\n",
      "max        -0.000000\n",
      "Name: Longitude, dtype: float64\n"
     ]
    }
   ],
   "source": [
    "### Helper variables to visualize hurricane trajectory###\n",
    "ID = pd.unique(df['ID'])\n",
    "\n",
    "# get idea of spread of data\n",
    "print(df['Latitude'].describe())\n",
    "print('--------')\n",
    "print(df['Longitude'].describe())"
   ]
  },
  {
   "cell_type": "code",
   "execution_count": 4,
   "metadata": {},
   "outputs": [
    {
     "data": {
      "text/plain": [
       "Index(['ID', 'Name', 'Date', 'Time', 'Event', 'Status', 'Latitude',\n",
       "       'Longitude', 'Maximum Wind', 'Minimum Pressure', 'Low Wind NE',\n",
       "       'Low Wind SE', 'Low Wind SW', 'Low Wind NW', 'Moderate Wind NE',\n",
       "       'Moderate Wind SE', 'Moderate Wind SW', 'Moderate Wind NW',\n",
       "       'High Wind NE', 'High Wind SE', 'High Wind SW', 'High Wind NW',\n",
       "       'Status_Str'],\n",
       "      dtype='object')"
      ]
     },
     "execution_count": 4,
     "metadata": {},
     "output_type": "execute_result"
    }
   ],
   "source": [
    "df.columns"
   ]
  },
  {
   "cell_type": "code",
   "execution_count": 6,
   "metadata": {},
   "outputs": [
    {
     "data": {
      "application/vnd.plotly.v1+json": {
       "config": {
        "plotlyServerURL": "https://plot.ly"
       },
       "data": [
        {
         "customdata": [
          [
           20040731,
           "ALEX",
           " TD"
          ],
          [
           20040801,
           "ALEX",
           " TD"
          ],
          [
           20040801,
           "ALEX",
           " TD"
          ],
          [
           20040801,
           "ALEX",
           " TD"
          ],
          [
           20040801,
           "ALEX",
           " TS"
          ],
          [
           20040802,
           "ALEX",
           " TS"
          ],
          [
           20040802,
           "ALEX",
           " TS"
          ],
          [
           20040802,
           "ALEX",
           " TS"
          ],
          [
           20040802,
           "ALEX",
           " TS"
          ],
          [
           20040803,
           "ALEX",
           " TS"
          ],
          [
           20040803,
           "ALEX",
           " HU"
          ],
          [
           20040803,
           "ALEX",
           " HU"
          ],
          [
           20040803,
           "ALEX",
           " HU"
          ],
          [
           20040804,
           "ALEX",
           " HU"
          ],
          [
           20040804,
           "ALEX",
           " HU"
          ],
          [
           20040804,
           "ALEX",
           " HU"
          ],
          [
           20040804,
           "ALEX",
           " HU"
          ],
          [
           20040805,
           "ALEX",
           " HU"
          ],
          [
           20040805,
           "ALEX",
           " HU"
          ],
          [
           20040805,
           "ALEX",
           " HU"
          ],
          [
           20040805,
           "ALEX",
           " HU"
          ],
          [
           20040806,
           "ALEX",
           " HU"
          ],
          [
           20040806,
           "ALEX",
           " HU"
          ],
          [
           20040806,
           "ALEX",
           " TS"
          ],
          [
           20040806,
           "ALEX",
           " EX"
          ]
         ],
         "geo": "geo",
         "hovertemplate": "<b>%{hovertext}</b><br><br>Name=%{customdata[1]}<br>Latitude=%{lat}<br>Longitude=%{lon}<br>Date=%{customdata[0]}<br>Status_Str=%{customdata[2]}<extra></extra>",
         "hovertext": [
          "AL012004",
          "AL012004",
          "AL012004",
          "AL012004",
          "AL012004",
          "AL012004",
          "AL012004",
          "AL012004",
          "AL012004",
          "AL012004",
          "AL012004",
          "AL012004",
          "AL012004",
          "AL012004",
          "AL012004",
          "AL012004",
          "AL012004",
          "AL012004",
          "AL012004",
          "AL012004",
          "AL012004",
          "AL012004",
          "AL012004",
          "AL012004",
          "AL012004"
         ],
         "lat": [
          30.3,
          31,
          31.5,
          31.6,
          31.6,
          31.5,
          31.4,
          31.3,
          31.8,
          32.4,
          33,
          34.2,
          35.3,
          36,
          36.8,
          37.3,
          37.8,
          38.5,
          39.5,
          40.8,
          42.7,
          44.5,
          46.1,
          47,
          47.4
         ],
         "legendgroup": "ALEX",
         "lon": [
          -78.3,
          -78.8,
          -79,
          -79.1,
          -79.2,
          -79.3,
          -79.4,
          -79,
          -78.7,
          -78.2,
          -77.4,
          -76.4,
          -75.2,
          -73.7,
          -72.1,
          -70.2,
          -68.3,
          -66,
          -63.1,
          -59.6,
          -55,
          -49.3,
          -44.2,
          -37.5,
          -32.7
         ],
         "marker": {
          "color": "#636efa",
          "symbol": "circle"
         },
         "mode": "markers",
         "name": "ALEX",
         "showlegend": true,
         "type": "scattergeo"
        },
        {
         "customdata": [
          [
           20040803,
           "BONNIE",
           " TD"
          ],
          [
           20040803,
           "BONNIE",
           " TD"
          ],
          [
           20040804,
           "BONNIE",
           " TD"
          ],
          [
           20040804,
           "BONNIE",
           " TD"
          ],
          [
           20040804,
           "BONNIE",
           " TD"
          ],
          [
           20040804,
           "BONNIE",
           " WV"
          ],
          [
           20040805,
           "BONNIE",
           " WV"
          ],
          [
           20040805,
           "BONNIE",
           " WV"
          ],
          [
           20040805,
           "BONNIE",
           " WV"
          ],
          [
           20040805,
           "BONNIE",
           " WV"
          ],
          [
           20040806,
           "BONNIE",
           " WV"
          ],
          [
           20040806,
           "BONNIE",
           " WV"
          ],
          [
           20040806,
           "BONNIE",
           " WV"
          ],
          [
           20040806,
           "BONNIE",
           " WV"
          ],
          [
           20040807,
           "BONNIE",
           " WV"
          ],
          [
           20040807,
           "BONNIE",
           " WV"
          ],
          [
           20040807,
           "BONNIE",
           " WV"
          ],
          [
           20040807,
           "BONNIE",
           " WV"
          ],
          [
           20040808,
           "BONNIE",
           " WV"
          ],
          [
           20040808,
           "BONNIE",
           " WV"
          ],
          [
           20040808,
           "BONNIE",
           " TD"
          ],
          [
           20040808,
           "BONNIE",
           " TD"
          ],
          [
           20040809,
           "BONNIE",
           " TD"
          ],
          [
           20040809,
           "BONNIE",
           " TD"
          ],
          [
           20040809,
           "BONNIE",
           " TS"
          ],
          [
           20040809,
           "BONNIE",
           " TS"
          ],
          [
           20040810,
           "BONNIE",
           " TS"
          ],
          [
           20040810,
           "BONNIE",
           " TS"
          ],
          [
           20040810,
           "BONNIE",
           " TS"
          ],
          [
           20040810,
           "BONNIE",
           " TS"
          ],
          [
           20040811,
           "BONNIE",
           " TS"
          ],
          [
           20040811,
           "BONNIE",
           " TS"
          ],
          [
           20040811,
           "BONNIE",
           " TS"
          ],
          [
           20040811,
           "BONNIE",
           " TS"
          ],
          [
           20040812,
           "BONNIE",
           " TS"
          ],
          [
           20040812,
           "BONNIE",
           " TS"
          ],
          [
           20040812,
           "BONNIE",
           " TS"
          ],
          [
           20040812,
           "BONNIE",
           " TD"
          ],
          [
           20040813,
           "BONNIE",
           " TD"
          ],
          [
           20040813,
           "BONNIE",
           " TD"
          ],
          [
           20040813,
           "BONNIE",
           " TD"
          ],
          [
           20040813,
           "BONNIE",
           " TD"
          ],
          [
           20040814,
           "BONNIE",
           " LO"
          ]
         ],
         "geo": "geo",
         "hovertemplate": "<b>%{hovertext}</b><br><br>Name=%{customdata[1]}<br>Latitude=%{lat}<br>Longitude=%{lon}<br>Date=%{customdata[0]}<br>Status_Str=%{customdata[2]}<extra></extra>",
         "hovertext": [
          "AL022004",
          "AL022004",
          "AL022004",
          "AL022004",
          "AL022004",
          "AL022004",
          "AL022004",
          "AL022004",
          "AL022004",
          "AL022004",
          "AL022004",
          "AL022004",
          "AL022004",
          "AL022004",
          "AL022004",
          "AL022004",
          "AL022004",
          "AL022004",
          "AL022004",
          "AL022004",
          "AL022004",
          "AL022004",
          "AL022004",
          "AL022004",
          "AL022004",
          "AL022004",
          "AL022004",
          "AL022004",
          "AL022004",
          "AL022004",
          "AL022004",
          "AL022004",
          "AL022004",
          "AL022004",
          "AL022004",
          "AL022004",
          "AL022004",
          "AL022004",
          "AL022004",
          "AL022004",
          "AL022004",
          "AL022004",
          "AL022004"
         ],
         "lat": [
          12.9,
          13.2,
          13.5,
          13.6,
          13.6,
          13.7,
          14,
          14.9,
          16,
          16.5,
          17,
          17.1,
          17.2,
          17,
          17.1,
          17.4,
          17.8,
          18.4,
          19,
          19.7,
          20.3,
          20.9,
          21.5,
          22,
          22.5,
          22.9,
          23.1,
          23.4,
          24,
          24.4,
          24.7,
          25.2,
          25.7,
          26.4,
          27,
          27.7,
          29,
          30.2,
          31.9,
          33.5,
          35.5,
          37.1,
          39
         ],
         "legendgroup": "BONNIE",
         "lon": [
          -53.6,
          -55.4,
          -57.4,
          -59.5,
          -61.6,
          -63.7,
          -65.7,
          -67.7,
          -69.7,
          -71.5,
          -73,
          -74.6,
          -76.2,
          -77.2,
          -78.2,
          -79.2,
          -80.2,
          -81.1,
          -81.9,
          -82.7,
          -83.5,
          -84.3,
          -85.5,
          -86.6,
          -87.6,
          -88.3,
          -89,
          -89.8,
          -90.6,
          -90.6,
          -90.6,
          -90.6,
          -90.4,
          -89.6,
          -88.8,
          -88.1,
          -86.1,
          -84,
          -81.3,
          -79,
          -76.5,
          -74.9,
          -73.5
         ],
         "marker": {
          "color": "#EF553B",
          "symbol": "circle"
         },
         "mode": "markers",
         "name": "BONNIE",
         "showlegend": true,
         "type": "scattergeo"
        },
        {
         "customdata": [
          [
           20040809,
           "CHARLEY",
           " TD"
          ],
          [
           20040809,
           "CHARLEY",
           " TD"
          ],
          [
           20040810,
           "CHARLEY",
           " TD"
          ],
          [
           20040810,
           "CHARLEY",
           " TS"
          ],
          [
           20040810,
           "CHARLEY",
           " TS"
          ],
          [
           20040810,
           "CHARLEY",
           " TS"
          ],
          [
           20040811,
           "CHARLEY",
           " TS"
          ],
          [
           20040811,
           "CHARLEY",
           " TS"
          ],
          [
           20040811,
           "CHARLEY",
           " TS"
          ],
          [
           20040811,
           "CHARLEY",
           " HU"
          ],
          [
           20040812,
           "CHARLEY",
           " HU"
          ],
          [
           20040812,
           "CHARLEY",
           " HU"
          ],
          [
           20040812,
           "CHARLEY",
           " HU"
          ],
          [
           20040812,
           "CHARLEY",
           " HU"
          ],
          [
           20040813,
           "CHARLEY",
           " HU"
          ],
          [
           20040813,
           "CHARLEY",
           " HU"
          ],
          [
           20040813,
           "CHARLEY",
           " HU"
          ],
          [
           20040813,
           "CHARLEY",
           " HU"
          ],
          [
           20040814,
           "CHARLEY",
           " HU"
          ],
          [
           20040814,
           "CHARLEY",
           " HU"
          ],
          [
           20040814,
           "CHARLEY",
           " HU"
          ],
          [
           20040814,
           "CHARLEY",
           " TS"
          ],
          [
           20040815,
           "CHARLEY",
           " EX"
          ],
          [
           20040815,
           "CHARLEY",
           " EX"
          ],
          [
           20040815,
           "CHARLEY",
           " EX"
          ]
         ],
         "geo": "geo",
         "hovertemplate": "<b>%{hovertext}</b><br><br>Name=%{customdata[1]}<br>Latitude=%{lat}<br>Longitude=%{lon}<br>Date=%{customdata[0]}<br>Status_Str=%{customdata[2]}<extra></extra>",
         "hovertext": [
          "AL032004",
          "AL032004",
          "AL032004",
          "AL032004",
          "AL032004",
          "AL032004",
          "AL032004",
          "AL032004",
          "AL032004",
          "AL032004",
          "AL032004",
          "AL032004",
          "AL032004",
          "AL032004",
          "AL032004",
          "AL032004",
          "AL032004",
          "AL032004",
          "AL032004",
          "AL032004",
          "AL032004",
          "AL032004",
          "AL032004",
          "AL032004",
          "AL032004"
         ],
         "lat": [
          11.4,
          11.7,
          12.2,
          12.9,
          13.8,
          14.9,
          15.6,
          16,
          16.3,
          16.7,
          17.4,
          18.2,
          19.2,
          20.5,
          21.7,
          23,
          24.4,
          26.1,
          28.1,
          30.1,
          32.3,
          34.5,
          36.9,
          39.3,
          41.2
         ],
         "legendgroup": "CHARLEY",
         "lon": [
          -59.2,
          -61.1,
          -63.2,
          -65.3,
          -67.6,
          -69.8,
          -71.8,
          -73.7,
          -75.4,
          -76.8,
          -78.1,
          -79.3,
          -80.7,
          -81.6,
          -82.2,
          -82.6,
          -82.9,
          -82.4,
          -81.6,
          -80.8,
          -79.7,
          -78.1,
          -75.9,
          -73.8,
          -71.1
         ],
         "marker": {
          "color": "#00cc96",
          "symbol": "circle"
         },
         "mode": "markers",
         "name": "CHARLEY",
         "showlegend": true,
         "type": "scattergeo"
        },
        {
         "customdata": [
          [
           20040813,
           "DANIELLE",
           " TD"
          ],
          [
           20040813,
           "DANIELLE",
           " TD"
          ],
          [
           20040814,
           "DANIELLE",
           " TS"
          ],
          [
           20040814,
           "DANIELLE",
           " TS"
          ],
          [
           20040814,
           "DANIELLE",
           " TS"
          ],
          [
           20040814,
           "DANIELLE",
           " TS"
          ],
          [
           20040815,
           "DANIELLE",
           " HU"
          ],
          [
           20040815,
           "DANIELLE",
           " HU"
          ],
          [
           20040815,
           "DANIELLE",
           " HU"
          ],
          [
           20040815,
           "DANIELLE",
           " HU"
          ],
          [
           20040816,
           "DANIELLE",
           " HU"
          ],
          [
           20040816,
           "DANIELLE",
           " HU"
          ],
          [
           20040816,
           "DANIELLE",
           " HU"
          ],
          [
           20040816,
           "DANIELLE",
           " HU"
          ],
          [
           20040817,
           "DANIELLE",
           " HU"
          ],
          [
           20040817,
           "DANIELLE",
           " HU"
          ],
          [
           20040817,
           "DANIELLE",
           " HU"
          ],
          [
           20040817,
           "DANIELLE",
           " HU"
          ],
          [
           20040818,
           "DANIELLE",
           " HU"
          ],
          [
           20040818,
           "DANIELLE",
           " HU"
          ],
          [
           20040818,
           "DANIELLE",
           " TS"
          ],
          [
           20040818,
           "DANIELLE",
           " TS"
          ],
          [
           20040819,
           "DANIELLE",
           " TS"
          ],
          [
           20040819,
           "DANIELLE",
           " TS"
          ],
          [
           20040819,
           "DANIELLE",
           " TS"
          ],
          [
           20040819,
           "DANIELLE",
           " TS"
          ],
          [
           20040820,
           "DANIELLE",
           " TS"
          ],
          [
           20040820,
           "DANIELLE",
           " TS"
          ],
          [
           20040820,
           "DANIELLE",
           " TS"
          ],
          [
           20040820,
           "DANIELLE",
           " TD"
          ],
          [
           20040821,
           "DANIELLE",
           " TD"
          ],
          [
           20040821,
           "DANIELLE",
           " TD"
          ],
          [
           20040821,
           "DANIELLE",
           " TD"
          ],
          [
           20040821,
           "DANIELLE",
           " LO"
          ],
          [
           20040822,
           "DANIELLE",
           " LO"
          ],
          [
           20040822,
           "DANIELLE",
           " LO"
          ],
          [
           20040822,
           "DANIELLE",
           " LO"
          ],
          [
           20040822,
           "DANIELLE",
           " LO"
          ],
          [
           20040823,
           "DANIELLE",
           " LO"
          ],
          [
           20040823,
           "DANIELLE",
           " LO"
          ],
          [
           20040823,
           "DANIELLE",
           " LO"
          ],
          [
           20040823,
           "DANIELLE",
           " LO"
          ],
          [
           20040824,
           "DANIELLE",
           " LO"
          ],
          [
           20040824,
           "DANIELLE",
           " LO"
          ],
          [
           20040824,
           "DANIELLE",
           " LO"
          ],
          [
           20040824,
           "DANIELLE",
           " LO"
          ]
         ],
         "geo": "geo",
         "hovertemplate": "<b>%{hovertext}</b><br><br>Name=%{customdata[1]}<br>Latitude=%{lat}<br>Longitude=%{lon}<br>Date=%{customdata[0]}<br>Status_Str=%{customdata[2]}<extra></extra>",
         "hovertext": [
          "AL042004",
          "AL042004",
          "AL042004",
          "AL042004",
          "AL042004",
          "AL042004",
          "AL042004",
          "AL042004",
          "AL042004",
          "AL042004",
          "AL042004",
          "AL042004",
          "AL042004",
          "AL042004",
          "AL042004",
          "AL042004",
          "AL042004",
          "AL042004",
          "AL042004",
          "AL042004",
          "AL042004",
          "AL042004",
          "AL042004",
          "AL042004",
          "AL042004",
          "AL042004",
          "AL042004",
          "AL042004",
          "AL042004",
          "AL042004",
          "AL042004",
          "AL042004",
          "AL042004",
          "AL042004",
          "AL042004",
          "AL042004",
          "AL042004",
          "AL042004",
          "AL042004",
          "AL042004",
          "AL042004",
          "AL042004",
          "AL042004",
          "AL042004",
          "AL042004",
          "AL042004"
         ],
         "lat": [
          12.3,
          12.4,
          12.6,
          12.9,
          13.2,
          13.5,
          13.8,
          14.1,
          14.7,
          15.2,
          16,
          16.8,
          17.7,
          19,
          20.3,
          21.7,
          23.3,
          24.6,
          25.9,
          27.3,
          28.1,
          28.9,
          29.3,
          29.7,
          29.9,
          29.9,
          29.8,
          30.2,
          30.5,
          30.9,
          30.9,
          30.6,
          30.7,
          30.5,
          30.3,
          30.2,
          30.3,
          30.4,
          30.8,
          31.7,
          32.3,
          33.1,
          33.9,
          34.7,
          35.5,
          36.4
         ],
         "legendgroup": "DANIELLE",
         "lon": [
          -21.8,
          -23,
          -24.2,
          -25.5,
          -26.8,
          -28.1,
          -29.3,
          -30.8,
          -32.1,
          -33.5,
          -34.8,
          -36,
          -37.2,
          -38.2,
          -38.9,
          -39.6,
          -40,
          -40.3,
          -40.6,
          -40.3,
          -39.8,
          -38.9,
          -37.8,
          -37.7,
          -37.7,
          -37.2,
          -36.8,
          -37,
          -37.2,
          -37.6,
          -38,
          -38.6,
          -38.9,
          -39.2,
          -39.8,
          -40.3,
          -40.8,
          -41.2,
          -42,
          -42.5,
          -43.3,
          -43.8,
          -44.2,
          -44.6,
          -45,
          -45.2
         ],
         "marker": {
          "color": "#ab63fa",
          "symbol": "circle"
         },
         "mode": "markers",
         "name": "DANIELLE",
         "showlegend": true,
         "type": "scattergeo"
        },
        {
         "customdata": [
          [
           20040813,
           "EARL",
           " TD"
          ],
          [
           20040814,
           "EARL",
           " TD"
          ],
          [
           20040814,
           "EARL",
           " TD"
          ],
          [
           20040814,
           "EARL",
           " TD"
          ],
          [
           20040814,
           "EARL",
           " TS"
          ],
          [
           20040815,
           "EARL",
           " TS"
          ],
          [
           20040815,
           "EARL",
           " TS"
          ],
          [
           20040815,
           "EARL",
           " TS"
          ],
          [
           20040815,
           "EARL",
           " TS"
          ]
         ],
         "geo": "geo",
         "hovertemplate": "<b>%{hovertext}</b><br><br>Name=%{customdata[1]}<br>Latitude=%{lat}<br>Longitude=%{lon}<br>Date=%{customdata[0]}<br>Status_Str=%{customdata[2]}<extra></extra>",
         "hovertext": [
          "AL052004",
          "AL052004",
          "AL052004",
          "AL052004",
          "AL052004",
          "AL052004",
          "AL052004",
          "AL052004",
          "AL052004"
         ],
         "lat": [
          9,
          9.2,
          9.6,
          10.1,
          10.5,
          11,
          11.5,
          11.8,
          12.1
         ],
         "legendgroup": "EARL",
         "lon": [
          -45.6,
          -47.4,
          -49.2,
          -51.4,
          -53.5,
          -55.9,
          -58.3,
          -60.8,
          -62.8
         ],
         "marker": {
          "color": "#FFA15A",
          "symbol": "circle"
         },
         "mode": "markers",
         "name": "EARL",
         "showlegend": true,
         "type": "scattergeo"
        }
       ],
       "layout": {
        "autosize": true,
        "geo": {
         "center": {},
         "domain": {
          "x": [
           0,
           1
          ],
          "y": [
           0,
           1
          ]
         }
        },
        "legend": {
         "title": {
          "text": "Name"
         },
         "tracegroupgap": 0
        },
        "margin": {
         "t": 60
        },
        "template": {
         "data": {
          "bar": [
           {
            "error_x": {
             "color": "#2a3f5f"
            },
            "error_y": {
             "color": "#2a3f5f"
            },
            "marker": {
             "line": {
              "color": "#E5ECF6",
              "width": 0.5
             },
             "pattern": {
              "fillmode": "overlay",
              "size": 10,
              "solidity": 0.2
             }
            },
            "type": "bar"
           }
          ],
          "barpolar": [
           {
            "marker": {
             "line": {
              "color": "#E5ECF6",
              "width": 0.5
             },
             "pattern": {
              "fillmode": "overlay",
              "size": 10,
              "solidity": 0.2
             }
            },
            "type": "barpolar"
           }
          ],
          "carpet": [
           {
            "aaxis": {
             "endlinecolor": "#2a3f5f",
             "gridcolor": "white",
             "linecolor": "white",
             "minorgridcolor": "white",
             "startlinecolor": "#2a3f5f"
            },
            "baxis": {
             "endlinecolor": "#2a3f5f",
             "gridcolor": "white",
             "linecolor": "white",
             "minorgridcolor": "white",
             "startlinecolor": "#2a3f5f"
            },
            "type": "carpet"
           }
          ],
          "choropleth": [
           {
            "colorbar": {
             "outlinewidth": 0,
             "ticks": ""
            },
            "type": "choropleth"
           }
          ],
          "contour": [
           {
            "colorbar": {
             "outlinewidth": 0,
             "ticks": ""
            },
            "colorscale": [
             [
              0,
              "#0d0887"
             ],
             [
              0.1111111111111111,
              "#46039f"
             ],
             [
              0.2222222222222222,
              "#7201a8"
             ],
             [
              0.3333333333333333,
              "#9c179e"
             ],
             [
              0.4444444444444444,
              "#bd3786"
             ],
             [
              0.5555555555555556,
              "#d8576b"
             ],
             [
              0.6666666666666666,
              "#ed7953"
             ],
             [
              0.7777777777777778,
              "#fb9f3a"
             ],
             [
              0.8888888888888888,
              "#fdca26"
             ],
             [
              1,
              "#f0f921"
             ]
            ],
            "type": "contour"
           }
          ],
          "contourcarpet": [
           {
            "colorbar": {
             "outlinewidth": 0,
             "ticks": ""
            },
            "type": "contourcarpet"
           }
          ],
          "heatmap": [
           {
            "colorbar": {
             "outlinewidth": 0,
             "ticks": ""
            },
            "colorscale": [
             [
              0,
              "#0d0887"
             ],
             [
              0.1111111111111111,
              "#46039f"
             ],
             [
              0.2222222222222222,
              "#7201a8"
             ],
             [
              0.3333333333333333,
              "#9c179e"
             ],
             [
              0.4444444444444444,
              "#bd3786"
             ],
             [
              0.5555555555555556,
              "#d8576b"
             ],
             [
              0.6666666666666666,
              "#ed7953"
             ],
             [
              0.7777777777777778,
              "#fb9f3a"
             ],
             [
              0.8888888888888888,
              "#fdca26"
             ],
             [
              1,
              "#f0f921"
             ]
            ],
            "type": "heatmap"
           }
          ],
          "heatmapgl": [
           {
            "colorbar": {
             "outlinewidth": 0,
             "ticks": ""
            },
            "colorscale": [
             [
              0,
              "#0d0887"
             ],
             [
              0.1111111111111111,
              "#46039f"
             ],
             [
              0.2222222222222222,
              "#7201a8"
             ],
             [
              0.3333333333333333,
              "#9c179e"
             ],
             [
              0.4444444444444444,
              "#bd3786"
             ],
             [
              0.5555555555555556,
              "#d8576b"
             ],
             [
              0.6666666666666666,
              "#ed7953"
             ],
             [
              0.7777777777777778,
              "#fb9f3a"
             ],
             [
              0.8888888888888888,
              "#fdca26"
             ],
             [
              1,
              "#f0f921"
             ]
            ],
            "type": "heatmapgl"
           }
          ],
          "histogram": [
           {
            "marker": {
             "pattern": {
              "fillmode": "overlay",
              "size": 10,
              "solidity": 0.2
             }
            },
            "type": "histogram"
           }
          ],
          "histogram2d": [
           {
            "colorbar": {
             "outlinewidth": 0,
             "ticks": ""
            },
            "colorscale": [
             [
              0,
              "#0d0887"
             ],
             [
              0.1111111111111111,
              "#46039f"
             ],
             [
              0.2222222222222222,
              "#7201a8"
             ],
             [
              0.3333333333333333,
              "#9c179e"
             ],
             [
              0.4444444444444444,
              "#bd3786"
             ],
             [
              0.5555555555555556,
              "#d8576b"
             ],
             [
              0.6666666666666666,
              "#ed7953"
             ],
             [
              0.7777777777777778,
              "#fb9f3a"
             ],
             [
              0.8888888888888888,
              "#fdca26"
             ],
             [
              1,
              "#f0f921"
             ]
            ],
            "type": "histogram2d"
           }
          ],
          "histogram2dcontour": [
           {
            "colorbar": {
             "outlinewidth": 0,
             "ticks": ""
            },
            "colorscale": [
             [
              0,
              "#0d0887"
             ],
             [
              0.1111111111111111,
              "#46039f"
             ],
             [
              0.2222222222222222,
              "#7201a8"
             ],
             [
              0.3333333333333333,
              "#9c179e"
             ],
             [
              0.4444444444444444,
              "#bd3786"
             ],
             [
              0.5555555555555556,
              "#d8576b"
             ],
             [
              0.6666666666666666,
              "#ed7953"
             ],
             [
              0.7777777777777778,
              "#fb9f3a"
             ],
             [
              0.8888888888888888,
              "#fdca26"
             ],
             [
              1,
              "#f0f921"
             ]
            ],
            "type": "histogram2dcontour"
           }
          ],
          "mesh3d": [
           {
            "colorbar": {
             "outlinewidth": 0,
             "ticks": ""
            },
            "type": "mesh3d"
           }
          ],
          "parcoords": [
           {
            "line": {
             "colorbar": {
              "outlinewidth": 0,
              "ticks": ""
             }
            },
            "type": "parcoords"
           }
          ],
          "pie": [
           {
            "automargin": true,
            "type": "pie"
           }
          ],
          "scatter": [
           {
            "marker": {
             "colorbar": {
              "outlinewidth": 0,
              "ticks": ""
             }
            },
            "type": "scatter"
           }
          ],
          "scatter3d": [
           {
            "line": {
             "colorbar": {
              "outlinewidth": 0,
              "ticks": ""
             }
            },
            "marker": {
             "colorbar": {
              "outlinewidth": 0,
              "ticks": ""
             }
            },
            "type": "scatter3d"
           }
          ],
          "scattercarpet": [
           {
            "marker": {
             "colorbar": {
              "outlinewidth": 0,
              "ticks": ""
             }
            },
            "type": "scattercarpet"
           }
          ],
          "scattergeo": [
           {
            "marker": {
             "colorbar": {
              "outlinewidth": 0,
              "ticks": ""
             }
            },
            "type": "scattergeo"
           }
          ],
          "scattergl": [
           {
            "marker": {
             "colorbar": {
              "outlinewidth": 0,
              "ticks": ""
             }
            },
            "type": "scattergl"
           }
          ],
          "scattermapbox": [
           {
            "marker": {
             "colorbar": {
              "outlinewidth": 0,
              "ticks": ""
             }
            },
            "type": "scattermapbox"
           }
          ],
          "scatterpolar": [
           {
            "marker": {
             "colorbar": {
              "outlinewidth": 0,
              "ticks": ""
             }
            },
            "type": "scatterpolar"
           }
          ],
          "scatterpolargl": [
           {
            "marker": {
             "colorbar": {
              "outlinewidth": 0,
              "ticks": ""
             }
            },
            "type": "scatterpolargl"
           }
          ],
          "scatterternary": [
           {
            "marker": {
             "colorbar": {
              "outlinewidth": 0,
              "ticks": ""
             }
            },
            "type": "scatterternary"
           }
          ],
          "surface": [
           {
            "colorbar": {
             "outlinewidth": 0,
             "ticks": ""
            },
            "colorscale": [
             [
              0,
              "#0d0887"
             ],
             [
              0.1111111111111111,
              "#46039f"
             ],
             [
              0.2222222222222222,
              "#7201a8"
             ],
             [
              0.3333333333333333,
              "#9c179e"
             ],
             [
              0.4444444444444444,
              "#bd3786"
             ],
             [
              0.5555555555555556,
              "#d8576b"
             ],
             [
              0.6666666666666666,
              "#ed7953"
             ],
             [
              0.7777777777777778,
              "#fb9f3a"
             ],
             [
              0.8888888888888888,
              "#fdca26"
             ],
             [
              1,
              "#f0f921"
             ]
            ],
            "type": "surface"
           }
          ],
          "table": [
           {
            "cells": {
             "fill": {
              "color": "#EBF0F8"
             },
             "line": {
              "color": "white"
             }
            },
            "header": {
             "fill": {
              "color": "#C8D4E3"
             },
             "line": {
              "color": "white"
             }
            },
            "type": "table"
           }
          ]
         },
         "layout": {
          "annotationdefaults": {
           "arrowcolor": "#2a3f5f",
           "arrowhead": 0,
           "arrowwidth": 1
          },
          "autotypenumbers": "strict",
          "coloraxis": {
           "colorbar": {
            "outlinewidth": 0,
            "ticks": ""
           }
          },
          "colorscale": {
           "diverging": [
            [
             0,
             "#8e0152"
            ],
            [
             0.1,
             "#c51b7d"
            ],
            [
             0.2,
             "#de77ae"
            ],
            [
             0.3,
             "#f1b6da"
            ],
            [
             0.4,
             "#fde0ef"
            ],
            [
             0.5,
             "#f7f7f7"
            ],
            [
             0.6,
             "#e6f5d0"
            ],
            [
             0.7,
             "#b8e186"
            ],
            [
             0.8,
             "#7fbc41"
            ],
            [
             0.9,
             "#4d9221"
            ],
            [
             1,
             "#276419"
            ]
           ],
           "sequential": [
            [
             0,
             "#0d0887"
            ],
            [
             0.1111111111111111,
             "#46039f"
            ],
            [
             0.2222222222222222,
             "#7201a8"
            ],
            [
             0.3333333333333333,
             "#9c179e"
            ],
            [
             0.4444444444444444,
             "#bd3786"
            ],
            [
             0.5555555555555556,
             "#d8576b"
            ],
            [
             0.6666666666666666,
             "#ed7953"
            ],
            [
             0.7777777777777778,
             "#fb9f3a"
            ],
            [
             0.8888888888888888,
             "#fdca26"
            ],
            [
             1,
             "#f0f921"
            ]
           ],
           "sequentialminus": [
            [
             0,
             "#0d0887"
            ],
            [
             0.1111111111111111,
             "#46039f"
            ],
            [
             0.2222222222222222,
             "#7201a8"
            ],
            [
             0.3333333333333333,
             "#9c179e"
            ],
            [
             0.4444444444444444,
             "#bd3786"
            ],
            [
             0.5555555555555556,
             "#d8576b"
            ],
            [
             0.6666666666666666,
             "#ed7953"
            ],
            [
             0.7777777777777778,
             "#fb9f3a"
            ],
            [
             0.8888888888888888,
             "#fdca26"
            ],
            [
             1,
             "#f0f921"
            ]
           ]
          },
          "colorway": [
           "#636efa",
           "#EF553B",
           "#00cc96",
           "#ab63fa",
           "#FFA15A",
           "#19d3f3",
           "#FF6692",
           "#B6E880",
           "#FF97FF",
           "#FECB52"
          ],
          "font": {
           "color": "#2a3f5f"
          },
          "geo": {
           "bgcolor": "white",
           "lakecolor": "white",
           "landcolor": "#E5ECF6",
           "showlakes": true,
           "showland": true,
           "subunitcolor": "white"
          },
          "hoverlabel": {
           "align": "left"
          },
          "hovermode": "closest",
          "mapbox": {
           "style": "light"
          },
          "paper_bgcolor": "white",
          "plot_bgcolor": "#E5ECF6",
          "polar": {
           "angularaxis": {
            "gridcolor": "white",
            "linecolor": "white",
            "ticks": ""
           },
           "bgcolor": "#E5ECF6",
           "radialaxis": {
            "gridcolor": "white",
            "linecolor": "white",
            "ticks": ""
           }
          },
          "scene": {
           "xaxis": {
            "backgroundcolor": "#E5ECF6",
            "gridcolor": "white",
            "gridwidth": 2,
            "linecolor": "white",
            "showbackground": true,
            "ticks": "",
            "zerolinecolor": "white"
           },
           "yaxis": {
            "backgroundcolor": "#E5ECF6",
            "gridcolor": "white",
            "gridwidth": 2,
            "linecolor": "white",
            "showbackground": true,
            "ticks": "",
            "zerolinecolor": "white"
           },
           "zaxis": {
            "backgroundcolor": "#E5ECF6",
            "gridcolor": "white",
            "gridwidth": 2,
            "linecolor": "white",
            "showbackground": true,
            "ticks": "",
            "zerolinecolor": "white"
           }
          },
          "shapedefaults": {
           "line": {
            "color": "#2a3f5f"
           }
          },
          "ternary": {
           "aaxis": {
            "gridcolor": "white",
            "linecolor": "white",
            "ticks": ""
           },
           "baxis": {
            "gridcolor": "white",
            "linecolor": "white",
            "ticks": ""
           },
           "bgcolor": "#E5ECF6",
           "caxis": {
            "gridcolor": "white",
            "linecolor": "white",
            "ticks": ""
           }
          },
          "title": {
           "x": 0.05
          },
          "xaxis": {
           "automargin": true,
           "gridcolor": "white",
           "linecolor": "white",
           "ticks": "",
           "title": {
            "standoff": 15
           },
           "zerolinecolor": "white",
           "zerolinewidth": 2
          },
          "yaxis": {
           "automargin": true,
           "gridcolor": "white",
           "linecolor": "white",
           "ticks": "",
           "title": {
            "standoff": 15
           },
           "zerolinecolor": "white",
           "zerolinewidth": 2
          }
         }
        }
       }
      },
      "image/png": "[encoded data removed]",
      "text/html": [
       "<div>                            <div id=\"354da1a7-8bcb-4dbe-a4eb-80b03d05173a\" class=\"plotly-graph-div\" style=\"height:525px; width:100%;\"></div>            <script type=\"text/javascript\">                require([\"plotly\"], function(Plotly) {                    window.PLOTLYENV=window.PLOTLYENV || {};                                    if (document.getElementById(\"354da1a7-8bcb-4dbe-a4eb-80b03d05173a\")) {                    Plotly.newPlot(                        \"354da1a7-8bcb-4dbe-a4eb-80b03d05173a\",                        [{\"customdata\":[[20040731,\"ALEX\",\" TD\"],[20040801,\"ALEX\",\" TD\"],[20040801,\"ALEX\",\" TD\"],[20040801,\"ALEX\",\" TD\"],[20040801,\"ALEX\",\" TS\"],[20040802,\"ALEX\",\" TS\"],[20040802,\"ALEX\",\" TS\"],[20040802,\"ALEX\",\" TS\"],[20040802,\"ALEX\",\" TS\"],[20040803,\"ALEX\",\" TS\"],[20040803,\"ALEX\",\" HU\"],[20040803,\"ALEX\",\" HU\"],[20040803,\"ALEX\",\" HU\"],[20040804,\"ALEX\",\" HU\"],[20040804,\"ALEX\",\" HU\"],[20040804,\"ALEX\",\" HU\"],[20040804,\"ALEX\",\" HU\"],[20040805,\"ALEX\",\" HU\"],[20040805,\"ALEX\",\" HU\"],[20040805,\"ALEX\",\" HU\"],[20040805,\"ALEX\",\" HU\"],[20040806,\"ALEX\",\" HU\"],[20040806,\"ALEX\",\" HU\"],[20040806,\"ALEX\",\" TS\"],[20040806,\"ALEX\",\" EX\"]],\"geo\":\"geo\",\"hovertemplate\":\"<b>%{hovertext}</b><br><br>Name=%{customdata[1]}<br>Latitude=%{lat}<br>Longitude=%{lon}<br>Date=%{customdata[0]}<br>Status_Str=%{customdata[2]}<extra></extra>\",\"hovertext\":[\"AL012004\",\"AL012004\",\"AL012004\",\"AL012004\",\"AL012004\",\"AL012004\",\"AL012004\",\"AL012004\",\"AL012004\",\"AL012004\",\"AL012004\",\"AL012004\",\"AL012004\",\"AL012004\",\"AL012004\",\"AL012004\",\"AL012004\",\"AL012004\",\"AL012004\",\"AL012004\",\"AL012004\",\"AL012004\",\"AL012004\",\"AL012004\",\"AL012004\"],\"lat\":[30.3,31.0,31.5,31.6,31.6,31.5,31.4,31.3,31.8,32.4,33.0,34.2,35.3,36.0,36.8,37.3,37.8,38.5,39.5,40.8,42.7,44.5,46.1,47.0,47.4],\"legendgroup\":\"ALEX\",\"lon\":[-78.3,-78.8,-79.0,-79.1,-79.2,-79.3,-79.4,-79.0,-78.7,-78.2,-77.4,-76.4,-75.2,-73.7,-72.1,-70.2,-68.3,-66.0,-63.1,-59.6,-55.0,-49.3,-44.2,-37.5,-32.7],\"marker\":{\"color\":\"#636efa\",\"symbol\":\"circle\"},\"mode\":\"markers\",\"name\":\"ALEX\",\"showlegend\":true,\"type\":\"scattergeo\"},{\"customdata\":[[20040803,\"BONNIE\",\" TD\"],[20040803,\"BONNIE\",\" TD\"],[20040804,\"BONNIE\",\" TD\"],[20040804,\"BONNIE\",\" TD\"],[20040804,\"BONNIE\",\" TD\"],[20040804,\"BONNIE\",\" WV\"],[20040805,\"BONNIE\",\" WV\"],[20040805,\"BONNIE\",\" WV\"],[20040805,\"BONNIE\",\" WV\"],[20040805,\"BONNIE\",\" WV\"],[20040806,\"BONNIE\",\" WV\"],[20040806,\"BONNIE\",\" WV\"],[20040806,\"BONNIE\",\" WV\"],[20040806,\"BONNIE\",\" WV\"],[20040807,\"BONNIE\",\" WV\"],[20040807,\"BONNIE\",\" WV\"],[20040807,\"BONNIE\",\" WV\"],[20040807,\"BONNIE\",\" WV\"],[20040808,\"BONNIE\",\" WV\"],[20040808,\"BONNIE\",\" WV\"],[20040808,\"BONNIE\",\" TD\"],[20040808,\"BONNIE\",\" TD\"],[20040809,\"BONNIE\",\" TD\"],[20040809,\"BONNIE\",\" TD\"],[20040809,\"BONNIE\",\" TS\"],[20040809,\"BONNIE\",\" TS\"],[20040810,\"BONNIE\",\" TS\"],[20040810,\"BONNIE\",\" TS\"],[20040810,\"BONNIE\",\" TS\"],[20040810,\"BONNIE\",\" TS\"],[20040811,\"BONNIE\",\" TS\"],[20040811,\"BONNIE\",\" TS\"],[20040811,\"BONNIE\",\" TS\"],[20040811,\"BONNIE\",\" TS\"],[20040812,\"BONNIE\",\" TS\"],[20040812,\"BONNIE\",\" TS\"],[20040812,\"BONNIE\",\" TS\"],[20040812,\"BONNIE\",\" TD\"],[20040813,\"BONNIE\",\" TD\"],[20040813,\"BONNIE\",\" TD\"],[20040813,\"BONNIE\",\" TD\"],[20040813,\"BONNIE\",\" TD\"],[20040814,\"BONNIE\",\" LO\"]],\"geo\":\"geo\",\"hovertemplate\":\"<b>%{hovertext}</b><br><br>Name=%{customdata[1]}<br>Latitude=%{lat}<br>Longitude=%{lon}<br>Date=%{customdata[0]}<br>Status_Str=%{customdata[2]}<extra></extra>\",\"hovertext\":[\"AL022004\",\"AL022004\",\"AL022004\",\"AL022004\",\"AL022004\",\"AL022004\",\"AL022004\",\"AL022004\",\"AL022004\",\"AL022004\",\"AL022004\",\"AL022004\",\"AL022004\",\"AL022004\",\"AL022004\",\"AL022004\",\"AL022004\",\"AL022004\",\"AL022004\",\"AL022004\",\"AL022004\",\"AL022004\",\"AL022004\",\"AL022004\",\"AL022004\",\"AL022004\",\"AL022004\",\"AL022004\",\"AL022004\",\"AL022004\",\"AL022004\",\"AL022004\",\"AL022004\",\"AL022004\",\"AL022004\",\"AL022004\",\"AL022004\",\"AL022004\",\"AL022004\",\"AL022004\",\"AL022004\",\"AL022004\",\"AL022004\"],\"lat\":[12.9,13.2,13.5,13.6,13.6,13.7,14.0,14.9,16.0,16.5,17.0,17.1,17.2,17.0,17.1,17.4,17.8,18.4,19.0,19.7,20.3,20.9,21.5,22.0,22.5,22.9,23.1,23.4,24.0,24.4,24.7,25.2,25.7,26.4,27.0,27.7,29.0,30.2,31.9,33.5,35.5,37.1,39.0],\"legendgroup\":\"BONNIE\",\"lon\":[-53.6,-55.4,-57.4,-59.5,-61.6,-63.7,-65.7,-67.7,-69.7,-71.5,-73.0,-74.6,-76.2,-77.2,-78.2,-79.2,-80.2,-81.1,-81.9,-82.7,-83.5,-84.3,-85.5,-86.6,-87.6,-88.3,-89.0,-89.8,-90.6,-90.6,-90.6,-90.6,-90.4,-89.6,-88.8,-88.1,-86.1,-84.0,-81.3,-79.0,-76.5,-74.9,-73.5],\"marker\":{\"color\":\"#EF553B\",\"symbol\":\"circle\"},\"mode\":\"markers\",\"name\":\"BONNIE\",\"showlegend\":true,\"type\":\"scattergeo\"},{\"customdata\":[[20040809,\"CHARLEY\",\" TD\"],[20040809,\"CHARLEY\",\" TD\"],[20040810,\"CHARLEY\",\" TD\"],[20040810,\"CHARLEY\",\" TS\"],[20040810,\"CHARLEY\",\" TS\"],[20040810,\"CHARLEY\",\" TS\"],[20040811,\"CHARLEY\",\" TS\"],[20040811,\"CHARLEY\",\" TS\"],[20040811,\"CHARLEY\",\" TS\"],[20040811,\"CHARLEY\",\" HU\"],[20040812,\"CHARLEY\",\" HU\"],[20040812,\"CHARLEY\",\" HU\"],[20040812,\"CHARLEY\",\" HU\"],[20040812,\"CHARLEY\",\" HU\"],[20040813,\"CHARLEY\",\" HU\"],[20040813,\"CHARLEY\",\" HU\"],[20040813,\"CHARLEY\",\" HU\"],[20040813,\"CHARLEY\",\" HU\"],[20040814,\"CHARLEY\",\" HU\"],[20040814,\"CHARLEY\",\" HU\"],[20040814,\"CHARLEY\",\" HU\"],[20040814,\"CHARLEY\",\" TS\"],[20040815,\"CHARLEY\",\" EX\"],[20040815,\"CHARLEY\",\" EX\"],[20040815,\"CHARLEY\",\" EX\"]],\"geo\":\"geo\",\"hovertemplate\":\"<b>%{hovertext}</b><br><br>Name=%{customdata[1]}<br>Latitude=%{lat}<br>Longitude=%{lon}<br>Date=%{customdata[0]}<br>Status_Str=%{customdata[2]}<extra></extra>\",\"hovertext\":[\"AL032004\",\"AL032004\",\"AL032004\",\"AL032004\",\"AL032004\",\"AL032004\",\"AL032004\",\"AL032004\",\"AL032004\",\"AL032004\",\"AL032004\",\"AL032004\",\"AL032004\",\"AL032004\",\"AL032004\",\"AL032004\",\"AL032004\",\"AL032004\",\"AL032004\",\"AL032004\",\"AL032004\",\"AL032004\",\"AL032004\",\"AL032004\",\"AL032004\"],\"lat\":[11.4,11.7,12.2,12.9,13.8,14.9,15.6,16.0,16.3,16.7,17.4,18.2,19.2,20.5,21.7,23.0,24.4,26.1,28.1,30.1,32.3,34.5,36.9,39.3,41.2],\"legendgroup\":\"CHARLEY\",\"lon\":[-59.2,-61.1,-63.2,-65.3,-67.6,-69.8,-71.8,-73.7,-75.4,-76.8,-78.1,-79.3,-80.7,-81.6,-82.2,-82.6,-82.9,-82.4,-81.6,-80.8,-79.7,-78.1,-75.9,-73.8,-71.1],\"marker\":{\"color\":\"#00cc96\",\"symbol\":\"circle\"},\"mode\":\"markers\",\"name\":\"CHARLEY\",\"showlegend\":true,\"type\":\"scattergeo\"},{\"customdata\":[[20040813,\"DANIELLE\",\" TD\"],[20040813,\"DANIELLE\",\" TD\"],[20040814,\"DANIELLE\",\" TS\"],[20040814,\"DANIELLE\",\" TS\"],[20040814,\"DANIELLE\",\" TS\"],[20040814,\"DANIELLE\",\" TS\"],[20040815,\"DANIELLE\",\" HU\"],[20040815,\"DANIELLE\",\" HU\"],[20040815,\"DANIELLE\",\" HU\"],[20040815,\"DANIELLE\",\" HU\"],[20040816,\"DANIELLE\",\" HU\"],[20040816,\"DANIELLE\",\" HU\"],[20040816,\"DANIELLE\",\" HU\"],[20040816,\"DANIELLE\",\" HU\"],[20040817,\"DANIELLE\",\" HU\"],[20040817,\"DANIELLE\",\" HU\"],[20040817,\"DANIELLE\",\" HU\"],[20040817,\"DANIELLE\",\" HU\"],[20040818,\"DANIELLE\",\" HU\"],[20040818,\"DANIELLE\",\" HU\"],[20040818,\"DANIELLE\",\" TS\"],[20040818,\"DANIELLE\",\" TS\"],[20040819,\"DANIELLE\",\" TS\"],[20040819,\"DANIELLE\",\" TS\"],[20040819,\"DANIELLE\",\" TS\"],[20040819,\"DANIELLE\",\" TS\"],[20040820,\"DANIELLE\",\" TS\"],[20040820,\"DANIELLE\",\" TS\"],[20040820,\"DANIELLE\",\" TS\"],[20040820,\"DANIELLE\",\" TD\"],[20040821,\"DANIELLE\",\" TD\"],[20040821,\"DANIELLE\",\" TD\"],[20040821,\"DANIELLE\",\" TD\"],[20040821,\"DANIELLE\",\" LO\"],[20040822,\"DANIELLE\",\" LO\"],[20040822,\"DANIELLE\",\" LO\"],[20040822,\"DANIELLE\",\" LO\"],[20040822,\"DANIELLE\",\" LO\"],[20040823,\"DANIELLE\",\" LO\"],[20040823,\"DANIELLE\",\" LO\"],[20040823,\"DANIELLE\",\" LO\"],[20040823,\"DANIELLE\",\" LO\"],[20040824,\"DANIELLE\",\" LO\"],[20040824,\"DANIELLE\",\" LO\"],[20040824,\"DANIELLE\",\" LO\"],[20040824,\"DANIELLE\",\" LO\"]],\"geo\":\"geo\",\"hovertemplate\":\"<b>%{hovertext}</b><br><br>Name=%{customdata[1]}<br>Latitude=%{lat}<br>Longitude=%{lon}<br>Date=%{customdata[0]}<br>Status_Str=%{customdata[2]}<extra></extra>\",\"hovertext\":[\"AL042004\",\"AL042004\",\"AL042004\",\"AL042004\",\"AL042004\",\"AL042004\",\"AL042004\",\"AL042004\",\"AL042004\",\"AL042004\",\"AL042004\",\"AL042004\",\"AL042004\",\"AL042004\",\"AL042004\",\"AL042004\",\"AL042004\",\"AL042004\",\"AL042004\",\"AL042004\",\"AL042004\",\"AL042004\",\"AL042004\",\"AL042004\",\"AL042004\",\"AL042004\",\"AL042004\",\"AL042004\",\"AL042004\",\"AL042004\",\"AL042004\",\"AL042004\",\"AL042004\",\"AL042004\",\"AL042004\",\"AL042004\",\"AL042004\",\"AL042004\",\"AL042004\",\"AL042004\",\"AL042004\",\"AL042004\",\"AL042004\",\"AL042004\",\"AL042004\",\"AL042004\"],\"lat\":[12.3,12.4,12.6,12.9,13.2,13.5,13.8,14.1,14.7,15.2,16.0,16.8,17.7,19.0,20.3,21.7,23.3,24.6,25.9,27.3,28.1,28.9,29.3,29.7,29.9,29.9,29.8,30.2,30.5,30.9,30.9,30.6,30.7,30.5,30.3,30.2,30.3,30.4,30.8,31.7,32.3,33.1,33.9,34.7,35.5,36.4],\"legendgroup\":\"DANIELLE\",\"lon\":[-21.8,-23.0,-24.2,-25.5,-26.8,-28.1,-29.3,-30.8,-32.1,-33.5,-34.8,-36.0,-37.2,-38.2,-38.9,-39.6,-40.0,-40.3,-40.6,-40.3,-39.8,-38.9,-37.8,-37.7,-37.7,-37.2,-36.8,-37.0,-37.2,-37.6,-38.0,-38.6,-38.9,-39.2,-39.8,-40.3,-40.8,-41.2,-42.0,-42.5,-43.3,-43.8,-44.2,-44.6,-45.0,-45.2],\"marker\":{\"color\":\"#ab63fa\",\"symbol\":\"circle\"},\"mode\":\"markers\",\"name\":\"DANIELLE\",\"showlegend\":true,\"type\":\"scattergeo\"},{\"customdata\":[[20040813,\"EARL\",\" TD\"],[20040814,\"EARL\",\" TD\"],[20040814,\"EARL\",\" TD\"],[20040814,\"EARL\",\" TD\"],[20040814,\"EARL\",\" TS\"],[20040815,\"EARL\",\" TS\"],[20040815,\"EARL\",\" TS\"],[20040815,\"EARL\",\" TS\"],[20040815,\"EARL\",\" TS\"]],\"geo\":\"geo\",\"hovertemplate\":\"<b>%{hovertext}</b><br><br>Name=%{customdata[1]}<br>Latitude=%{lat}<br>Longitude=%{lon}<br>Date=%{customdata[0]}<br>Status_Str=%{customdata[2]}<extra></extra>\",\"hovertext\":[\"AL052004\",\"AL052004\",\"AL052004\",\"AL052004\",\"AL052004\",\"AL052004\",\"AL052004\",\"AL052004\",\"AL052004\"],\"lat\":[9.0,9.2,9.6,10.1,10.5,11.0,11.5,11.8,12.1],\"legendgroup\":\"EARL\",\"lon\":[-45.6,-47.4,-49.2,-51.4,-53.5,-55.9,-58.3,-60.8,-62.8],\"marker\":{\"color\":\"#FFA15A\",\"symbol\":\"circle\"},\"mode\":\"markers\",\"name\":\"EARL\",\"showlegend\":true,\"type\":\"scattergeo\"}],                        {\"geo\":{\"center\":{},\"domain\":{\"x\":[0.0,1.0],\"y\":[0.0,1.0]}},\"legend\":{\"title\":{\"text\":\"Name\"},\"tracegroupgap\":0},\"margin\":{\"t\":60},\"template\":{\"data\":{\"bar\":[{\"error_x\":{\"color\":\"#2a3f5f\"},\"error_y\":{\"color\":\"#2a3f5f\"},\"marker\":{\"line\":{\"color\":\"#E5ECF6\",\"width\":0.5},\"pattern\":{\"fillmode\":\"overlay\",\"size\":10,\"solidity\":0.2}},\"type\":\"bar\"}],\"barpolar\":[{\"marker\":{\"line\":{\"color\":\"#E5ECF6\",\"width\":0.5},\"pattern\":{\"fillmode\":\"overlay\",\"size\":10,\"solidity\":0.2}},\"type\":\"barpolar\"}],\"carpet\":[{\"aaxis\":{\"endlinecolor\":\"#2a3f5f\",\"gridcolor\":\"white\",\"linecolor\":\"white\",\"minorgridcolor\":\"white\",\"startlinecolor\":\"#2a3f5f\"},\"baxis\":{\"endlinecolor\":\"#2a3f5f\",\"gridcolor\":\"white\",\"linecolor\":\"white\",\"minorgridcolor\":\"white\",\"startlinecolor\":\"#2a3f5f\"},\"type\":\"carpet\"}],\"choropleth\":[{\"colorbar\":{\"outlinewidth\":0,\"ticks\":\"\"},\"type\":\"choropleth\"}],\"contour\":[{\"colorbar\":{\"outlinewidth\":0,\"ticks\":\"\"},\"colorscale\":[[0.0,\"#0d0887\"],[0.1111111111111111,\"#46039f\"],[0.2222222222222222,\"#7201a8\"],[0.3333333333333333,\"#9c179e\"],[0.4444444444444444,\"#bd3786\"],[0.5555555555555556,\"#d8576b\"],[0.6666666666666666,\"#ed7953\"],[0.7777777777777778,\"#fb9f3a\"],[0.8888888888888888,\"#fdca26\"],[1.0,\"#f0f921\"]],\"type\":\"contour\"}],\"contourcarpet\":[{\"colorbar\":{\"outlinewidth\":0,\"ticks\":\"\"},\"type\":\"contourcarpet\"}],\"heatmap\":[{\"colorbar\":{\"outlinewidth\":0,\"ticks\":\"\"},\"colorscale\":[[0.0,\"#0d0887\"],[0.1111111111111111,\"#46039f\"],[0.2222222222222222,\"#7201a8\"],[0.3333333333333333,\"#9c179e\"],[0.4444444444444444,\"#bd3786\"],[0.5555555555555556,\"#d8576b\"],[0.6666666666666666,\"#ed7953\"],[0.7777777777777778,\"#fb9f3a\"],[0.8888888888888888,\"#fdca26\"],[1.0,\"#f0f921\"]],\"type\":\"heatmap\"}],\"heatmapgl\":[{\"colorbar\":{\"outlinewidth\":0,\"ticks\":\"\"},\"colorscale\":[[0.0,\"#0d0887\"],[0.1111111111111111,\"#46039f\"],[0.2222222222222222,\"#7201a8\"],[0.3333333333333333,\"#9c179e\"],[0.4444444444444444,\"#bd3786\"],[0.5555555555555556,\"#d8576b\"],[0.6666666666666666,\"#ed7953\"],[0.7777777777777778,\"#fb9f3a\"],[0.8888888888888888,\"#fdca26\"],[1.0,\"#f0f921\"]],\"type\":\"heatmapgl\"}],\"histogram\":[{\"marker\":{\"pattern\":{\"fillmode\":\"overlay\",\"size\":10,\"solidity\":0.2}},\"type\":\"histogram\"}],\"histogram2d\":[{\"colorbar\":{\"outlinewidth\":0,\"ticks\":\"\"},\"colorscale\":[[0.0,\"#0d0887\"],[0.1111111111111111,\"#46039f\"],[0.2222222222222222,\"#7201a8\"],[0.3333333333333333,\"#9c179e\"],[0.4444444444444444,\"#bd3786\"],[0.5555555555555556,\"#d8576b\"],[0.6666666666666666,\"#ed7953\"],[0.7777777777777778,\"#fb9f3a\"],[0.8888888888888888,\"#fdca26\"],[1.0,\"#f0f921\"]],\"type\":\"histogram2d\"}],\"histogram2dcontour\":[{\"colorbar\":{\"outlinewidth\":0,\"ticks\":\"\"},\"colorscale\":[[0.0,\"#0d0887\"],[0.1111111111111111,\"#46039f\"],[0.2222222222222222,\"#7201a8\"],[0.3333333333333333,\"#9c179e\"],[0.4444444444444444,\"#bd3786\"],[0.5555555555555556,\"#d8576b\"],[0.6666666666666666,\"#ed7953\"],[0.7777777777777778,\"#fb9f3a\"],[0.8888888888888888,\"#fdca26\"],[1.0,\"#f0f921\"]],\"type\":\"histogram2dcontour\"}],\"mesh3d\":[{\"colorbar\":{\"outlinewidth\":0,\"ticks\":\"\"},\"type\":\"mesh3d\"}],\"parcoords\":[{\"line\":{\"colorbar\":{\"outlinewidth\":0,\"ticks\":\"\"}},\"type\":\"parcoords\"}],\"pie\":[{\"automargin\":true,\"type\":\"pie\"}],\"scatter\":[{\"marker\":{\"colorbar\":{\"outlinewidth\":0,\"ticks\":\"\"}},\"type\":\"scatter\"}],\"scatter3d\":[{\"line\":{\"colorbar\":{\"outlinewidth\":0,\"ticks\":\"\"}},\"marker\":{\"colorbar\":{\"outlinewidth\":0,\"ticks\":\"\"}},\"type\":\"scatter3d\"}],\"scattercarpet\":[{\"marker\":{\"colorbar\":{\"outlinewidth\":0,\"ticks\":\"\"}},\"type\":\"scattercarpet\"}],\"scattergeo\":[{\"marker\":{\"colorbar\":{\"outlinewidth\":0,\"ticks\":\"\"}},\"type\":\"scattergeo\"}],\"scattergl\":[{\"marker\":{\"colorbar\":{\"outlinewidth\":0,\"ticks\":\"\"}},\"type\":\"scattergl\"}],\"scattermapbox\":[{\"marker\":{\"colorbar\":{\"outlinewidth\":0,\"ticks\":\"\"}},\"type\":\"scattermapbox\"}],\"scatterpolar\":[{\"marker\":{\"colorbar\":{\"outlinewidth\":0,\"ticks\":\"\"}},\"type\":\"scatterpolar\"}],\"scatterpolargl\":[{\"marker\":{\"colorbar\":{\"outlinewidth\":0,\"ticks\":\"\"}},\"type\":\"scatterpolargl\"}],\"scatterternary\":[{\"marker\":{\"colorbar\":{\"outlinewidth\":0,\"ticks\":\"\"}},\"type\":\"scatterternary\"}],\"surface\":[{\"colorbar\":{\"outlinewidth\":0,\"ticks\":\"\"},\"colorscale\":[[0.0,\"#0d0887\"],[0.1111111111111111,\"#46039f\"],[0.2222222222222222,\"#7201a8\"],[0.3333333333333333,\"#9c179e\"],[0.4444444444444444,\"#bd3786\"],[0.5555555555555556,\"#d8576b\"],[0.6666666666666666,\"#ed7953\"],[0.7777777777777778,\"#fb9f3a\"],[0.8888888888888888,\"#fdca26\"],[1.0,\"#f0f921\"]],\"type\":\"surface\"}],\"table\":[{\"cells\":{\"fill\":{\"color\":\"#EBF0F8\"},\"line\":{\"color\":\"white\"}},\"header\":{\"fill\":{\"color\":\"#C8D4E3\"},\"line\":{\"color\":\"white\"}},\"type\":\"table\"}]},\"layout\":{\"annotationdefaults\":{\"arrowcolor\":\"#2a3f5f\",\"arrowhead\":0,\"arrowwidth\":1},\"autotypenumbers\":\"strict\",\"coloraxis\":{\"colorbar\":{\"outlinewidth\":0,\"ticks\":\"\"}},\"colorscale\":{\"diverging\":[[0,\"#8e0152\"],[0.1,\"#c51b7d\"],[0.2,\"#de77ae\"],[0.3,\"#f1b6da\"],[0.4,\"#fde0ef\"],[0.5,\"#f7f7f7\"],[0.6,\"#e6f5d0\"],[0.7,\"#b8e186\"],[0.8,\"#7fbc41\"],[0.9,\"#4d9221\"],[1,\"#276419\"]],\"sequential\":[[0.0,\"#0d0887\"],[0.1111111111111111,\"#46039f\"],[0.2222222222222222,\"#7201a8\"],[0.3333333333333333,\"#9c179e\"],[0.4444444444444444,\"#bd3786\"],[0.5555555555555556,\"#d8576b\"],[0.6666666666666666,\"#ed7953\"],[0.7777777777777778,\"#fb9f3a\"],[0.8888888888888888,\"#fdca26\"],[1.0,\"#f0f921\"]],\"sequentialminus\":[[0.0,\"#0d0887\"],[0.1111111111111111,\"#46039f\"],[0.2222222222222222,\"#7201a8\"],[0.3333333333333333,\"#9c179e\"],[0.4444444444444444,\"#bd3786\"],[0.5555555555555556,\"#d8576b\"],[0.6666666666666666,\"#ed7953\"],[0.7777777777777778,\"#fb9f3a\"],[0.8888888888888888,\"#fdca26\"],[1.0,\"#f0f921\"]]},\"colorway\":[\"#636efa\",\"#EF553B\",\"#00cc96\",\"#ab63fa\",\"#FFA15A\",\"#19d3f3\",\"#FF6692\",\"#B6E880\",\"#FF97FF\",\"#FECB52\"],\"font\":{\"color\":\"#2a3f5f\"},\"geo\":{\"bgcolor\":\"white\",\"lakecolor\":\"white\",\"landcolor\":\"#E5ECF6\",\"showlakes\":true,\"showland\":true,\"subunitcolor\":\"white\"},\"hoverlabel\":{\"align\":\"left\"},\"hovermode\":\"closest\",\"mapbox\":{\"style\":\"light\"},\"paper_bgcolor\":\"white\",\"plot_bgcolor\":\"#E5ECF6\",\"polar\":{\"angularaxis\":{\"gridcolor\":\"white\",\"linecolor\":\"white\",\"ticks\":\"\"},\"bgcolor\":\"#E5ECF6\",\"radialaxis\":{\"gridcolor\":\"white\",\"linecolor\":\"white\",\"ticks\":\"\"}},\"scene\":{\"xaxis\":{\"backgroundcolor\":\"#E5ECF6\",\"gridcolor\":\"white\",\"gridwidth\":2,\"linecolor\":\"white\",\"showbackground\":true,\"ticks\":\"\",\"zerolinecolor\":\"white\"},\"yaxis\":{\"backgroundcolor\":\"#E5ECF6\",\"gridcolor\":\"white\",\"gridwidth\":2,\"linecolor\":\"white\",\"showbackground\":true,\"ticks\":\"\",\"zerolinecolor\":\"white\"},\"zaxis\":{\"backgroundcolor\":\"#E5ECF6\",\"gridcolor\":\"white\",\"gridwidth\":2,\"linecolor\":\"white\",\"showbackground\":true,\"ticks\":\"\",\"zerolinecolor\":\"white\"}},\"shapedefaults\":{\"line\":{\"color\":\"#2a3f5f\"}},\"ternary\":{\"aaxis\":{\"gridcolor\":\"white\",\"linecolor\":\"white\",\"ticks\":\"\"},\"baxis\":{\"gridcolor\":\"white\",\"linecolor\":\"white\",\"ticks\":\"\"},\"bgcolor\":\"#E5ECF6\",\"caxis\":{\"gridcolor\":\"white\",\"linecolor\":\"white\",\"ticks\":\"\"}},\"title\":{\"x\":0.05},\"xaxis\":{\"automargin\":true,\"gridcolor\":\"white\",\"linecolor\":\"white\",\"ticks\":\"\",\"title\":{\"standoff\":15},\"zerolinecolor\":\"white\",\"zerolinewidth\":2},\"yaxis\":{\"automargin\":true,\"gridcolor\":\"white\",\"linecolor\":\"white\",\"ticks\":\"\",\"title\":{\"standoff\":15},\"zerolinecolor\":\"white\",\"zerolinewidth\":2}}}},                        {\"responsive\": true}                    ).then(function(){\n",
       "                            \n",
       "var gd = document.getElementById('354da1a7-8bcb-4dbe-a4eb-80b03d05173a');\n",
       "var x = new MutationObserver(function (mutations, observer) {{\n",
       "        var display = window.getComputedStyle(gd).display;\n",
       "        if (!display || display === 'none') {{\n",
       "            console.log([gd, 'removed!']);\n",
       "            Plotly.purge(gd);\n",
       "            observer.disconnect();\n",
       "        }}\n",
       "}});\n",
       "\n",
       "// Listen for the removal of the full notebook cells\n",
       "var notebookContainer = gd.closest('#notebook-container');\n",
       "if (notebookContainer) {{\n",
       "    x.observe(notebookContainer, {childList: true});\n",
       "}}\n",
       "\n",
       "// Listen for the clearing of the current output cell\n",
       "var outputEl = gd.closest('.output');\n",
       "if (outputEl) {{\n",
       "    x.observe(outputEl, {childList: true});\n",
       "}}\n",
       "\n",
       "                        })                };                });            </script>        </div>"
      ]
     },
     "metadata": {},
     "output_type": "display_data"
    }
   ],
   "source": [
    "# plot the first 5 storms in the dataset\n",
    "import plotly.express as px\n",
    "fig = px.scatter_geo(df[df['ID'].isin(ID[0:5])], lat='Latitude', lon='Longitude', \n",
    "                     color='Name', hover_name='ID', hover_data=['Date', 'Name', 'Status_Str'])\n",
    "fig.show()"
   ]
  },
  {
   "cell_type": "markdown",
   "metadata": {},
   "source": [
    "## Feature Analysis <a class=\"anchor\" id=\"feature-analysis\"></a>\n",
    "In order to lower the cost of running any trajectory prediction algorithm, it would be wise to determine the importance each feature in the dataset. Removing unnecessary features will save time and computational resources in future iterations.\n",
    "\n",
    "#### Histogram of Features <a class=\"anchor\" id=\"histogram-of-features\"></a>"
   ]
  },
  {
   "cell_type": "code",
   "execution_count": 5,
   "metadata": {},
   "outputs": [],
   "source": [
    "feat_columns = ['Status', 'Maximum Wind', 'Minimum Pressure', 'Low Wind NE',\n",
    "       'Low Wind SE', 'Low Wind SW', 'Low Wind NW', 'Moderate Wind NE',\n",
    "       'Moderate Wind SE', 'Moderate Wind SW', 'Moderate Wind NW',\n",
    "       'High Wind NE', 'High Wind SE', 'High Wind SW', 'High Wind NW']\n",
    "\n",
    "def is_real_and_finite(x):\n",
    "    if not np.isreal(x):\n",
    "        return False\n",
    "    elif not np.isfinite(x):\n",
    "        return False\n",
    "    else:\n",
    "        return True\n",
    "\n",
    "feat_df = df[feat_columns]\n",
    "feat_df.isna().sum()\n",
    "numeric_map = feat_df.applymap(is_real_and_finite)\n",
    "for feat in feat_columns: \n",
    "    if (numeric_map[feat]==False).sum():\n",
    "        print(f'Missing Value found in column: {feat}')"
   ]
  },
  {
   "cell_type": "markdown",
   "metadata": {},
   "source": [
    "Below is a histogram showing the frequency of each feature in the dataset."
   ]
  },
  {
   "cell_type": "code",
   "execution_count": 6,
   "metadata": {},
   "outputs": [
    {
     "data": {
      "image/png": "[encoded data removed]",
      "text/plain": [
       "<Figure size 1296x1296 with 16 Axes>"
      ]
     },
     "metadata": {
      "needs_background": "light"
     },
     "output_type": "display_data"
    }
   ],
   "source": [
    "#visualizing the features\n",
    "N = len(feat_columns)\n",
    "n = int(np.sqrt(N))\n",
    "fig, axes = plt.subplots(n+1, n+1, figsize=(6*n, 6*n))\n",
    "ax = axes.ravel()\n",
    "for i in range(N):\n",
    "    ax[i].hist(df[feat_columns[i]])\n",
    "    ax[i].set_xlabel(feat_columns[i])"
   ]
  },
  {
   "cell_type": "markdown",
   "metadata": {},
   "source": [
    "#### Heatmap of Features <a class=\"anchor\" id=\"heatmap-of-features\"></a>\n",
    "In order to visualize the correlation between features, a Pearson heatmap was generated in which the correlation values range from -1 (max negative correlation) to 1 (max positive correlation). Based on the heat map shown, we can make a few assumptions:\n",
    "* Minimum Pressure is negatively correlated with many of the other features.  \n",
    "* High winds and low winds have low correlation.\n",
    "* Moderate/High winds are strongly correlated."
   ]
  },
  {
   "cell_type": "code",
   "execution_count": 7,
   "metadata": {},
   "outputs": [
    {
     "data": {
      "application/vnd.plotly.v1+json": {
       "config": {
        "plotlyServerURL": "https://plot.ly"
       },
       "data": [
        {
         "coloraxis": "coloraxis",
         "hovertemplate": "x: %{x}<br>y: %{y}<br>color: %{z}<extra></extra>",
         "name": "0",
         "type": "heatmap",
         "x": [
          "Status",
          "Maximum Wind",
          "Minimum Pressure",
          "Low Wind NE",
          "Low Wind SE",
          "Low Wind SW",
          "Low Wind NW",
          "Moderate Wind NE",
          "Moderate Wind SE",
          "Moderate Wind SW",
          "Moderate Wind NW",
          "High Wind NE",
          "High Wind SE",
          "High Wind SW",
          "High Wind NW"
         ],
         "xaxis": "x",
         "y": [
          "Status",
          "Maximum Wind",
          "Minimum Pressure",
          "Low Wind NE",
          "Low Wind SE",
          "Low Wind SW",
          "Low Wind NW",
          "Moderate Wind NE",
          "Moderate Wind SE",
          "Moderate Wind SW",
          "Moderate Wind NW",
          "High Wind NE",
          "High Wind SE",
          "High Wind SW",
          "High Wind NW"
         ],
         "yaxis": "y",
         "z": [
          [
           1,
           -0.1554850250602855,
           0.08450156120684703,
           -0.06010112455204818,
           -0.03212349981642463,
           0.04748989270731854,
           -0.00406704569555725,
           -0.049162928641371395,
           -0.015192073603760127,
           0.0055125909953827,
           -0.02162755039428594,
           -0.00864764287749193,
           -0.001921518602451277,
           -0.008123123595638975,
           -0.007543866506950583
          ],
          [
           -0.1554850250602855,
           1,
           -0.9214218816150502,
           0.5509699453821273,
           0.5068784557088618,
           0.46946009199231103,
           0.5413672557750316,
           0.689725342111523,
           0.619422630005412,
           0.5815420316056952,
           0.6606655929319497,
           0.7248065637913744,
           0.6611314377552612,
           0.6453889451526976,
           0.6866897904820521
          ],
          [
           0.08450156120684703,
           -0.9214218816150502,
           1,
           -0.5892855015441716,
           -0.6002035549006756,
           -0.5927229804967196,
           -0.6024525090153342,
           -0.7276994719475888,
           -0.7010964036516627,
           -0.6699452591133549,
           -0.7029970966167814,
           -0.7507590295332911,
           -0.7122847325968862,
           -0.7138276860063468,
           -0.7274851791273462
          ],
          [
           -0.06010112455204818,
           0.5509699453821273,
           -0.5892855015441716,
           1,
           0.7674200226776031,
           0.6078794940028622,
           0.7524654393008483,
           0.6882198842300972,
           0.6304820160925075,
           0.5980915308567555,
           0.6321203160074759,
           0.44470387297936664,
           0.44058546490236233,
           0.4431753406817359,
           0.45839122360463913
          ],
          [
           -0.03212349981642463,
           0.5068784557088618,
           -0.6002035549006756,
           0.7674200226776031,
           1,
           0.7603242302819573,
           0.6474640768535197,
           0.60889667386298,
           0.6907546766329071,
           0.5869706092356413,
           0.5191090185790382,
           0.3992472847226089,
           0.45333568447157385,
           0.4172196833053552,
           0.3791852892755152
          ],
          [
           0.04748989270731854,
           0.46946009199231103,
           -0.5927229804967196,
           0.6078794940028622,
           0.7603242302819573,
           1,
           0.7544561692370187,
           0.5758919330788879,
           0.6740114379879234,
           0.7215671357411851,
           0.5825397414434128,
           0.3915200766744615,
           0.4535286237218136,
           0.4678117526179037,
           0.40206188940590304
          ],
          [
           -0.00406704569555725,
           0.5413672557750316,
           -0.6024525090153342,
           0.7524654393008483,
           0.6474640768535197,
           0.7544561692370187,
           1,
           0.6426354677010304,
           0.5694729883058595,
           0.6303946144630819,
           0.6953405231729344,
           0.45745104209448145,
           0.4382717056013339,
           0.45590890600283945,
           0.47636090303151846
          ],
          [
           -0.049162928641371395,
           0.689725342111523,
           -0.7276994719475888,
           0.6882198842300972,
           0.60889667386298,
           0.5758919330788879,
           0.6426354677010304,
           1,
           0.826645631431362,
           0.6803063217490869,
           0.7968556462974361,
           0.6966133630769484,
           0.6513733591916705,
           0.5743532776629586,
           0.5930287711156339
          ],
          [
           -0.015192073603760127,
           0.619422630005412,
           -0.7010964036516627,
           0.6304820160925075,
           0.6907546766329071,
           0.6740114379879234,
           0.5694729883058595,
           0.826645631431362,
           1,
           0.7808173450011945,
           0.6947690664537632,
           0.6100954570622736,
           0.6848934662861074,
           0.605606311668949,
           0.568905287171897
          ],
          [
           0.0055125909953827,
           0.5815420316056952,
           -0.6699452591133549,
           0.5980915308567555,
           0.5869706092356413,
           0.7215671357411851,
           0.6303946144630819,
           0.6803063217490869,
           0.7808173450011945,
           1,
           0.7802458043363699,
           0.5813080085900784,
           0.6524682962375142,
           0.6759927005939113,
           0.6161358075907352
          ],
          [
           -0.02162755039428594,
           0.6606655929319497,
           -0.7029970966167814,
           0.6321203160074759,
           0.5191090185790382,
           0.5825397414434128,
           0.6953405231729344,
           0.7968556462974361,
           0.6947690664537632,
           0.7802458043363699,
           1,
           0.6633277531171863,
           0.6310837007341216,
           0.6701323690561889,
           0.7237930060884641
          ],
          [
           -0.00864764287749193,
           0.7248065637913744,
           -0.7507590295332911,
           0.44470387297936664,
           0.3992472847226089,
           0.3915200766744615,
           0.45745104209448145,
           0.6966133630769484,
           0.6100954570622736,
           0.5813080085900784,
           0.6633277531171863,
           1,
           0.834765393985291,
           0.694962693115839,
           0.7477845068305082
          ],
          [
           -0.001921518602451277,
           0.6611314377552612,
           -0.7122847325968862,
           0.44058546490236233,
           0.45333568447157385,
           0.4535286237218136,
           0.4382717056013339,
           0.6513733591916705,
           0.6848934662861074,
           0.6524682962375142,
           0.6310837007341216,
           0.834765393985291,
           1,
           0.768001835370858,
           0.6902575534590858
          ],
          [
           -0.008123123595638975,
           0.6453889451526976,
           -0.7138276860063468,
           0.4431753406817359,
           0.4172196833053552,
           0.4678117526179037,
           0.45590890600283945,
           0.5743532776629586,
           0.605606311668949,
           0.6759927005939113,
           0.6701323690561889,
           0.694962693115839,
           0.768001835370858,
           1,
           0.8076700809149849
          ],
          [
           -0.007543866506950583,
           0.6866897904820521,
           -0.7274851791273462,
           0.45839122360463913,
           0.3791852892755152,
           0.40206188940590304,
           0.47636090303151846,
           0.5930287711156339,
           0.568905287171897,
           0.6161358075907352,
           0.7237930060884641,
           0.7477845068305082,
           0.6902575534590858,
           0.8076700809149849,
           1
          ]
         ]
        }
       ],
       "layout": {
        "autosize": true,
        "coloraxis": {
         "colorscale": [
          [
           0,
           "rgb(5,48,97)"
          ],
          [
           0.1,
           "rgb(33,102,172)"
          ],
          [
           0.2,
           "rgb(67,147,195)"
          ],
          [
           0.3,
           "rgb(146,197,222)"
          ],
          [
           0.4,
           "rgb(209,229,240)"
          ],
          [
           0.5,
           "rgb(247,247,247)"
          ],
          [
           0.6,
           "rgb(253,219,199)"
          ],
          [
           0.7,
           "rgb(244,165,130)"
          ],
          [
           0.8,
           "rgb(214,96,77)"
          ],
          [
           0.9,
           "rgb(178,24,43)"
          ],
          [
           1,
           "rgb(103,0,31)"
          ]
         ]
        },
        "margin": {
         "t": 60
        },
        "template": {
         "data": {
          "bar": [
           {
            "error_x": {
             "color": "#2a3f5f"
            },
            "error_y": {
             "color": "#2a3f5f"
            },
            "marker": {
             "line": {
              "color": "#E5ECF6",
              "width": 0.5
             },
             "pattern": {
              "fillmode": "overlay",
              "size": 10,
              "solidity": 0.2
             }
            },
            "type": "bar"
           }
          ],
          "barpolar": [
           {
            "marker": {
             "line": {
              "color": "#E5ECF6",
              "width": 0.5
             },
             "pattern": {
              "fillmode": "overlay",
              "size": 10,
              "solidity": 0.2
             }
            },
            "type": "barpolar"
           }
          ],
          "carpet": [
           {
            "aaxis": {
             "endlinecolor": "#2a3f5f",
             "gridcolor": "white",
             "linecolor": "white",
             "minorgridcolor": "white",
             "startlinecolor": "#2a3f5f"
            },
            "baxis": {
             "endlinecolor": "#2a3f5f",
             "gridcolor": "white",
             "linecolor": "white",
             "minorgridcolor": "white",
             "startlinecolor": "#2a3f5f"
            },
            "type": "carpet"
           }
          ],
          "choropleth": [
           {
            "colorbar": {
             "outlinewidth": 0,
             "ticks": ""
            },
            "type": "choropleth"
           }
          ],
          "contour": [
           {
            "colorbar": {
             "outlinewidth": 0,
             "ticks": ""
            },
            "colorscale": [
             [
              0,
              "#0d0887"
             ],
             [
              0.1111111111111111,
              "#46039f"
             ],
             [
              0.2222222222222222,
              "#7201a8"
             ],
             [
              0.3333333333333333,
              "#9c179e"
             ],
             [
              0.4444444444444444,
              "#bd3786"
             ],
             [
              0.5555555555555556,
              "#d8576b"
             ],
             [
              0.6666666666666666,
              "#ed7953"
             ],
             [
              0.7777777777777778,
              "#fb9f3a"
             ],
             [
              0.8888888888888888,
              "#fdca26"
             ],
             [
              1,
              "#f0f921"
             ]
            ],
            "type": "contour"
           }
          ],
          "contourcarpet": [
           {
            "colorbar": {
             "outlinewidth": 0,
             "ticks": ""
            },
            "type": "contourcarpet"
           }
          ],
          "heatmap": [
           {
            "colorbar": {
             "outlinewidth": 0,
             "ticks": ""
            },
            "colorscale": [
             [
              0,
              "#0d0887"
             ],
             [
              0.1111111111111111,
              "#46039f"
             ],
             [
              0.2222222222222222,
              "#7201a8"
             ],
             [
              0.3333333333333333,
              "#9c179e"
             ],
             [
              0.4444444444444444,
              "#bd3786"
             ],
             [
              0.5555555555555556,
              "#d8576b"
             ],
             [
              0.6666666666666666,
              "#ed7953"
             ],
             [
              0.7777777777777778,
              "#fb9f3a"
             ],
             [
              0.8888888888888888,
              "#fdca26"
             ],
             [
              1,
              "#f0f921"
             ]
            ],
            "type": "heatmap"
           }
          ],
          "heatmapgl": [
           {
            "colorbar": {
             "outlinewidth": 0,
             "ticks": ""
            },
            "colorscale": [
             [
              0,
              "#0d0887"
             ],
             [
              0.1111111111111111,
              "#46039f"
             ],
             [
              0.2222222222222222,
              "#7201a8"
             ],
             [
              0.3333333333333333,
              "#9c179e"
             ],
             [
              0.4444444444444444,
              "#bd3786"
             ],
             [
              0.5555555555555556,
              "#d8576b"
             ],
             [
              0.6666666666666666,
              "#ed7953"
             ],
             [
              0.7777777777777778,
              "#fb9f3a"
             ],
             [
              0.8888888888888888,
              "#fdca26"
             ],
             [
              1,
              "#f0f921"
             ]
            ],
            "type": "heatmapgl"
           }
          ],
          "histogram": [
           {
            "marker": {
             "pattern": {
              "fillmode": "overlay",
              "size": 10,
              "solidity": 0.2
             }
            },
            "type": "histogram"
           }
          ],
          "histogram2d": [
           {
            "colorbar": {
             "outlinewidth": 0,
             "ticks": ""
            },
            "colorscale": [
             [
              0,
              "#0d0887"
             ],
             [
              0.1111111111111111,
              "#46039f"
             ],
             [
              0.2222222222222222,
              "#7201a8"
             ],
             [
              0.3333333333333333,
              "#9c179e"
             ],
             [
              0.4444444444444444,
              "#bd3786"
             ],
             [
              0.5555555555555556,
              "#d8576b"
             ],
             [
              0.6666666666666666,
              "#ed7953"
             ],
             [
              0.7777777777777778,
              "#fb9f3a"
             ],
             [
              0.8888888888888888,
              "#fdca26"
             ],
             [
              1,
              "#f0f921"
             ]
            ],
            "type": "histogram2d"
           }
          ],
          "histogram2dcontour": [
           {
            "colorbar": {
             "outlinewidth": 0,
             "ticks": ""
            },
            "colorscale": [
             [
              0,
              "#0d0887"
             ],
             [
              0.1111111111111111,
              "#46039f"
             ],
             [
              0.2222222222222222,
              "#7201a8"
             ],
             [
              0.3333333333333333,
              "#9c179e"
             ],
             [
              0.4444444444444444,
              "#bd3786"
             ],
             [
              0.5555555555555556,
              "#d8576b"
             ],
             [
              0.6666666666666666,
              "#ed7953"
             ],
             [
              0.7777777777777778,
              "#fb9f3a"
             ],
             [
              0.8888888888888888,
              "#fdca26"
             ],
             [
              1,
              "#f0f921"
             ]
            ],
            "type": "histogram2dcontour"
           }
          ],
          "mesh3d": [
           {
            "colorbar": {
             "outlinewidth": 0,
             "ticks": ""
            },
            "type": "mesh3d"
           }
          ],
          "parcoords": [
           {
            "line": {
             "colorbar": {
              "outlinewidth": 0,
              "ticks": ""
             }
            },
            "type": "parcoords"
           }
          ],
          "pie": [
           {
            "automargin": true,
            "type": "pie"
           }
          ],
          "scatter": [
           {
            "marker": {
             "colorbar": {
              "outlinewidth": 0,
              "ticks": ""
             }
            },
            "type": "scatter"
           }
          ],
          "scatter3d": [
           {
            "line": {
             "colorbar": {
              "outlinewidth": 0,
              "ticks": ""
             }
            },
            "marker": {
             "colorbar": {
              "outlinewidth": 0,
              "ticks": ""
             }
            },
            "type": "scatter3d"
           }
          ],
          "scattercarpet": [
           {
            "marker": {
             "colorbar": {
              "outlinewidth": 0,
              "ticks": ""
             }
            },
            "type": "scattercarpet"
           }
          ],
          "scattergeo": [
           {
            "marker": {
             "colorbar": {
              "outlinewidth": 0,
              "ticks": ""
             }
            },
            "type": "scattergeo"
           }
          ],
          "scattergl": [
           {
            "marker": {
             "colorbar": {
              "outlinewidth": 0,
              "ticks": ""
             }
            },
            "type": "scattergl"
           }
          ],
          "scattermapbox": [
           {
            "marker": {
             "colorbar": {
              "outlinewidth": 0,
              "ticks": ""
             }
            },
            "type": "scattermapbox"
           }
          ],
          "scatterpolar": [
           {
            "marker": {
             "colorbar": {
              "outlinewidth": 0,
              "ticks": ""
             }
            },
            "type": "scatterpolar"
           }
          ],
          "scatterpolargl": [
           {
            "marker": {
             "colorbar": {
              "outlinewidth": 0,
              "ticks": ""
             }
            },
            "type": "scatterpolargl"
           }
          ],
          "scatterternary": [
           {
            "marker": {
             "colorbar": {
              "outlinewidth": 0,
              "ticks": ""
             }
            },
            "type": "scatterternary"
           }
          ],
          "surface": [
           {
            "colorbar": {
             "outlinewidth": 0,
             "ticks": ""
            },
            "colorscale": [
             [
              0,
              "#0d0887"
             ],
             [
              0.1111111111111111,
              "#46039f"
             ],
             [
              0.2222222222222222,
              "#7201a8"
             ],
             [
              0.3333333333333333,
              "#9c179e"
             ],
             [
              0.4444444444444444,
              "#bd3786"
             ],
             [
              0.5555555555555556,
              "#d8576b"
             ],
             [
              0.6666666666666666,
              "#ed7953"
             ],
             [
              0.7777777777777778,
              "#fb9f3a"
             ],
             [
              0.8888888888888888,
              "#fdca26"
             ],
             [
              1,
              "#f0f921"
             ]
            ],
            "type": "surface"
           }
          ],
          "table": [
           {
            "cells": {
             "fill": {
              "color": "#EBF0F8"
             },
             "line": {
              "color": "white"
             }
            },
            "header": {
             "fill": {
              "color": "#C8D4E3"
             },
             "line": {
              "color": "white"
             }
            },
            "type": "table"
           }
          ]
         },
         "layout": {
          "annotationdefaults": {
           "arrowcolor": "#2a3f5f",
           "arrowhead": 0,
           "arrowwidth": 1
          },
          "autotypenumbers": "strict",
          "coloraxis": {
           "colorbar": {
            "outlinewidth": 0,
            "ticks": ""
           }
          },
          "colorscale": {
           "diverging": [
            [
             0,
             "#8e0152"
            ],
            [
             0.1,
             "#c51b7d"
            ],
            [
             0.2,
             "#de77ae"
            ],
            [
             0.3,
             "#f1b6da"
            ],
            [
             0.4,
             "#fde0ef"
            ],
            [
             0.5,
             "#f7f7f7"
            ],
            [
             0.6,
             "#e6f5d0"
            ],
            [
             0.7,
             "#b8e186"
            ],
            [
             0.8,
             "#7fbc41"
            ],
            [
             0.9,
             "#4d9221"
            ],
            [
             1,
             "#276419"
            ]
           ],
           "sequential": [
            [
             0,
             "#0d0887"
            ],
            [
             0.1111111111111111,
             "#46039f"
            ],
            [
             0.2222222222222222,
             "#7201a8"
            ],
            [
             0.3333333333333333,
             "#9c179e"
            ],
            [
             0.4444444444444444,
             "#bd3786"
            ],
            [
             0.5555555555555556,
             "#d8576b"
            ],
            [
             0.6666666666666666,
             "#ed7953"
            ],
            [
             0.7777777777777778,
             "#fb9f3a"
            ],
            [
             0.8888888888888888,
             "#fdca26"
            ],
            [
             1,
             "#f0f921"
            ]
           ],
           "sequentialminus": [
            [
             0,
             "#0d0887"
            ],
            [
             0.1111111111111111,
             "#46039f"
            ],
            [
             0.2222222222222222,
             "#7201a8"
            ],
            [
             0.3333333333333333,
             "#9c179e"
            ],
            [
             0.4444444444444444,
             "#bd3786"
            ],
            [
             0.5555555555555556,
             "#d8576b"
            ],
            [
             0.6666666666666666,
             "#ed7953"
            ],
            [
             0.7777777777777778,
             "#fb9f3a"
            ],
            [
             0.8888888888888888,
             "#fdca26"
            ],
            [
             1,
             "#f0f921"
            ]
           ]
          },
          "colorway": [
           "#636efa",
           "#EF553B",
           "#00cc96",
           "#ab63fa",
           "#FFA15A",
           "#19d3f3",
           "#FF6692",
           "#B6E880",
           "#FF97FF",
           "#FECB52"
          ],
          "font": {
           "color": "#2a3f5f"
          },
          "geo": {
           "bgcolor": "white",
           "lakecolor": "white",
           "landcolor": "#E5ECF6",
           "showlakes": true,
           "showland": true,
           "subunitcolor": "white"
          },
          "hoverlabel": {
           "align": "left"
          },
          "hovermode": "closest",
          "mapbox": {
           "style": "light"
          },
          "paper_bgcolor": "white",
          "plot_bgcolor": "#E5ECF6",
          "polar": {
           "angularaxis": {
            "gridcolor": "white",
            "linecolor": "white",
            "ticks": ""
           },
           "bgcolor": "#E5ECF6",
           "radialaxis": {
            "gridcolor": "white",
            "linecolor": "white",
            "ticks": ""
           }
          },
          "scene": {
           "xaxis": {
            "backgroundcolor": "#E5ECF6",
            "gridcolor": "white",
            "gridwidth": 2,
            "linecolor": "white",
            "showbackground": true,
            "ticks": "",
            "zerolinecolor": "white"
           },
           "yaxis": {
            "backgroundcolor": "#E5ECF6",
            "gridcolor": "white",
            "gridwidth": 2,
            "linecolor": "white",
            "showbackground": true,
            "ticks": "",
            "zerolinecolor": "white"
           },
           "zaxis": {
            "backgroundcolor": "#E5ECF6",
            "gridcolor": "white",
            "gridwidth": 2,
            "linecolor": "white",
            "showbackground": true,
            "ticks": "",
            "zerolinecolor": "white"
           }
          },
          "shapedefaults": {
           "line": {
            "color": "#2a3f5f"
           }
          },
          "ternary": {
           "aaxis": {
            "gridcolor": "white",
            "linecolor": "white",
            "ticks": ""
           },
           "baxis": {
            "gridcolor": "white",
            "linecolor": "white",
            "ticks": ""
           },
           "bgcolor": "#E5ECF6",
           "caxis": {
            "gridcolor": "white",
            "linecolor": "white",
            "ticks": ""
           }
          },
          "title": {
           "x": 0.05
          },
          "xaxis": {
           "automargin": true,
           "gridcolor": "white",
           "linecolor": "white",
           "ticks": "",
           "title": {
            "standoff": 15
           },
           "zerolinecolor": "white",
           "zerolinewidth": 2
          },
          "yaxis": {
           "automargin": true,
           "gridcolor": "white",
           "linecolor": "white",
           "ticks": "",
           "title": {
            "standoff": 15
           },
           "zerolinecolor": "white",
           "zerolinewidth": 2
          }
         }
        },
        "xaxis": {
         "anchor": "y",
         "autorange": true,
         "constrain": "domain",
         "domain": [
          0.4222011385199241,
          0.5777988614800759
         ],
         "range": [
          -0.5,
          14.5
         ],
         "scaleanchor": "y",
         "type": "category"
        },
        "yaxis": {
         "anchor": "x",
         "autorange": true,
         "constrain": "domain",
         "domain": [
          0,
          1
         ],
         "range": [
          14.5,
          -0.5
         ],
         "type": "category"
        }
       }
      },
      "image/png": "[encoded data removed]",
      "text/html": [
       "<div>                            <div id=\"7f649efe-3e42-4475-9c0d-d053923c05b7\" class=\"plotly-graph-div\" style=\"height:525px; width:100%;\"></div>            <script type=\"text/javascript\">                require([\"plotly\"], function(Plotly) {                    window.PLOTLYENV=window.PLOTLYENV || {};                                    if (document.getElementById(\"7f649efe-3e42-4475-9c0d-d053923c05b7\")) {                    Plotly.newPlot(                        \"7f649efe-3e42-4475-9c0d-d053923c05b7\",                        [{\"coloraxis\":\"coloraxis\",\"hovertemplate\":\"x: %{x}<br>y: %{y}<br>color: %{z}<extra></extra>\",\"name\":\"0\",\"type\":\"heatmap\",\"x\":[\"Status\",\"Maximum Wind\",\"Minimum Pressure\",\"Low Wind NE\",\"Low Wind SE\",\"Low Wind SW\",\"Low Wind NW\",\"Moderate Wind NE\",\"Moderate Wind SE\",\"Moderate Wind SW\",\"Moderate Wind NW\",\"High Wind NE\",\"High Wind SE\",\"High Wind SW\",\"High Wind NW\"],\"xaxis\":\"x\",\"y\":[\"Status\",\"Maximum Wind\",\"Minimum Pressure\",\"Low Wind NE\",\"Low Wind SE\",\"Low Wind SW\",\"Low Wind NW\",\"Moderate Wind NE\",\"Moderate Wind SE\",\"Moderate Wind SW\",\"Moderate Wind NW\",\"High Wind NE\",\"High Wind SE\",\"High Wind SW\",\"High Wind NW\"],\"yaxis\":\"y\",\"z\":[[1.0,-0.1554850250602855,0.08450156120684703,-0.06010112455204818,-0.03212349981642463,0.04748989270731854,-0.00406704569555725,-0.049162928641371395,-0.015192073603760127,0.0055125909953827,-0.02162755039428594,-0.00864764287749193,-0.001921518602451277,-0.008123123595638975,-0.007543866506950583],[-0.1554850250602855,1.0,-0.9214218816150502,0.5509699453821273,0.5068784557088618,0.46946009199231103,0.5413672557750316,0.689725342111523,0.619422630005412,0.5815420316056952,0.6606655929319497,0.7248065637913744,0.6611314377552612,0.6453889451526976,0.6866897904820521],[0.08450156120684703,-0.9214218816150502,1.0,-0.5892855015441716,-0.6002035549006756,-0.5927229804967196,-0.6024525090153342,-0.7276994719475888,-0.7010964036516627,-0.6699452591133549,-0.7029970966167814,-0.7507590295332911,-0.7122847325968862,-0.7138276860063468,-0.7274851791273462],[-0.06010112455204818,0.5509699453821273,-0.5892855015441716,1.0,0.7674200226776031,0.6078794940028622,0.7524654393008483,0.6882198842300972,0.6304820160925075,0.5980915308567555,0.6321203160074759,0.44470387297936664,0.44058546490236233,0.4431753406817359,0.45839122360463913],[-0.03212349981642463,0.5068784557088618,-0.6002035549006756,0.7674200226776031,1.0,0.7603242302819573,0.6474640768535197,0.60889667386298,0.6907546766329071,0.5869706092356413,0.5191090185790382,0.3992472847226089,0.45333568447157385,0.4172196833053552,0.3791852892755152],[0.04748989270731854,0.46946009199231103,-0.5927229804967196,0.6078794940028622,0.7603242302819573,1.0,0.7544561692370187,0.5758919330788879,0.6740114379879234,0.7215671357411851,0.5825397414434128,0.3915200766744615,0.4535286237218136,0.4678117526179037,0.40206188940590304],[-0.00406704569555725,0.5413672557750316,-0.6024525090153342,0.7524654393008483,0.6474640768535197,0.7544561692370187,1.0,0.6426354677010304,0.5694729883058595,0.6303946144630819,0.6953405231729344,0.45745104209448145,0.4382717056013339,0.45590890600283945,0.47636090303151846],[-0.049162928641371395,0.689725342111523,-0.7276994719475888,0.6882198842300972,0.60889667386298,0.5758919330788879,0.6426354677010304,1.0,0.826645631431362,0.6803063217490869,0.7968556462974361,0.6966133630769484,0.6513733591916705,0.5743532776629586,0.5930287711156339],[-0.015192073603760127,0.619422630005412,-0.7010964036516627,0.6304820160925075,0.6907546766329071,0.6740114379879234,0.5694729883058595,0.826645631431362,1.0,0.7808173450011945,0.6947690664537632,0.6100954570622736,0.6848934662861074,0.605606311668949,0.568905287171897],[0.0055125909953827,0.5815420316056952,-0.6699452591133549,0.5980915308567555,0.5869706092356413,0.7215671357411851,0.6303946144630819,0.6803063217490869,0.7808173450011945,1.0,0.7802458043363699,0.5813080085900784,0.6524682962375142,0.6759927005939113,0.6161358075907352],[-0.02162755039428594,0.6606655929319497,-0.7029970966167814,0.6321203160074759,0.5191090185790382,0.5825397414434128,0.6953405231729344,0.7968556462974361,0.6947690664537632,0.7802458043363699,1.0,0.6633277531171863,0.6310837007341216,0.6701323690561889,0.7237930060884641],[-0.00864764287749193,0.7248065637913744,-0.7507590295332911,0.44470387297936664,0.3992472847226089,0.3915200766744615,0.45745104209448145,0.6966133630769484,0.6100954570622736,0.5813080085900784,0.6633277531171863,1.0,0.834765393985291,0.694962693115839,0.7477845068305082],[-0.001921518602451277,0.6611314377552612,-0.7122847325968862,0.44058546490236233,0.45333568447157385,0.4535286237218136,0.4382717056013339,0.6513733591916705,0.6848934662861074,0.6524682962375142,0.6310837007341216,0.834765393985291,1.0,0.768001835370858,0.6902575534590858],[-0.008123123595638975,0.6453889451526976,-0.7138276860063468,0.4431753406817359,0.4172196833053552,0.4678117526179037,0.45590890600283945,0.5743532776629586,0.605606311668949,0.6759927005939113,0.6701323690561889,0.694962693115839,0.768001835370858,1.0,0.8076700809149849],[-0.007543866506950583,0.6866897904820521,-0.7274851791273462,0.45839122360463913,0.3791852892755152,0.40206188940590304,0.47636090303151846,0.5930287711156339,0.568905287171897,0.6161358075907352,0.7237930060884641,0.7477845068305082,0.6902575534590858,0.8076700809149849,1.0]]}],                        {\"coloraxis\":{\"colorscale\":[[0.0,\"rgb(5,48,97)\"],[0.1,\"rgb(33,102,172)\"],[0.2,\"rgb(67,147,195)\"],[0.3,\"rgb(146,197,222)\"],[0.4,\"rgb(209,229,240)\"],[0.5,\"rgb(247,247,247)\"],[0.6,\"rgb(253,219,199)\"],[0.7,\"rgb(244,165,130)\"],[0.8,\"rgb(214,96,77)\"],[0.9,\"rgb(178,24,43)\"],[1.0,\"rgb(103,0,31)\"]]},\"margin\":{\"t\":60},\"template\":{\"data\":{\"bar\":[{\"error_x\":{\"color\":\"#2a3f5f\"},\"error_y\":{\"color\":\"#2a3f5f\"},\"marker\":{\"line\":{\"color\":\"#E5ECF6\",\"width\":0.5},\"pattern\":{\"fillmode\":\"overlay\",\"size\":10,\"solidity\":0.2}},\"type\":\"bar\"}],\"barpolar\":[{\"marker\":{\"line\":{\"color\":\"#E5ECF6\",\"width\":0.5},\"pattern\":{\"fillmode\":\"overlay\",\"size\":10,\"solidity\":0.2}},\"type\":\"barpolar\"}],\"carpet\":[{\"aaxis\":{\"endlinecolor\":\"#2a3f5f\",\"gridcolor\":\"white\",\"linecolor\":\"white\",\"minorgridcolor\":\"white\",\"startlinecolor\":\"#2a3f5f\"},\"baxis\":{\"endlinecolor\":\"#2a3f5f\",\"gridcolor\":\"white\",\"linecolor\":\"white\",\"minorgridcolor\":\"white\",\"startlinecolor\":\"#2a3f5f\"},\"type\":\"carpet\"}],\"choropleth\":[{\"colorbar\":{\"outlinewidth\":0,\"ticks\":\"\"},\"type\":\"choropleth\"}],\"contour\":[{\"colorbar\":{\"outlinewidth\":0,\"ticks\":\"\"},\"colorscale\":[[0.0,\"#0d0887\"],[0.1111111111111111,\"#46039f\"],[0.2222222222222222,\"#7201a8\"],[0.3333333333333333,\"#9c179e\"],[0.4444444444444444,\"#bd3786\"],[0.5555555555555556,\"#d8576b\"],[0.6666666666666666,\"#ed7953\"],[0.7777777777777778,\"#fb9f3a\"],[0.8888888888888888,\"#fdca26\"],[1.0,\"#f0f921\"]],\"type\":\"contour\"}],\"contourcarpet\":[{\"colorbar\":{\"outlinewidth\":0,\"ticks\":\"\"},\"type\":\"contourcarpet\"}],\"heatmap\":[{\"colorbar\":{\"outlinewidth\":0,\"ticks\":\"\"},\"colorscale\":[[0.0,\"#0d0887\"],[0.1111111111111111,\"#46039f\"],[0.2222222222222222,\"#7201a8\"],[0.3333333333333333,\"#9c179e\"],[0.4444444444444444,\"#bd3786\"],[0.5555555555555556,\"#d8576b\"],[0.6666666666666666,\"#ed7953\"],[0.7777777777777778,\"#fb9f3a\"],[0.8888888888888888,\"#fdca26\"],[1.0,\"#f0f921\"]],\"type\":\"heatmap\"}],\"heatmapgl\":[{\"colorbar\":{\"outlinewidth\":0,\"ticks\":\"\"},\"colorscale\":[[0.0,\"#0d0887\"],[0.1111111111111111,\"#46039f\"],[0.2222222222222222,\"#7201a8\"],[0.3333333333333333,\"#9c179e\"],[0.4444444444444444,\"#bd3786\"],[0.5555555555555556,\"#d8576b\"],[0.6666666666666666,\"#ed7953\"],[0.7777777777777778,\"#fb9f3a\"],[0.8888888888888888,\"#fdca26\"],[1.0,\"#f0f921\"]],\"type\":\"heatmapgl\"}],\"histogram\":[{\"marker\":{\"pattern\":{\"fillmode\":\"overlay\",\"size\":10,\"solidity\":0.2}},\"type\":\"histogram\"}],\"histogram2d\":[{\"colorbar\":{\"outlinewidth\":0,\"ticks\":\"\"},\"colorscale\":[[0.0,\"#0d0887\"],[0.1111111111111111,\"#46039f\"],[0.2222222222222222,\"#7201a8\"],[0.3333333333333333,\"#9c179e\"],[0.4444444444444444,\"#bd3786\"],[0.5555555555555556,\"#d8576b\"],[0.6666666666666666,\"#ed7953\"],[0.7777777777777778,\"#fb9f3a\"],[0.8888888888888888,\"#fdca26\"],[1.0,\"#f0f921\"]],\"type\":\"histogram2d\"}],\"histogram2dcontour\":[{\"colorbar\":{\"outlinewidth\":0,\"ticks\":\"\"},\"colorscale\":[[0.0,\"#0d0887\"],[0.1111111111111111,\"#46039f\"],[0.2222222222222222,\"#7201a8\"],[0.3333333333333333,\"#9c179e\"],[0.4444444444444444,\"#bd3786\"],[0.5555555555555556,\"#d8576b\"],[0.6666666666666666,\"#ed7953\"],[0.7777777777777778,\"#fb9f3a\"],[0.8888888888888888,\"#fdca26\"],[1.0,\"#f0f921\"]],\"type\":\"histogram2dcontour\"}],\"mesh3d\":[{\"colorbar\":{\"outlinewidth\":0,\"ticks\":\"\"},\"type\":\"mesh3d\"}],\"parcoords\":[{\"line\":{\"colorbar\":{\"outlinewidth\":0,\"ticks\":\"\"}},\"type\":\"parcoords\"}],\"pie\":[{\"automargin\":true,\"type\":\"pie\"}],\"scatter\":[{\"marker\":{\"colorbar\":{\"outlinewidth\":0,\"ticks\":\"\"}},\"type\":\"scatter\"}],\"scatter3d\":[{\"line\":{\"colorbar\":{\"outlinewidth\":0,\"ticks\":\"\"}},\"marker\":{\"colorbar\":{\"outlinewidth\":0,\"ticks\":\"\"}},\"type\":\"scatter3d\"}],\"scattercarpet\":[{\"marker\":{\"colorbar\":{\"outlinewidth\":0,\"ticks\":\"\"}},\"type\":\"scattercarpet\"}],\"scattergeo\":[{\"marker\":{\"colorbar\":{\"outlinewidth\":0,\"ticks\":\"\"}},\"type\":\"scattergeo\"}],\"scattergl\":[{\"marker\":{\"colorbar\":{\"outlinewidth\":0,\"ticks\":\"\"}},\"type\":\"scattergl\"}],\"scattermapbox\":[{\"marker\":{\"colorbar\":{\"outlinewidth\":0,\"ticks\":\"\"}},\"type\":\"scattermapbox\"}],\"scatterpolar\":[{\"marker\":{\"colorbar\":{\"outlinewidth\":0,\"ticks\":\"\"}},\"type\":\"scatterpolar\"}],\"scatterpolargl\":[{\"marker\":{\"colorbar\":{\"outlinewidth\":0,\"ticks\":\"\"}},\"type\":\"scatterpolargl\"}],\"scatterternary\":[{\"marker\":{\"colorbar\":{\"outlinewidth\":0,\"ticks\":\"\"}},\"type\":\"scatterternary\"}],\"surface\":[{\"colorbar\":{\"outlinewidth\":0,\"ticks\":\"\"},\"colorscale\":[[0.0,\"#0d0887\"],[0.1111111111111111,\"#46039f\"],[0.2222222222222222,\"#7201a8\"],[0.3333333333333333,\"#9c179e\"],[0.4444444444444444,\"#bd3786\"],[0.5555555555555556,\"#d8576b\"],[0.6666666666666666,\"#ed7953\"],[0.7777777777777778,\"#fb9f3a\"],[0.8888888888888888,\"#fdca26\"],[1.0,\"#f0f921\"]],\"type\":\"surface\"}],\"table\":[{\"cells\":{\"fill\":{\"color\":\"#EBF0F8\"},\"line\":{\"color\":\"white\"}},\"header\":{\"fill\":{\"color\":\"#C8D4E3\"},\"line\":{\"color\":\"white\"}},\"type\":\"table\"}]},\"layout\":{\"annotationdefaults\":{\"arrowcolor\":\"#2a3f5f\",\"arrowhead\":0,\"arrowwidth\":1},\"autotypenumbers\":\"strict\",\"coloraxis\":{\"colorbar\":{\"outlinewidth\":0,\"ticks\":\"\"}},\"colorscale\":{\"diverging\":[[0,\"#8e0152\"],[0.1,\"#c51b7d\"],[0.2,\"#de77ae\"],[0.3,\"#f1b6da\"],[0.4,\"#fde0ef\"],[0.5,\"#f7f7f7\"],[0.6,\"#e6f5d0\"],[0.7,\"#b8e186\"],[0.8,\"#7fbc41\"],[0.9,\"#4d9221\"],[1,\"#276419\"]],\"sequential\":[[0.0,\"#0d0887\"],[0.1111111111111111,\"#46039f\"],[0.2222222222222222,\"#7201a8\"],[0.3333333333333333,\"#9c179e\"],[0.4444444444444444,\"#bd3786\"],[0.5555555555555556,\"#d8576b\"],[0.6666666666666666,\"#ed7953\"],[0.7777777777777778,\"#fb9f3a\"],[0.8888888888888888,\"#fdca26\"],[1.0,\"#f0f921\"]],\"sequentialminus\":[[0.0,\"#0d0887\"],[0.1111111111111111,\"#46039f\"],[0.2222222222222222,\"#7201a8\"],[0.3333333333333333,\"#9c179e\"],[0.4444444444444444,\"#bd3786\"],[0.5555555555555556,\"#d8576b\"],[0.6666666666666666,\"#ed7953\"],[0.7777777777777778,\"#fb9f3a\"],[0.8888888888888888,\"#fdca26\"],[1.0,\"#f0f921\"]]},\"colorway\":[\"#636efa\",\"#EF553B\",\"#00cc96\",\"#ab63fa\",\"#FFA15A\",\"#19d3f3\",\"#FF6692\",\"#B6E880\",\"#FF97FF\",\"#FECB52\"],\"font\":{\"color\":\"#2a3f5f\"},\"geo\":{\"bgcolor\":\"white\",\"lakecolor\":\"white\",\"landcolor\":\"#E5ECF6\",\"showlakes\":true,\"showland\":true,\"subunitcolor\":\"white\"},\"hoverlabel\":{\"align\":\"left\"},\"hovermode\":\"closest\",\"mapbox\":{\"style\":\"light\"},\"paper_bgcolor\":\"white\",\"plot_bgcolor\":\"#E5ECF6\",\"polar\":{\"angularaxis\":{\"gridcolor\":\"white\",\"linecolor\":\"white\",\"ticks\":\"\"},\"bgcolor\":\"#E5ECF6\",\"radialaxis\":{\"gridcolor\":\"white\",\"linecolor\":\"white\",\"ticks\":\"\"}},\"scene\":{\"xaxis\":{\"backgroundcolor\":\"#E5ECF6\",\"gridcolor\":\"white\",\"gridwidth\":2,\"linecolor\":\"white\",\"showbackground\":true,\"ticks\":\"\",\"zerolinecolor\":\"white\"},\"yaxis\":{\"backgroundcolor\":\"#E5ECF6\",\"gridcolor\":\"white\",\"gridwidth\":2,\"linecolor\":\"white\",\"showbackground\":true,\"ticks\":\"\",\"zerolinecolor\":\"white\"},\"zaxis\":{\"backgroundcolor\":\"#E5ECF6\",\"gridcolor\":\"white\",\"gridwidth\":2,\"linecolor\":\"white\",\"showbackground\":true,\"ticks\":\"\",\"zerolinecolor\":\"white\"}},\"shapedefaults\":{\"line\":{\"color\":\"#2a3f5f\"}},\"ternary\":{\"aaxis\":{\"gridcolor\":\"white\",\"linecolor\":\"white\",\"ticks\":\"\"},\"baxis\":{\"gridcolor\":\"white\",\"linecolor\":\"white\",\"ticks\":\"\"},\"bgcolor\":\"#E5ECF6\",\"caxis\":{\"gridcolor\":\"white\",\"linecolor\":\"white\",\"ticks\":\"\"}},\"title\":{\"x\":0.05},\"xaxis\":{\"automargin\":true,\"gridcolor\":\"white\",\"linecolor\":\"white\",\"ticks\":\"\",\"title\":{\"standoff\":15},\"zerolinecolor\":\"white\",\"zerolinewidth\":2},\"yaxis\":{\"automargin\":true,\"gridcolor\":\"white\",\"linecolor\":\"white\",\"ticks\":\"\",\"title\":{\"standoff\":15},\"zerolinecolor\":\"white\",\"zerolinewidth\":2}}},\"xaxis\":{\"anchor\":\"y\",\"constrain\":\"domain\",\"domain\":[0.0,1.0],\"scaleanchor\":\"y\"},\"yaxis\":{\"anchor\":\"x\",\"autorange\":\"reversed\",\"constrain\":\"domain\",\"domain\":[0.0,1.0]}},                        {\"responsive\": true}                    ).then(function(){\n",
       "                            \n",
       "var gd = document.getElementById('7f649efe-3e42-4475-9c0d-d053923c05b7');\n",
       "var x = new MutationObserver(function (mutations, observer) {{\n",
       "        var display = window.getComputedStyle(gd).display;\n",
       "        if (!display || display === 'none') {{\n",
       "            console.log([gd, 'removed!']);\n",
       "            Plotly.purge(gd);\n",
       "            observer.disconnect();\n",
       "        }}\n",
       "}});\n",
       "\n",
       "// Listen for the removal of the full notebook cells\n",
       "var notebookContainer = gd.closest('#notebook-container');\n",
       "if (notebookContainer) {{\n",
       "    x.observe(notebookContainer, {childList: true});\n",
       "}}\n",
       "\n",
       "// Listen for the clearing of the current output cell\n",
       "var outputEl = gd.closest('.output');\n",
       "if (outputEl) {{\n",
       "    x.observe(outputEl, {childList: true});\n",
       "}}\n",
       "\n",
       "                        })                };                });            </script>        </div>"
      ]
     },
     "metadata": {},
     "output_type": "display_data"
    }
   ],
   "source": [
    "# create heatmap of pearson correlation of features\n",
    "corr = df[feat_columns].corr(method='pearson')\n",
    "fig = px.imshow(corr,\n",
    "                x=feat_columns,\n",
    "                y=feat_columns,\n",
    "                color_continuous_scale='RdBu_r'\n",
    "               )\n",
    "fig.show()"
   ]
  },
  {
   "cell_type": "markdown",
   "metadata": {},
   "source": [
    "#### PCA Analysis <a class=\"anchor\" id=\"pca-analysis\"></a>\n",
    "PCA is used to reduce the number of dimensions in a dataset while retaining the most information by breaking the dataset down into its principal components. The `sklearn` and `seaborn` packages were used in this section to perform the analysis."
   ]
  },
  {
   "cell_type": "code",
   "execution_count": 8,
   "metadata": {},
   "outputs": [
    {
     "name": "stdout",
     "output_type": "stream",
     "text": [
      "[0.65494979 0.10970193 0.04386336 0.03875538 0.03538911 0.02778715\n",
      " 0.02418346 0.01583164 0.01361641 0.01101179]\n"
     ]
    },
    {
     "data": {
      "text/plain": [
       "<AxesSubplot:xlabel='PC', ylabel='Var'>"
      ]
     },
     "execution_count": 8,
     "metadata": {},
     "output_type": "execute_result"
    },
    {
     "data": {
      "image/png": "[encoded data removed]",
      "text/plain": [
       "<Figure size 432x288 with 1 Axes>"
      ]
     },
     "metadata": {
      "needs_background": "light"
     },
     "output_type": "display_data"
    }
   ],
   "source": [
    "from sklearn.decomposition import PCA\n",
    "from sklearn.preprocessing import StandardScaler\n",
    "import seaborn as sns\n",
    "\n",
    "Xs = StandardScaler().fit_transform(df[feat_columns[1:]])  # we exclude 'Status' from feat_columns\n",
    "pca = PCA(n_components=10)\n",
    "pc_df = pca.fit_transform(Xs)\n",
    "\n",
    "print(pca.explained_variance_ratio_)\n",
    "pca_df = pd.DataFrame({'Var':pca.explained_variance_ratio_, 'PC':['PC1','PC2','PC3','PC4','PC5','PC6','PC7','PC8','PC9','PC10']})\n",
    "\n",
    "sns.barplot(x='PC', y='Var', data=pca_df)"
   ]
  },
  {
   "cell_type": "markdown",
   "metadata": {},
   "source": [
    "The chart above shows that PC1 explains more than 60% of the variance in the data. However, we will want a model that will take more variance into account. Next, we will determine how many principal components are necessary to capture at least 90% of the data's variance. "
   ]
  },
  {
   "cell_type": "code",
   "execution_count": 9,
   "metadata": {},
   "outputs": [
    {
     "name": "stdout",
     "output_type": "stream",
     "text": [
      "number of PCs to keep: 6\n"
     ]
    }
   ],
   "source": [
    "#number of components to capture 90% of variance\n",
    "pca = PCA(0.9)\n",
    "pca.fit(Xs)\n",
    "\n",
    "PCA(copy=True, iterated_power='auto', n_components=0.9, random_state=None,\n",
    "  svd_solver='auto', tol=0.0, whiten=False)\n",
    "\n",
    "print('number of PCs to keep:',pca.n_components_)"
   ]
  },
  {
   "cell_type": "markdown",
   "metadata": {},
   "source": [
    "### Feature Analysis Conclusion <a class=\"anchor\" id=\"feature-analysis-conclusion\"></a>\n",
    "Based on the feature analysis done above, it has been shown that for the dataset examined a total of 6 principal components are necessary to maintain 90% of the dataset's variance. This is a 40% reduction from the original number of components. "
   ]
  },
  {
   "cell_type": "markdown",
   "metadata": {},
   "source": [
    "## Classification <a class=\"anchor\" id=\"classification\"></a>\n",
    "One of the goals of this project is to choose a classification algorithm which can be used to classify a future hurricane's status. The algorithms that will compared in this section are KNN, PCA, SVM, Decision Tree, Random Forest, and Gaussian Naive Bayes. \n",
    "\n",
    "### KNN Classification <a class=\"anchor\" id=\"knn-analysis\"></a>\n",
    "The K-Nearest Neighbors (KNN) algorithm determines a point's classification by examining the k-closest training samples in the dataset. This section uses `SMOTE()` which is a technique to help with class balancing when classes have low sample counts by existing samples in the dataset to create synthetic samples. By balancing the classes, we can improve the metrics (precision and recall) on the minority classes.\n",
    "\n",
    "#### KNN using SMOTE-Balanced Data"
   ]
  },
  {
   "cell_type": "code",
   "execution_count": 10,
   "metadata": {},
   "outputs": [
    {
     "name": "stdout",
     "output_type": "stream",
     "text": [
      "Optimal K:4\n",
      "KNN score:0.9099606077658976\n",
      "KNN time elapsed:6.834737062454224\n"
     ]
    }
   ],
   "source": [
    "### classifying the Status with K-nearest neighbor on SMOTE-balanced data, no PCA ###\n",
    "from imblearn.over_sampling import SMOTE\n",
    "from sklearn.neighbors import KNeighborsClassifier\n",
    "from sklearn.model_selection import train_test_split\n",
    "from sklearn.metrics import confusion_matrix, classification_report \n",
    "import time\n",
    "np.random.seed(0)\n",
    "\n",
    "X_train, X_test, y_train, y_test = train_test_split(df[feat_columns], df['Status'], test_size=0.3)\n",
    "\n",
    "y_train = y_train.astype(int) #need to convert to int for SMOTE \n",
    "\n",
    "# oversample with SMOTE technique\n",
    "oversample = SMOTE() \n",
    "X_train, y_train = oversample.fit_resample(X_train, y_train)\n",
    " \n",
    "knnscore = 0\n",
    "time_start = time.time()\n",
    "\n",
    "for i in range(3,20):\n",
    "    knn = KNeighborsClassifier(n_neighbors = i)\n",
    "\n",
    "    knn.fit(X_train, y_train)\n",
    "    knn_score = knn.score(X_test, y_test)\n",
    "    y_pred = knn.predict(X_test)\n",
    "    if knn_score > knnscore:\n",
    "        knnscore = knn_score\n",
    "        a = i\n",
    "\n",
    "#print(confusion_matrix(y_test, y_pred))\n",
    "#print(classification_report(y_test, y_pred, digits=3))\n",
    "print(\"Optimal K:{}\".format(a))\n",
    "print(\"KNN score:{}\".format(knnscore))\n",
    "print(\"KNN time elapsed:{}\".format(time.time()-time_start))"
   ]
  },
  {
   "cell_type": "code",
   "execution_count": 11,
   "metadata": {},
   "outputs": [
    {
     "name": "stdout",
     "output_type": "stream",
     "text": [
      "Counter({1: 2100, 2: 1226, 5: 863, 0: 788, 3: 721, 6: 95, 8: 62, 4: 46, 7: 20})\n"
     ]
    },
    {
     "data": {
      "image/png": "[encoded data removed]",
      "text/plain": [
       "<Figure size 432x288 with 1 Axes>"
      ]
     },
     "metadata": {
      "needs_background": "light"
     },
     "output_type": "display_data"
    }
   ],
   "source": [
    "# investigate class imbalances in the cyclone status feature \n",
    "from collections import Counter\n",
    "counter = Counter(df['Status'])\n",
    "print(counter)\n",
    "plt.hist(df['Status'])\n",
    "plt.title('Histogram of Cyclone Status')\n",
    "plt.xlabel('Cyclone Status')\n",
    "plt.ylabel('Occurences')\n",
    "plt.show()"
   ]
  },
  {
   "cell_type": "code",
   "execution_count": 12,
   "metadata": {},
   "outputs": [
    {
     "name": "stdout",
     "output_type": "stream",
     "text": [
      "Counter({0: 2100, 1: 2100, 2: 2100, 3: 2100, 4: 2100, 5: 2100, 6: 2100, 7: 2100, 8: 2100})\n"
     ]
    },
    {
     "data": {
      "image/png": "[encoded data removed]",
      "text/plain": [
       "<Figure size 432x288 with 1 Axes>"
      ]
     },
     "metadata": {
      "needs_background": "light"
     },
     "output_type": "display_data"
    }
   ],
   "source": [
    "from imblearn.over_sampling import RandomOverSampler\n",
    "from imblearn.under_sampling import RandomUnderSampler\n",
    "from imblearn.pipeline import Pipeline\n",
    "\n",
    "feat_columns = ['Maximum Wind', 'Minimum Pressure', 'Low Wind NE',\n",
    "       'Low Wind SE', 'Low Wind SW', 'Low Wind NW', 'Moderate Wind NE',\n",
    "       'Moderate Wind SE', 'Moderate Wind SW', 'Moderate Wind NW',\n",
    "       'High Wind NE', 'High Wind SE', 'High Wind SW', 'High Wind NW']\n",
    "\n",
    "# transform the dataset with SMOTE \n",
    "oversample = SMOTE()\n",
    "X_balanced, y_balanced = oversample.fit_resample(df[feat_columns], df['Status'])\n",
    "\n",
    "# count samples in new data\n",
    "counter = Counter(y_balanced)\n",
    "print(counter)\n",
    "\n",
    "plt.hist(y_balanced)\n",
    "plt.title('Histogram of Balanced Status')\n",
    "plt.xlabel('Cyclone Status')\n",
    "plt.ylabel('Occurences')\n",
    "plt.show()\n"
   ]
  },
  {
   "cell_type": "markdown",
   "metadata": {},
   "source": [
    "#### KNN using PCA and SMOTE-Imbalanced Data"
   ]
  },
  {
   "cell_type": "markdown",
   "metadata": {},
   "source": [
    "Principle Component Analysis (PCA) combined with KNN will reduce the dimensionality of the model and results in lower compute times. Since PCA eliminates redundant information, combining it with KNN will result in improved performance."
   ]
  },
  {
   "cell_type": "code",
   "execution_count": 13,
   "metadata": {
    "scrolled": true
   },
   "outputs": [
    {
     "name": "stdout",
     "output_type": "stream",
     "text": [
      "(4144, 14)\n",
      "Optimal K:16\n",
      "KNN score:0.7884074282498593\n",
      "KNN time elapsed:5.4188292026519775\n"
     ]
    }
   ],
   "source": [
    "### classifying the Status with K-nearest neighbor using PCA, imbalanced data###\n",
    "from sklearn.neighbors import KNeighborsClassifier\n",
    "from sklearn.model_selection import train_test_split\n",
    "import time\n",
    "np.random.seed(0)\n",
    "\n",
    "X_train, X_test, y_train, y_test = train_test_split(df[feat_columns], df['Status'], test_size=0.3)\n",
    "\n",
    "pca.fit(X_train, y_train)\n",
    "print(X_train.shape)\n",
    "\n",
    "scores = {}\n",
    "time_start = time.time()\n",
    "\n",
    "# find optimal k\n",
    "for i in range(2,int(np.sqrt(df.shape[0]))):\n",
    "    knn_unbalanced = KNeighborsClassifier(n_neighbors = i)\n",
    "    \n",
    "    knn_unbalanced.fit(pca.transform(X_train), y_train)\n",
    "    knn_score = knn_unbalanced.score(pca.transform(X_test), y_test)\n",
    "\n",
    "    scores[i] = knn_score\n",
    "\n",
    "# choose best k and train model again\n",
    "opt_k = max(scores, key=scores.get)\n",
    "knn_unbalanced = KNeighborsClassifier(n_neighbors = opt_k)\n",
    "knn_unbalanced.fit(pca.transform(X_train), y_train)\n",
    "y_pred = knn_unbalanced.predict(pca.transform(X_test))\n",
    "\n",
    "#print(confusion_matrix(y_test, y_pred))\n",
    "#print(classification_report(y_test, y_pred, digits=3, zero_division=0))\n",
    "print(f\"Optimal K:{opt_k}\")\n",
    "print(f\"KNN score:{scores[opt_k]}\")\n",
    "print(f\"KNN time elapsed:{time.time()-time_start}\")"
   ]
  },
  {
   "cell_type": "markdown",
   "metadata": {},
   "source": [
    "#### KNN using PCA and SMOTE-Balanced Data"
   ]
  },
  {
   "cell_type": "code",
   "execution_count": 14,
   "metadata": {},
   "outputs": [
    {
     "name": "stdout",
     "output_type": "stream",
     "text": [
      "Optimal K:3\n",
      "KNN score:0.6859876195835678\n",
      "KNN time elapsed:5.957917213439941\n"
     ]
    }
   ],
   "source": [
    "### classifying the Status with K-nearest neighbor on SMOTE-balanced data, using PCA  ###\n",
    "X_train, X_test, y_train, y_test = train_test_split(df[feat_columns], df['Status'], test_size=0.3)\n",
    "y_train = y_train.astype(int) #need to convert to int for SMOTE \n",
    "\n",
    "# oversample with SMOTE technique\n",
    "oversample = SMOTE() \n",
    "X_train_balanced, y_train_balanced = oversample.fit_resample(X_train, y_train)\n",
    " \n",
    "pca.fit(X_train_balanced, y_train_balanced)\n",
    "\n",
    "scores = {}\n",
    "time_start = time.time()\n",
    "\n",
    "# find optimal k\n",
    "for i in range(2,int(np.sqrt(df.shape[0]))):\n",
    "    knn_balanced = KNeighborsClassifier(n_neighbors = i)\n",
    "    \n",
    "    knn_balanced.fit(pca.transform(X_train_balanced), y_train_balanced)\n",
    "    knn_score = knn_balanced.score(pca.transform(X_test), y_test)\n",
    "\n",
    "    scores[i] = knn_score\n",
    "\n",
    "# choose best k and train model again\n",
    "opt_k = max(scores, key=scores.get)\n",
    "knn_balanced = KNeighborsClassifier(n_neighbors = opt_k)\n",
    "knn_balanced.fit(pca.transform(X_train_balanced), y_train_balanced)\n",
    "y_pred = knn_balanced.predict(pca.transform(X_test))\n",
    "\n",
    "#print(confusion_matrix(y_test, y_pred))\n",
    "#print(classification_report(y_test, y_pred, digits=3, zero_division=0))\n",
    "print(f\"Optimal K:{opt_k}\")\n",
    "print(f\"KNN score:{scores[opt_k]}\")\n",
    "print(f\"KNN time elapsed:{time.time()-time_start}\")"
   ]
  },
  {
   "cell_type": "markdown",
   "metadata": {},
   "source": [
    "#### KNN using PCA Analysis with Random Oversampling Balanced Data"
   ]
  },
  {
   "cell_type": "code",
   "execution_count": 15,
   "metadata": {},
   "outputs": [
    {
     "name": "stdout",
     "output_type": "stream",
     "text": [
      "Optimal K:6\n",
      "KNN Accuracy:0.7231288688801351\n",
      "KNN time elapsed:5.431770086288452\n"
     ]
    }
   ],
   "source": [
    "### classifying the Status with K-nearest neighbor on randomly oversampled balanced data, using PCA  ###\n",
    "\n",
    "# oversample with SMOTE technique\n",
    "oversample = RandomOverSampler(sampling_strategy='minority')\n",
    "X_train_oversample, y_train_oversample = oversample.fit_resample(X_train, y_train)\n",
    " \n",
    "pca.fit(X_train_oversample, y_train_oversample)\n",
    "\n",
    "scores = {}\n",
    "time_start = time.time()\n",
    "\n",
    "# find optimal k\n",
    "for i in range(2,int(np.sqrt(df.shape[0]))):\n",
    "    knn_balanced = KNeighborsClassifier(n_neighbors = i)\n",
    "    \n",
    "    knn_balanced.fit(pca.transform(X_train_oversample), y_train_oversample)\n",
    "    knn_score = knn_balanced.score(pca.transform(X_test), y_test)\n",
    "\n",
    "    scores[i] = knn_score\n",
    "\n",
    "# choose best k and train model again\n",
    "opt_k = max(scores, key=scores.get)\n",
    "knn_balanced = KNeighborsClassifier(n_neighbors = opt_k)\n",
    "knn_balanced.fit(pca.transform(X_train_oversample), y_train_oversample)\n",
    "y_pred = knn_balanced.predict(pca.transform(X_test))\n",
    "\n",
    "#print(confusion_matrix(y_test, y_pred))\n",
    "#print(classification_report(y_test, y_pred, digits=3, zero_division=0))\n",
    "print(f\"Optimal K:{opt_k}\")\n",
    "print(f\"KNN Accuracy:{scores[opt_k]}\")\n",
    "print(f\"KNN time elapsed:{time.time()-time_start}\")"
   ]
  },
  {
   "cell_type": "markdown",
   "metadata": {},
   "source": [
    "The chart below shows the results for the previous 4 techniques. When comparing the previous KNN/PCA methods it is apparent that KNN using SMOTE-Balanced Data produces the largest KNN Score. However, including PCA will help prevent oversampling and reduce runtime. For larger datasets and more complex algorithms, it will be benificial for to use PCA. For the next classification techniques, we will be incorporating PCA.\n",
    "\n",
    "| Method                                               | Optimal K | KNN Score | Time (s)|\n",
    "| ---------------------------------------------------- | --------- | --------- | ------- |\n",
    "| KNN using SMOTE-Balanced Data                        | 4         | 0.90996   | 6.83    |\n",
    "| KNN using PCA and SMOTE-Imbalanced Data              | 16        | 0.78840   | 5.42    |\n",
    "| KNN using PCA and SMOTE-Balanced Data                | 3         | 0.68599   | 5.96    |\n",
    "| KNN using PCA and Random Oversampling Balanced Data  | 6         | 0.72312   | 5.43    |"
   ]
  },
  {
   "cell_type": "markdown",
   "metadata": {},
   "source": [
    "### SVM Classification <a class=\"anchor\" id=\"svm-classification\"></a>\n",
    "Support Vector Machines (SVMs) can be used for data classification. Below we attempt to classify the status of a hurrican using the `sklearn` libraries."
   ]
  },
  {
   "cell_type": "code",
   "execution_count": 16,
   "metadata": {},
   "outputs": [
    {
     "name": "stdout",
     "output_type": "stream",
     "text": [
      "SVM time elapsed:1897.75146818161\n",
      "Optimum hyperparameters:SVC(C=100.0, gamma=5e-05)\n"
     ]
    }
   ],
   "source": [
    "### classifying the Status with Support Vector Machine on class unbalanced data###\n",
    "from sklearn.svm import SVC\n",
    "from sklearn.model_selection import GridSearchCV\n",
    "\n",
    "time_start = time.time()\n",
    "\n",
    "sigmas = np.array([1e-3, 1e-2, 1e-1, 1, 10, 100])\n",
    "gammas = 1. / 2 / sigmas**2\n",
    "\n",
    "alphas = np.array([1e-6, 1e-5, 1e-4, 1e-3, 1e-2, 1e-1, 1])\n",
    "Cs = 1 / alphas\n",
    "\n",
    "parameter_ranges = {'C': Cs, 'gamma': gammas}\n",
    "\n",
    "svc = SVC(kernel = 'rbf')\n",
    "\n",
    "svc_search = GridSearchCV(svc, parameter_ranges, cv = 3)\n",
    "svc_search.fit(pca.transform(X_train), y_train)\n",
    "print(\"SVM time elapsed:{}\".format(time.time()-time_start))\n",
    "print(\"Optimum hyperparameters:{}\".format(svc_search.best_estimator_))"
   ]
  },
  {
   "cell_type": "code",
   "execution_count": 17,
   "metadata": {},
   "outputs": [
    {
     "name": "stdout",
     "output_type": "stream",
     "text": [
      "SVM score:0.799099606077659\n"
     ]
    }
   ],
   "source": [
    "best_svc = svc_search.best_estimator_\n",
    "print(\"SVM score:{}\".format(best_svc.score(pca.transform(X_test), y_test)))"
   ]
  },
  {
   "cell_type": "markdown",
   "metadata": {},
   "source": [
    "### Decision Tree Classification <a class=\"anchor\" id=\"decision-tree-classification\"></a>\n",
    "A decision tree is non-parametric supervised learning method used for classification which we will use for classifying hurricane status. The tree's goal is to create a model that predicts the status by learning simple decision rules created from the feature data."
   ]
  },
  {
   "cell_type": "markdown",
   "metadata": {},
   "source": [
    "#### Decision Tree using Unbalanced Data"
   ]
  },
  {
   "cell_type": "code",
   "execution_count": 18,
   "metadata": {},
   "outputs": [
    {
     "name": "stdout",
     "output_type": "stream",
     "text": [
      "Decision Tree score:0.7867191896454699\n",
      "Decision Tree time elapsed:0.025235891342163086\n"
     ]
    }
   ],
   "source": [
    "### classifying the unbalanced data Status with Decision tree ###\n",
    "from sklearn.tree import DecisionTreeClassifier\n",
    "\n",
    "time_start = time.time()\n",
    "\n",
    "tree = DecisionTreeClassifier()\n",
    "tree.fit(pca.transform(X_train), y_train)\n",
    "y_pred = tree.predict(pca.transform(X_test))\n",
    "\n",
    "#print(confusion_matrix(y_test, y_pred))\n",
    "#print(classification_report(y_test, y_pred, digits=3, zero_division=0))\n",
    "print(\"Decision Tree score:{}\".format(tree.score(pca.transform(X_test), y_test)))\n",
    "print(\"Decision Tree time elapsed:{}\".format(time.time()-time_start))"
   ]
  },
  {
   "cell_type": "markdown",
   "metadata": {},
   "source": [
    "#### Decision Tree using SMOTE Balanced Data"
   ]
  },
  {
   "cell_type": "code",
   "execution_count": 19,
   "metadata": {},
   "outputs": [
    {
     "name": "stdout",
     "output_type": "stream",
     "text": [
      "Decision Tree Accuracy:0.6432189082723692\n",
      "Decision Tree time elapsed:0.0546259880065918\n"
     ]
    }
   ],
   "source": [
    "## Decision tree on SMOTE balanced data ##\n",
    "time_start = time.time()\n",
    "\n",
    "tree = DecisionTreeClassifier()\n",
    "tree.fit(pca.transform(X_train_balanced), y_train_balanced)\n",
    "y_pred = tree.predict(pca.transform(X_test))\n",
    "\n",
    "#print(confusion_matrix(y_test, y_pred))\n",
    "#print(classification_report(y_test, y_pred, digits=3, zero_division=0))\n",
    "print(\"Decision Tree Accuracy:{}\".format(tree.score(pca.transform(X_test), y_test)))\n",
    "print(\"Decision Tree time elapsed:{}\".format(time.time()-time_start))"
   ]
  },
  {
   "cell_type": "markdown",
   "metadata": {},
   "source": [
    "#### Decision Tree using Randomly Oversampled Balanced Data"
   ]
  },
  {
   "cell_type": "code",
   "execution_count": 20,
   "metadata": {},
   "outputs": [
    {
     "name": "stdout",
     "output_type": "stream",
     "text": [
      "Decision Tree Accuracy:0.7220033764772088\n",
      "Decision Tree time elapsed:0.030369997024536133\n"
     ]
    }
   ],
   "source": [
    "## Decision tree on randomly oversampled balanced data ##\n",
    "time_start = time.time()\n",
    "\n",
    "tree = DecisionTreeClassifier()\n",
    "tree.fit(pca.transform(X_train_oversample), y_train_oversample)\n",
    "y_pred = tree.predict(pca.transform(X_test))\n",
    "\n",
    "#print(confusion_matrix(y_test, y_pred))\n",
    "#print(classification_report(y_test, y_pred, digits=3, zero_division=0))\n",
    "print(\"Decision Tree Accuracy:{}\".format(tree.score(pca.transform(X_test), y_test)))\n",
    "print(\"Decision Tree time elapsed:{}\".format(time.time()-time_start))"
   ]
  },
  {
   "cell_type": "code",
   "execution_count": 21,
   "metadata": {},
   "outputs": [
    {
     "data": {
      "image/png": "[encoded data removed]",
      "text/plain": [
       "<Figure size 1080x576 with 2 Axes>"
      ]
     },
     "metadata": {
      "needs_background": "light"
     },
     "output_type": "display_data"
    }
   ],
   "source": [
    "### visualizing the performace of decision tree ###\n",
    "y_trainpredict = tree.predict(pca.transform(X_train))\n",
    "heatmap_train = confusion_matrix(y_train, y_trainpredict)\n",
    "\n",
    "y_testpredict = tree.predict(pca.transform(X_test))\n",
    "heatmap_test = confusion_matrix(y_test, y_testpredict)\n",
    "\n",
    "fig, axes = plt.subplots(1, 2, figsize = (15, 8))\n",
    "sns.heatmap(heatmap_train, annot = True, cbar = False, linewidth = .5, ax = axes[0], fmt = 'd')\n",
    "sns.heatmap(heatmap_test, annot = True, cbar = False, linewidth = .5, ax = axes[1], fmt = 'd')\n",
    "\n",
    "axes[0].set_xlabel('Actual Class')\n",
    "axes[0].set_ylabel('Predicted Class')\n",
    "axes[0].set_title('Performance on the Training Set')\n",
    "\n",
    "axes[1].set_xlabel('Actual Class')\n",
    "axes[1].set_ylabel('Predicted Class')\n",
    "axes[1].set_title('Performance on the Test Set');"
   ]
  },
  {
   "cell_type": "markdown",
   "metadata": {},
   "source": [
    "| Decision Tree Method                            | Accuracy | Time (s) | \n",
    "| ----------------------------------------------- | -------- | ---- |\n",
    "| Decision Tree using Unbalanced Data             | 0.78672  | 0.025 |\n",
    "| Decision Tree using SMOTE Balanced Data         | 0.64322  | 0.055 |\n",
    "| Decision Tree Random Oversampling Balanced Data | 0.72201  | 0.031 |"
   ]
  },
  {
   "cell_type": "markdown",
   "metadata": {},
   "source": [
    "### Random Forest Classification <a class=\"anchor\" id=\"random-forest-classification\"></a>\n",
    "Random forest is a classification works by harnessing the power of many decisions trees. It uses bagging and feature randomness when building each individual tree to  create an uncorrelated forest of trees. The predictions generated by random forest should prove to be more accurate than that of a decision tree.\n",
    "\n",
    "#### Random Forest using Unbalanced Data"
   ]
  },
  {
   "cell_type": "code",
   "execution_count": 22,
   "metadata": {},
   "outputs": [
    {
     "name": "stdout",
     "output_type": "stream",
     "text": [
      "Random Forest Accuracy:0.8142937535171637\n",
      "Random Forest time elapsed:0.07312989234924316\n"
     ]
    }
   ],
   "source": [
    "## Random forest classifier on unbalanced data##\n",
    "from sklearn.ensemble import RandomForestClassifier\n",
    "\n",
    "# define the model\n",
    "model = RandomForestClassifier(n_estimators=100, criterion='gini')\n",
    "# fit the model on the whole dataset\n",
    "model.fit(pca.transform(X_train), y_train)\n",
    "time_start = time.time()\n",
    "\n",
    "y_pred = model.predict(pca.transform(X_test))\n",
    "#print(confusion_matrix(y_test, y_pred))\n",
    "#print(classification_report(y_test, y_pred, digits=3, zero_division=0))\n",
    "print(\"Random Forest Accuracy:{}\".format(model.score(pca.transform(X_test), y_test)))\n",
    "print(\"Random Forest time elapsed:{}\".format(time.time()-time_start))"
   ]
  },
  {
   "cell_type": "markdown",
   "metadata": {},
   "source": [
    "#### Random Forest using SMOTE Balanced Data"
   ]
  },
  {
   "cell_type": "code",
   "execution_count": 23,
   "metadata": {},
   "outputs": [
    {
     "name": "stdout",
     "output_type": "stream",
     "text": [
      "Random Forest Accuracy:0.6657287563308948\n",
      "Random Forest time elapsed:0.07375693321228027\n"
     ]
    }
   ],
   "source": [
    "## Random forest classifier on SMOTE balanced data##\n",
    "from sklearn.ensemble import RandomForestClassifier\n",
    "\n",
    "# define the model\n",
    "model = RandomForestClassifier(n_estimators=100, criterion='gini')\n",
    "# fit the model on the whole dataset\n",
    "model.fit(pca.transform(X_train_balanced), y_train_balanced)\n",
    "time_start = time.time()\n",
    "\n",
    "y_pred = model.predict(pca.transform(X_test))\n",
    "#print(confusion_matrix(y_test, y_pred))\n",
    "#print(classification_report(y_test, y_pred, digits=3, zero_division=0))\n",
    "\n",
    "print(\"Random Forest Accuracy:{}\".format(model.score(pca.transform(X_test), y_test)))\n",
    "print(\"Random Forest time elapsed:{}\".format(time.time()-time_start))"
   ]
  },
  {
   "cell_type": "markdown",
   "metadata": {},
   "source": [
    "#### Random Forest using Randomly Oversampled Balanced Data"
   ]
  },
  {
   "cell_type": "code",
   "execution_count": 25,
   "metadata": {},
   "outputs": [
    {
     "name": "stdout",
     "output_type": "stream",
     "text": [
      "Random Forest Accuracy:0.7467642093415869\n",
      "Random Forest time elapsed:0.07134509086608887\n"
     ]
    }
   ],
   "source": [
    "## Random forest classifier on randomly oversampled balanced data##\n",
    "from sklearn.ensemble import RandomForestClassifier\n",
    "\n",
    "# define the model\n",
    "model = RandomForestClassifier(n_estimators=100)\n",
    "# fit the model on the whole dataset\n",
    "model.fit(pca.transform(X_train_oversample), y_train_oversample)\n",
    "time_start = time.time()\n",
    "\n",
    "y_pred = model.predict(pca.transform(X_test))\n",
    "#print(confusion_matrix(y_test, y_pred))\n",
    "#print(classification_report(y_test, y_pred, digits=3, zero_division=0))\n",
    "print(\"Random Forest Accuracy:{}\".format(model.score(pca.transform(X_test), y_test)))\n",
    "print(\"Random Forest time elapsed:{}\".format(time.time()-time_start))"
   ]
  },
  {
   "cell_type": "code",
   "execution_count": 27,
   "metadata": {},
   "outputs": [
    {
     "name": "stdout",
     "output_type": "stream",
     "text": [
      "Random Forest Accuracy:0.9026449071468767\n",
      "Random Forest time elapsed:0.06871294975280762\n"
     ]
    }
   ],
   "source": [
    "# can achieve higher accuracy when taking into account lat/lon\n",
    "test_cols = ['Latitude',\n",
    "       'Longitude', 'Maximum Wind', 'Minimum Pressure', 'Low Wind NE',\n",
    "       'Low Wind SE', 'Low Wind SW', 'Low Wind NW', 'Moderate Wind NE',\n",
    "       'Moderate Wind SE', 'Moderate Wind SW', 'Moderate Wind NW',\n",
    "       'High Wind NE', 'High Wind SE', 'High Wind SW', 'High Wind NW']\n",
    "\n",
    "xtr, xt, ytr, yt = train_test_split(df[test_cols], df['Status'], test_size=0.3)\n",
    "\n",
    "model = RandomForestClassifier(n_estimators=100, criterion='gini')\n",
    "# fit the model on the whole dataset\n",
    "model.fit(xtr, ytr)\n",
    "time_start = time.time()\n",
    "\n",
    "y_pred = model.predict(xt)\n",
    "#print(confusion_matrix(yt, y_pred))\n",
    "#print(classification_report(yt, y_pred, digits=3, zero_division=0))\n",
    "print(\"Random Forest Accuracy:{}\".format(model.score(xt, yt)))\n",
    "print(\"Random Forest time elapsed:{}\".format(time.time()-time_start))"
   ]
  },
  {
   "cell_type": "markdown",
   "metadata": {},
   "source": [
    "| Random Forest Method                                          | Accuracy | Time | \n",
    "| ----------------------------------------------- | -------- | ---- |\n",
    "| Random Forest using Unbalanced Data             | 0.81429 | 0.073 |\n",
    "| Random Forest using SMOTE Balanced Data         | 0.66573 | 0.074 |\n",
    "| Random Forest Random Oversampling Balanced Data | 0.74001 | 0.070 |"
   ]
  },
  {
   "cell_type": "markdown",
   "metadata": {},
   "source": [
    "### Gaussian Naive Bayes Classification <a class=\"anchor\" id=\"gaussian-nb-classification\"></a>\n",
    "Gaussian Naive Bayes classification uses supervised learning algorithms to applying Bayes’ theorem with the “naive” assumption of conditional independence between every pair of features given the value of the class variable. Below is an implementation of this classification technique using `sklearn`."
   ]
  },
  {
   "cell_type": "code",
   "execution_count": 26,
   "metadata": {},
   "outputs": [
    {
     "name": "stdout",
     "output_type": "stream",
     "text": [
      "Gaussian NB Accuracy:0.6010129431626337\n",
      "Gaussian NB time elapsed:0.009894132614135742\n"
     ]
    }
   ],
   "source": [
    "### classifying the Status with Guassian Naive Bayes ###\n",
    "\n",
    "from sklearn.naive_bayes import GaussianNB\n",
    "\n",
    "time_start = time.time()\n",
    "\n",
    "NB = GaussianNB()\n",
    "NB.fit(pca.transform(X_train), y_train)\n",
    "NB_score = NB.score(pca.transform(X_test), y_test)\n",
    "\n",
    "print(\"Gaussian NB Accuracy:{}\".format(NB_score))\n",
    "print(\"Gaussian NB time elapsed:{}\".format(time.time()-time_start))"
   ]
  },
  {
   "cell_type": "markdown",
   "metadata": {},
   "source": [
    "### Classification Conclusion <a class=\"anchor\" id=\"classification-conclusion\"></a>\n",
    "\n",
    "| Method                                               | Accuracy|  Time   | \n",
    "| ---------------------------------------------------- | ------- | ------- |\n",
    "| KNN using SMOTE-Balanced Data                        | 0.90996 | 6.83    |\n",
    "| KNN using PCA and SMOTE-Imbalanced Data              | 0.78840 | 5.42    |\n",
    "| KNN using PCA and SMOTE-Balanced Data                | 0.68599 | 5.96    |\n",
    "| KNN using PCA and Random Oversampling Balanced Data  | 0.72312 | 5.43    |\n",
    "| SVM using Unbalance Data                             | 0.79910 | 1897.75 |\n",
    "| Decision Tree using Unbalanced Data                  | 0.78672 | 0.025   |\n",
    "| Decision Tree using SMOTE Balanced Data              | 0.64322 | 0.055   |\n",
    "| Decision Tree Random Oversampling Balanced Data      | 0.72201 | 0.031   |\n",
    "| Random Forest using Unbalanced Data                  | 0.81429 | 0.073   |\n",
    "| Random Forest using SMOTE Balanced Data              | 0.66573 | 0.074   |\n",
    "| Random Forest Random Oversampling Balanced Data      | 0.74001 | 0.070   |\n",
    "| Gaussian Naive Bayes                                 | 0.60101 | 0.010   |\n",
    "\n",
    "When looking at the results of the classification algorithms using unbalanced data, all the classification algorithms resulted in a decent score (close to 80%) except for the Gaussian Naive Bayes method. Training the models on the class balanced data (whether with SMOTE or random oversampling) helps with precision and recall on the minority classes, while the overall weighted precision goes down. Depending on the use case, the user would need to know the limitations of the model. SVM with gridsearch takes a significant amount of time and should not be used for our purposes. The score is only slightly higher on average but not significantly different. The most reasonable method for classification based on the results is Random Forest."
   ]
  },
  {
   "cell_type": "markdown",
   "metadata": {},
   "source": [
    "Hurrican Trajectory Prediction with a RNN"
   ]
  },
  {
   "cell_type": "code",
   "execution_count": null,
   "metadata": {},
   "outputs": [],
   "source": [
    "# create array of hurricane ids\n",
    "np.random.seed(0)\n",
    "hurricane_ids = pd.unique(df[df['Status']==2]['ID'])\n",
    "\n",
    "# save ids of 80% of hurricanes for training\n",
    "training_hurricanes = np.random.choice(hurricane_ids, size=int(hurricane_ids.shape[0]*0.8), replace=False)\n",
    "# save remaining 20% for testing\n",
    "test_hurricanes = np.setdiff1d(hurricane_ids, training_hurricanes)"
   ]
  },
  {
   "cell_type": "code",
   "execution_count": null,
   "metadata": {},
   "outputs": [],
   "source": [
    "# build training sets of hurricanes\n",
    "from sklearn.preprocessing import MinMaxScaler, MaxAbsScaler\n",
    "\n",
    "columns = ['ID', 'Latitude', 'Longitude', 'Maximum Wind', 'Minimum Pressure', 'Low Wind NE',\n",
    "       'Low Wind SE', 'Low Wind SW', 'Low Wind NW', 'Moderate Wind NE',\n",
    "       'Moderate Wind SE', 'Moderate Wind SW', 'Moderate Wind NW',\n",
    "       'High Wind NE', 'High Wind SE', 'High Wind SW', 'High Wind NW']\n",
    "\n",
    "dfx = df[df['Time'].isin([0, 600, 1200, 1800])][columns]\n",
    "data = dfx.to_numpy()\n",
    "data_feat = data[:, 3:]\n",
    "data_label = data[:, 1:3] # lat/lon\n",
    "scaler_feat = MinMaxScaler() #Scaling with MinMaxScaler method\n",
    "scaler_labels = MaxAbsScaler()\n",
    "data[:, 1:3] = scaler_labels.fit_transform(data[:, 1:3])\n",
    "data[:, 3:] = scaler_feat.fit_transform(data[:, 3:])\n",
    "\n",
    "training_feat_sets = []\n",
    "training_label_sets = []\n",
    "for i in training_hurricanes: \n",
    "    d = data[data[:, 0] == i]\n",
    "    # no need to sort by time, df already sorted \n",
    "    feat = d[:, 1:]\n",
    "    feat = feat.astype(np.float)\n",
    "    labels = d[:, 1:3]\n",
    "    labels = labels.astype(np.float)\n",
    "    training_feat_sets.append(feat)\n",
    "    training_label_sets.append(labels)   \n",
    "    \n",
    "test_feat_sets = []\n",
    "test_label_sets = []\n",
    "for i in test_hurricanes: \n",
    "    d = data[data[:, 0] == i]\n",
    "    # no need to sort by time, df already sorted \n",
    "    feat = d[:, 1:]\n",
    "    feat = feat.astype(np.float)\n",
    "    labels = d[:, 1:3]\n",
    "    labels = labels.astype(np.float)\n",
    "    test_feat_sets.append(feat)\n",
    "    test_label_sets.append(labels)   \n"
   ]
  },
  {
   "cell_type": "code",
   "execution_count": null,
   "metadata": {},
   "outputs": [],
   "source": [
    "from tensorflow.python.keras.models import Sequential\n",
    "from tensorflow.python.keras.layers import LSTM, Dense, Activation, TimeDistributed, Bidirectional, Dropout, ConvLSTM2D, Flatten, LeakyReLU\n",
    "from tensorflow.python.keras.preprocessing.sequence import TimeseriesGenerator\n",
    "\n",
    "# simple model\n",
    "def build_simple_model():\n",
    "    model = Sequential()\n",
    "    model.add(LSTM(8, input_shape=(5, 16),return_sequences=True, recurrent_activation='tanh', recurrent_dropout=0.2))\n",
    "    model.add(Dense(2))\n",
    "\n",
    "    model.compile(loss=\"mse\", optimizer=\"rmsprop\")\n",
    "    return model"
   ]
  },
  {
   "cell_type": "code",
   "execution_count": null,
   "metadata": {},
   "outputs": [],
   "source": [
    "# 2-Stacked model\n",
    "\n",
    "def build_stacked_model():\n",
    "    model = Sequential()\n",
    "    model.add(LSTM(50, input_shape=(None, 16),return_sequences=True, recurrent_activation='tanh', recurrent_dropout=0.2))\n",
    "    model.add(LSTM(50, return_sequences=True, recurrent_dropout=0.2, recurrent_dropout=0.2))    \n",
    "    model.add(Dense(2))\n",
    "\n",
    "    model.compile(loss=\"mse\", optimizer=\"rmsprop\")\n",
    "    return model"
   ]
  },
  {
   "cell_type": "code",
   "execution_count": null,
   "metadata": {},
   "outputs": [],
   "source": [
    "simple_model = build_simple_model()\n",
    "stacked_model = build_stacked_model()\n",
    "\n",
    "# train by one hurricane at a time\n",
    "for feats, labels in zip(training_feat_sets, training_label_sets):  \n",
    "    generator = TimeseriesGenerator(feats, labels, length=5, batch_size=1, reverse=False) \n",
    "    simple_model.fit(generator, epochs=5, verbose=0)  # verbose=1 to get epoch output\n",
    "    stacked_model.fit(generator, epochs=5, verbose=0)"
   ]
  },
  {
   "cell_type": "code",
   "execution_count": null,
   "metadata": {},
   "outputs": [],
   "source": [
    "# print MSE of last hurricane used as test set\n",
    "simple_train_score = simple.evaluate(generator, verbose=0)\n",
    "stacked_train_score = stacked_model.evaluate(generator, verbose=0)\n",
    "print(f'Simple Train Score: {simple_train_score:.4f} MSE')\n",
    "print(f'Stacked Train Score: {simple_train_score:.4f} MSE')"
   ]
  },
  {
   "cell_type": "code",
   "execution_count": null,
   "metadata": {},
   "outputs": [],
   "source": [
    "# build dictionaries to store predictions, scores, and test holdout\n",
    "preds_simple = {i:{'pred':None, 'hold':None, 'score':None, 'test': None} for i in range(len(test_feat_sets))}\n",
    "preds_stacked = {i:{'pred':None, 'hold':None, 'score':None, 'test': None} for i in range(len(test_feat_sets))}\n",
    "\n",
    "for i, (feats, labels) in enumerate(zip(test_feat_sets, test_label_sets)):\n",
    "    test_feat_input, _ = np.array_split(feats, 2)\n",
    "    test_label_input, test_label_hold = np.array_split(labels, 2)\n",
    "    preds_simple[i]['hold'] = test_label_hold\n",
    "    preds_simple[i]['test'] = test_label_input\n",
    "    preds_stacked[i]['hold'] = test_label_hold\n",
    "    preds_stacked[i]['test'] = test_label_input\n",
    "\n",
    "    test_feat_input = test_feat_input[-5:, None,:] # take latest 5 observations -> predict next 5\n",
    "    preds_simple[i]['score'] = simple_model.evaluate(test_feat_input, test_label_input[-5:, :], verbose=0)\n",
    "    preds_simple[i]['pred'] = simple_model.predict(test_feat_input)\n",
    "    preds_stacked[i]['score'] = stacked_model.evaluate(test_feat_input, test_label_input[-5:, :], verbose=0)\n",
    "    preds_stacked[i]['pred'] = stacked_model.predict(test_feat_input)\n",
    "    "
   ]
  },
  {
   "cell_type": "code",
   "execution_count": null,
   "metadata": {},
   "outputs": [],
   "source": [
    "test_mse_simple = 0\n",
    "test_mse_stacked = 0\n",
    "\n",
    "for i in preds_simple:\n",
    "    test_mse_simple += preds_simple[i]['score']\n",
    "    test_mse_stacked += preds_stacked[i]['score']\n",
    "print(f'Test MSE Simple Model = {test_mse_simple}')\n",
    "print(f'Test MSE Stacked Model = {test_mse_simple}')"
   ]
  },
  {
   "cell_type": "code",
   "execution_count": null,
   "metadata": {},
   "outputs": [],
   "source": [
    "import plotly.graph_objects as go\n",
    "from plotly.subplots import make_subplots\n",
    "\n",
    "def plot_dict(preds):\n",
    "    \"\"\"\n",
    "    Given the prediction dictionaries as created above, \n",
    "    create a plot with all of the test hurricanes\n",
    "    \"\"\"\n",
    "    fig = go.Figure()\n",
    "\n",
    "    for i in range(len(test_hurricanes)):\n",
    "        if isinstance(preds[i]['pred'], type(None)):\n",
    "            continue\n",
    "        coords = scaler_labels.inverse_transform(preds[i]['hold'])\n",
    "        test_coords = scaler_labels.inverse_transform(preds[i]['test'])\n",
    "        pred_coords = preds[i]['pred'][:, 0, :]\n",
    "        pred_coords = scaler_labels.inverse_transform(pred_coords)\n",
    "        fig.add_trace(go.Scattergeo(\n",
    "            lat = test_coords[:, 0],\n",
    "            lon = test_coords[:, 1],\n",
    "            mode = 'lines',\n",
    "            line = dict(\n",
    "                width=2,\n",
    "                color = 'orange',\n",
    "            ), name='Test Input', showlegend = True if i==0 else False,\n",
    "        ))\n",
    "        fig.add_trace(go.Scattergeo(\n",
    "            lat = coords[:4, 0],\n",
    "            lon = coords[:4, 1],\n",
    "            mode = 'markers',\n",
    "            marker = dict(\n",
    "                size=5,\n",
    "                color = 'blue',\n",
    "                symbol='x'\n",
    "            ), name='Actual Trajectory', showlegend = True if i==0 else False,\n",
    "        ))\n",
    "\n",
    "        fig.add_trace(go.Scattergeo(\n",
    "        lat = pred_coords[:, 0],\n",
    "        lon = pred_coords[:, 1],\n",
    "        mode = 'markers',\n",
    "        marker = dict(\n",
    "            size=5,\n",
    "            color = 'red',\n",
    "            symbol='x'\n",
    "        ), name='Predicted Trajectory', showlegend = True if i==0 else False,\n",
    "    ))\n",
    "\n",
    "    fig.update_layout(\n",
    "    width=1000, height=600,\n",
    "    title_text = 'Hurricane Trajectory (next 36 hrs)',\n",
    "    geo = dict(\n",
    "        resolution = 50,\n",
    "        showland = True,\n",
    "        showlakes = True,\n",
    "        landcolor = 'rgb(204, 204, 204)',\n",
    "        countrycolor = 'rgb(204, 204, 204)',\n",
    "        lakecolor = 'rgb(255, 255, 255)',\n",
    "        projection_type = \"equirectangular\",\n",
    "        coastlinewidth = 2,\n",
    "        lataxis = dict(\n",
    "            range = [0, 70],\n",
    "            showgrid = True,\n",
    "            dtick = 10\n",
    "        ),\n",
    "        lonaxis = dict(\n",
    "            range = [-100, 20],\n",
    "            showgrid = True,\n",
    "            dtick = 20\n",
    "        ),))\n",
    "\n",
    "    fig.show()"
   ]
  },
  {
   "cell_type": "code",
   "execution_count": null,
   "metadata": {},
   "outputs": [],
   "source": [
    "# Plot the simple model first\n",
    "\n",
    "plot_dict(preds_simple)"
   ]
  },
  {
   "cell_type": "code",
   "execution_count": null,
   "metadata": {},
   "outputs": [],
   "source": [
    "# Now plot the stacked model\n",
    "\n",
    "plot_dict(preds_stacked)"
   ]
  }
 ],
 "metadata": {
  "kernelspec": {
   "display_name": "Python 3 (ipykernel)",
   "language": "python",
   "name": "python3"
  },
  "language_info": {
   "codemirror_mode": {
    "name": "ipython",
    "version": 3
   },
   "file_extension": ".py",
   "mimetype": "text/x-python",
   "name": "python",
   "nbconvert_exporter": "python",
   "pygments_lexer": "ipython3",
   "version": "3.8.0"
  }
 },
 "nbformat": 4,
 "nbformat_minor": 4
}
